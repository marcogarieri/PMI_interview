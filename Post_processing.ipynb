{
 "cells": [
  {
   "cell_type": "markdown",
   "metadata": {},
   "source": [
    "# Post-processing"
   ]
  },
  {
   "cell_type": "code",
   "execution_count": 1,
   "metadata": {},
   "outputs": [],
   "source": [
    "%load_ext autoreload\n",
    "%autoreload 2\n",
    "\n",
    "%matplotlib inline"
   ]
  },
  {
   "cell_type": "markdown",
   "metadata": {},
   "source": [
    "Load libraries"
   ]
  },
  {
   "cell_type": "code",
   "execution_count": 2,
   "metadata": {},
   "outputs": [],
   "source": [
    "from fastai.imports import *\n",
    "from fastai.structured import *\n",
    "from sklearn.model_selection import train_test_split\n",
    "from sklearn.ensemble import RandomForestRegressor, RandomForestClassifier\n",
    "from sklearn import metrics\n",
    "from dill import load_session, dump_session"
   ]
  },
  {
   "cell_type": "markdown",
   "metadata": {},
   "source": [
    "Load environment"
   ]
  },
  {
   "cell_type": "code",
   "execution_count": 3,
   "metadata": {},
   "outputs": [],
   "source": [
    "load_session('tmp/globalsave.pkl')"
   ]
  },
  {
   "cell_type": "markdown",
   "metadata": {},
   "source": [
    "## Results post-processing (tl;dr)\n",
    " __Goal: understand which surroundings lead to top perfomance POS.__\n",
    "        - Filtered POSs without surrounding info\n",
    "        - For each POS we aggregated sales over time (problem to distinguish between open day or not selling day)\n",
    "        - Filter POSs without enough selling data points (more than 120 open days).\n",
    "        - Final dataset with 479 POSs.\n",
    "        \n",
    "        \n",
    "Info about geo location of the shop, to calculate distance from surroundings location."
   ]
  },
  {
   "cell_type": "markdown",
   "metadata": {},
   "source": [
    "## Preparation of final dataset\n",
    "\n",
    "### Filter POSs without surrounding "
   ]
  },
  {
   "cell_type": "markdown",
   "metadata": {},
   "source": [
    "Check how many POSs with surroundings info"
   ]
  },
  {
   "cell_type": "code",
   "execution_count": 4,
   "metadata": {},
   "outputs": [
    {
     "data": {
      "text/plain": [
       "(903, 546, 539, 0.597)"
      ]
     },
     "execution_count": 4,
     "metadata": {},
     "output_type": "execute_result"
    }
   ],
   "source": [
    "POSs_y = list(df_aggregate_per_day_short.store_code.unique())\n",
    "POSs_surr = list(metadata_no_day.store_code)\n",
    "\n",
    "len(POSs_y), len(POSs_surr), sum([x in POSs_surr for x in POSs_y]), round(sum([x in POSs_surr for x in POSs_y])/len(POSs_y),3)"
   ]
  },
  {
   "cell_type": "markdown",
   "metadata": {},
   "source": [
    "Info about surroudings for ~60% POSs."
   ]
  },
  {
   "cell_type": "code",
   "execution_count": 5,
   "metadata": {},
   "outputs": [
    {
     "data": {
      "text/plain": [
       "[12028, 15133, 20447, 24370, 29459, 32289]"
      ]
     },
     "execution_count": 5,
     "metadata": {},
     "output_type": "execute_result"
    }
   ],
   "source": [
    "POSs_with_surr_no_y = list(set(POSs_surr)-set(POSs_y))\n",
    "POSs_with_surr_no_y.sort()\n",
    "POSs_with_surr_no_y"
   ]
  },
  {
   "cell_type": "markdown",
   "metadata": {},
   "source": [
    "For 6 POSs we have info about the surroundings but without information on selling. \n",
    "\n",
    "\n",
    "_Since the goal of the analysis is to understand which surroundings leads to top POS performances, we removed from all further analyses the POSs without surrounding information._"
   ]
  },
  {
   "cell_type": "code",
   "execution_count": 6,
   "metadata": {},
   "outputs": [],
   "source": [
    "df_aggregate_per_day_short_with_info = df_aggregate_per_day_short[df_aggregate_per_day_short.store_code.isin(POSs_surr)]"
   ]
  },
  {
   "cell_type": "markdown",
   "metadata": {},
   "source": [
    "### Closing vs not-selling days?\n",
    "Investigate how many days POS open."
   ]
  },
  {
   "cell_type": "code",
   "execution_count": 7,
   "metadata": {},
   "outputs": [
    {
     "data": {
      "text/html": [
       "<div>\n",
       "<style scoped>\n",
       "    .dataframe tbody tr th:only-of-type {\n",
       "        vertical-align: middle;\n",
       "    }\n",
       "\n",
       "    .dataframe tbody tr th {\n",
       "        vertical-align: top;\n",
       "    }\n",
       "\n",
       "    .dataframe thead th {\n",
       "        text-align: right;\n",
       "    }\n",
       "</style>\n",
       "<table border=\"1\" class=\"dataframe\">\n",
       "  <thead>\n",
       "    <tr style=\"text-align: right;\">\n",
       "      <th></th>\n",
       "      <th>store_code</th>\n",
       "      <th>days</th>\n",
       "      <th>days_sell</th>\n",
       "      <th>volume_tot</th>\n",
       "      <th>prop_selling_days</th>\n",
       "    </tr>\n",
       "  </thead>\n",
       "  <tbody>\n",
       "    <tr>\n",
       "      <th>39</th>\n",
       "      <td>11007</td>\n",
       "      <td>1.0</td>\n",
       "      <td>1.0</td>\n",
       "      <td>60.0</td>\n",
       "      <td>1.000000</td>\n",
       "    </tr>\n",
       "    <tr>\n",
       "      <th>16</th>\n",
       "      <td>4032</td>\n",
       "      <td>1.0</td>\n",
       "      <td>1.0</td>\n",
       "      <td>30.0</td>\n",
       "      <td>1.000000</td>\n",
       "    </tr>\n",
       "    <tr>\n",
       "      <th>12</th>\n",
       "      <td>3745</td>\n",
       "      <td>1.0</td>\n",
       "      <td>1.0</td>\n",
       "      <td>30.0</td>\n",
       "      <td>1.000000</td>\n",
       "    </tr>\n",
       "    <tr>\n",
       "      <th>496</th>\n",
       "      <td>32357</td>\n",
       "      <td>1.0</td>\n",
       "      <td>1.0</td>\n",
       "      <td>300.0</td>\n",
       "      <td>1.000000</td>\n",
       "    </tr>\n",
       "    <tr>\n",
       "      <th>11</th>\n",
       "      <td>3655</td>\n",
       "      <td>2.0</td>\n",
       "      <td>2.0</td>\n",
       "      <td>90.0</td>\n",
       "      <td>1.000000</td>\n",
       "    </tr>\n",
       "    <tr>\n",
       "      <th>15</th>\n",
       "      <td>4013</td>\n",
       "      <td>3.0</td>\n",
       "      <td>3.0</td>\n",
       "      <td>420.0</td>\n",
       "      <td>1.000000</td>\n",
       "    </tr>\n",
       "    <tr>\n",
       "      <th>2</th>\n",
       "      <td>1498</td>\n",
       "      <td>4.0</td>\n",
       "      <td>3.0</td>\n",
       "      <td>360.0</td>\n",
       "      <td>0.750000</td>\n",
       "    </tr>\n",
       "    <tr>\n",
       "      <th>4</th>\n",
       "      <td>2331</td>\n",
       "      <td>4.0</td>\n",
       "      <td>2.0</td>\n",
       "      <td>60.0</td>\n",
       "      <td>0.500000</td>\n",
       "    </tr>\n",
       "    <tr>\n",
       "      <th>14</th>\n",
       "      <td>3958</td>\n",
       "      <td>4.0</td>\n",
       "      <td>3.0</td>\n",
       "      <td>240.0</td>\n",
       "      <td>0.750000</td>\n",
       "    </tr>\n",
       "    <tr>\n",
       "      <th>8</th>\n",
       "      <td>3075</td>\n",
       "      <td>5.0</td>\n",
       "      <td>5.0</td>\n",
       "      <td>390.0</td>\n",
       "      <td>1.000000</td>\n",
       "    </tr>\n",
       "    <tr>\n",
       "      <th>88</th>\n",
       "      <td>15491</td>\n",
       "      <td>5.0</td>\n",
       "      <td>5.0</td>\n",
       "      <td>240.0</td>\n",
       "      <td>1.000000</td>\n",
       "    </tr>\n",
       "    <tr>\n",
       "      <th>42</th>\n",
       "      <td>11233</td>\n",
       "      <td>5.0</td>\n",
       "      <td>5.0</td>\n",
       "      <td>360.0</td>\n",
       "      <td>1.000000</td>\n",
       "    </tr>\n",
       "    <tr>\n",
       "      <th>9</th>\n",
       "      <td>3622</td>\n",
       "      <td>5.0</td>\n",
       "      <td>5.0</td>\n",
       "      <td>2430.0</td>\n",
       "      <td>1.000000</td>\n",
       "    </tr>\n",
       "    <tr>\n",
       "      <th>38</th>\n",
       "      <td>10992</td>\n",
       "      <td>5.0</td>\n",
       "      <td>5.0</td>\n",
       "      <td>450.0</td>\n",
       "      <td>1.000000</td>\n",
       "    </tr>\n",
       "    <tr>\n",
       "      <th>311</th>\n",
       "      <td>26906</td>\n",
       "      <td>10.0</td>\n",
       "      <td>2.0</td>\n",
       "      <td>60.0</td>\n",
       "      <td>0.200000</td>\n",
       "    </tr>\n",
       "    <tr>\n",
       "      <th>537</th>\n",
       "      <td>46610</td>\n",
       "      <td>11.0</td>\n",
       "      <td>2.0</td>\n",
       "      <td>120.0</td>\n",
       "      <td>0.181818</td>\n",
       "    </tr>\n",
       "    <tr>\n",
       "      <th>123</th>\n",
       "      <td>18938</td>\n",
       "      <td>16.0</td>\n",
       "      <td>2.0</td>\n",
       "      <td>60.0</td>\n",
       "      <td>0.125000</td>\n",
       "    </tr>\n",
       "    <tr>\n",
       "      <th>489</th>\n",
       "      <td>32228</td>\n",
       "      <td>16.0</td>\n",
       "      <td>4.0</td>\n",
       "      <td>180.0</td>\n",
       "      <td>0.250000</td>\n",
       "    </tr>\n",
       "    <tr>\n",
       "      <th>106</th>\n",
       "      <td>17768</td>\n",
       "      <td>28.0</td>\n",
       "      <td>3.0</td>\n",
       "      <td>180.0</td>\n",
       "      <td>0.107143</td>\n",
       "    </tr>\n",
       "    <tr>\n",
       "      <th>115</th>\n",
       "      <td>18408</td>\n",
       "      <td>38.0</td>\n",
       "      <td>5.0</td>\n",
       "      <td>210.0</td>\n",
       "      <td>0.131579</td>\n",
       "    </tr>\n",
       "    <tr>\n",
       "      <th>478</th>\n",
       "      <td>31993</td>\n",
       "      <td>43.0</td>\n",
       "      <td>4.0</td>\n",
       "      <td>720.0</td>\n",
       "      <td>0.093023</td>\n",
       "    </tr>\n",
       "    <tr>\n",
       "      <th>520</th>\n",
       "      <td>34713</td>\n",
       "      <td>44.0</td>\n",
       "      <td>2.0</td>\n",
       "      <td>0.0</td>\n",
       "      <td>0.045455</td>\n",
       "    </tr>\n",
       "    <tr>\n",
       "      <th>130</th>\n",
       "      <td>19743</td>\n",
       "      <td>46.0</td>\n",
       "      <td>9.0</td>\n",
       "      <td>840.0</td>\n",
       "      <td>0.195652</td>\n",
       "    </tr>\n",
       "    <tr>\n",
       "      <th>360</th>\n",
       "      <td>28634</td>\n",
       "      <td>48.0</td>\n",
       "      <td>2.0</td>\n",
       "      <td>90.0</td>\n",
       "      <td>0.041667</td>\n",
       "    </tr>\n",
       "    <tr>\n",
       "      <th>484</th>\n",
       "      <td>32126</td>\n",
       "      <td>50.0</td>\n",
       "      <td>5.0</td>\n",
       "      <td>960.0</td>\n",
       "      <td>0.100000</td>\n",
       "    </tr>\n",
       "    <tr>\n",
       "      <th>249</th>\n",
       "      <td>24444</td>\n",
       "      <td>51.0</td>\n",
       "      <td>3.0</td>\n",
       "      <td>360.0</td>\n",
       "      <td>0.058824</td>\n",
       "    </tr>\n",
       "    <tr>\n",
       "      <th>530</th>\n",
       "      <td>45940</td>\n",
       "      <td>55.0</td>\n",
       "      <td>7.0</td>\n",
       "      <td>330.0</td>\n",
       "      <td>0.127273</td>\n",
       "    </tr>\n",
       "    <tr>\n",
       "      <th>451</th>\n",
       "      <td>31215</td>\n",
       "      <td>64.0</td>\n",
       "      <td>5.0</td>\n",
       "      <td>990.0</td>\n",
       "      <td>0.078125</td>\n",
       "    </tr>\n",
       "    <tr>\n",
       "      <th>439</th>\n",
       "      <td>30791</td>\n",
       "      <td>67.0</td>\n",
       "      <td>24.0</td>\n",
       "      <td>1050.0</td>\n",
       "      <td>0.358209</td>\n",
       "    </tr>\n",
       "    <tr>\n",
       "      <th>145</th>\n",
       "      <td>20257</td>\n",
       "      <td>70.0</td>\n",
       "      <td>5.0</td>\n",
       "      <td>240.0</td>\n",
       "      <td>0.071429</td>\n",
       "    </tr>\n",
       "    <tr>\n",
       "      <th>...</th>\n",
       "      <td>...</td>\n",
       "      <td>...</td>\n",
       "      <td>...</td>\n",
       "      <td>...</td>\n",
       "      <td>...</td>\n",
       "    </tr>\n",
       "    <tr>\n",
       "      <th>388</th>\n",
       "      <td>29569</td>\n",
       "      <td>108.0</td>\n",
       "      <td>5.0</td>\n",
       "      <td>180.0</td>\n",
       "      <td>0.046296</td>\n",
       "    </tr>\n",
       "    <tr>\n",
       "      <th>120</th>\n",
       "      <td>18716</td>\n",
       "      <td>109.0</td>\n",
       "      <td>14.0</td>\n",
       "      <td>660.0</td>\n",
       "      <td>0.128440</td>\n",
       "    </tr>\n",
       "    <tr>\n",
       "      <th>480</th>\n",
       "      <td>32007</td>\n",
       "      <td>112.0</td>\n",
       "      <td>5.0</td>\n",
       "      <td>300.0</td>\n",
       "      <td>0.044643</td>\n",
       "    </tr>\n",
       "    <tr>\n",
       "      <th>253</th>\n",
       "      <td>24647</td>\n",
       "      <td>113.0</td>\n",
       "      <td>8.0</td>\n",
       "      <td>630.0</td>\n",
       "      <td>0.070796</td>\n",
       "    </tr>\n",
       "    <tr>\n",
       "      <th>239</th>\n",
       "      <td>23987</td>\n",
       "      <td>114.0</td>\n",
       "      <td>3.0</td>\n",
       "      <td>120.0</td>\n",
       "      <td>0.026316</td>\n",
       "    </tr>\n",
       "    <tr>\n",
       "      <th>13</th>\n",
       "      <td>3933</td>\n",
       "      <td>114.0</td>\n",
       "      <td>4.0</td>\n",
       "      <td>180.0</td>\n",
       "      <td>0.035088</td>\n",
       "    </tr>\n",
       "    <tr>\n",
       "      <th>146</th>\n",
       "      <td>20265</td>\n",
       "      <td>115.0</td>\n",
       "      <td>12.0</td>\n",
       "      <td>570.0</td>\n",
       "      <td>0.104348</td>\n",
       "    </tr>\n",
       "    <tr>\n",
       "      <th>230</th>\n",
       "      <td>23423</td>\n",
       "      <td>116.0</td>\n",
       "      <td>8.0</td>\n",
       "      <td>660.0</td>\n",
       "      <td>0.068966</td>\n",
       "    </tr>\n",
       "    <tr>\n",
       "      <th>296</th>\n",
       "      <td>26573</td>\n",
       "      <td>116.0</td>\n",
       "      <td>21.0</td>\n",
       "      <td>1650.0</td>\n",
       "      <td>0.181034</td>\n",
       "    </tr>\n",
       "    <tr>\n",
       "      <th>274</th>\n",
       "      <td>25425</td>\n",
       "      <td>118.0</td>\n",
       "      <td>10.0</td>\n",
       "      <td>1110.0</td>\n",
       "      <td>0.084746</td>\n",
       "    </tr>\n",
       "    <tr>\n",
       "      <th>307</th>\n",
       "      <td>26816</td>\n",
       "      <td>118.0</td>\n",
       "      <td>20.0</td>\n",
       "      <td>1050.0</td>\n",
       "      <td>0.169492</td>\n",
       "    </tr>\n",
       "    <tr>\n",
       "      <th>359</th>\n",
       "      <td>28627</td>\n",
       "      <td>120.0</td>\n",
       "      <td>4.0</td>\n",
       "      <td>120.0</td>\n",
       "      <td>0.033333</td>\n",
       "    </tr>\n",
       "    <tr>\n",
       "      <th>199</th>\n",
       "      <td>22011</td>\n",
       "      <td>121.0</td>\n",
       "      <td>8.0</td>\n",
       "      <td>330.0</td>\n",
       "      <td>0.066116</td>\n",
       "    </tr>\n",
       "    <tr>\n",
       "      <th>314</th>\n",
       "      <td>27056</td>\n",
       "      <td>121.0</td>\n",
       "      <td>13.0</td>\n",
       "      <td>930.0</td>\n",
       "      <td>0.107438</td>\n",
       "    </tr>\n",
       "    <tr>\n",
       "      <th>131</th>\n",
       "      <td>19747</td>\n",
       "      <td>121.0</td>\n",
       "      <td>34.0</td>\n",
       "      <td>2490.0</td>\n",
       "      <td>0.280992</td>\n",
       "    </tr>\n",
       "    <tr>\n",
       "      <th>297</th>\n",
       "      <td>26665</td>\n",
       "      <td>125.0</td>\n",
       "      <td>25.0</td>\n",
       "      <td>2370.0</td>\n",
       "      <td>0.200000</td>\n",
       "    </tr>\n",
       "    <tr>\n",
       "      <th>389</th>\n",
       "      <td>29617</td>\n",
       "      <td>128.0</td>\n",
       "      <td>18.0</td>\n",
       "      <td>1770.0</td>\n",
       "      <td>0.140625</td>\n",
       "    </tr>\n",
       "    <tr>\n",
       "      <th>334</th>\n",
       "      <td>27461</td>\n",
       "      <td>132.0</td>\n",
       "      <td>6.0</td>\n",
       "      <td>540.0</td>\n",
       "      <td>0.045455</td>\n",
       "    </tr>\n",
       "    <tr>\n",
       "      <th>112</th>\n",
       "      <td>18105</td>\n",
       "      <td>132.0</td>\n",
       "      <td>6.0</td>\n",
       "      <td>570.0</td>\n",
       "      <td>0.045455</td>\n",
       "    </tr>\n",
       "    <tr>\n",
       "      <th>446</th>\n",
       "      <td>30905</td>\n",
       "      <td>132.0</td>\n",
       "      <td>26.0</td>\n",
       "      <td>1410.0</td>\n",
       "      <td>0.196970</td>\n",
       "    </tr>\n",
       "    <tr>\n",
       "      <th>346</th>\n",
       "      <td>27830</td>\n",
       "      <td>134.0</td>\n",
       "      <td>7.0</td>\n",
       "      <td>870.0</td>\n",
       "      <td>0.052239</td>\n",
       "    </tr>\n",
       "    <tr>\n",
       "      <th>78</th>\n",
       "      <td>15048</td>\n",
       "      <td>135.0</td>\n",
       "      <td>56.0</td>\n",
       "      <td>10350.0</td>\n",
       "      <td>0.414815</td>\n",
       "    </tr>\n",
       "    <tr>\n",
       "      <th>105</th>\n",
       "      <td>17470</td>\n",
       "      <td>137.0</td>\n",
       "      <td>35.0</td>\n",
       "      <td>1710.0</td>\n",
       "      <td>0.255474</td>\n",
       "    </tr>\n",
       "    <tr>\n",
       "      <th>54</th>\n",
       "      <td>12388</td>\n",
       "      <td>139.0</td>\n",
       "      <td>112.0</td>\n",
       "      <td>24720.0</td>\n",
       "      <td>0.805755</td>\n",
       "    </tr>\n",
       "    <tr>\n",
       "      <th>116</th>\n",
       "      <td>18448</td>\n",
       "      <td>140.0</td>\n",
       "      <td>67.0</td>\n",
       "      <td>3810.0</td>\n",
       "      <td>0.478571</td>\n",
       "    </tr>\n",
       "    <tr>\n",
       "      <th>265</th>\n",
       "      <td>25153</td>\n",
       "      <td>140.0</td>\n",
       "      <td>16.0</td>\n",
       "      <td>1050.0</td>\n",
       "      <td>0.114286</td>\n",
       "    </tr>\n",
       "    <tr>\n",
       "      <th>538</th>\n",
       "      <td>47724</td>\n",
       "      <td>141.0</td>\n",
       "      <td>90.0</td>\n",
       "      <td>13380.0</td>\n",
       "      <td>0.638298</td>\n",
       "    </tr>\n",
       "    <tr>\n",
       "      <th>504</th>\n",
       "      <td>32656</td>\n",
       "      <td>141.0</td>\n",
       "      <td>54.0</td>\n",
       "      <td>3690.0</td>\n",
       "      <td>0.382979</td>\n",
       "    </tr>\n",
       "    <tr>\n",
       "      <th>503</th>\n",
       "      <td>32616</td>\n",
       "      <td>142.0</td>\n",
       "      <td>36.0</td>\n",
       "      <td>5130.0</td>\n",
       "      <td>0.253521</td>\n",
       "    </tr>\n",
       "    <tr>\n",
       "      <th>528</th>\n",
       "      <td>40407</td>\n",
       "      <td>143.0</td>\n",
       "      <td>39.0</td>\n",
       "      <td>3780.0</td>\n",
       "      <td>0.272727</td>\n",
       "    </tr>\n",
       "  </tbody>\n",
       "</table>\n",
       "<p>80 rows × 5 columns</p>\n",
       "</div>"
      ],
      "text/plain": [
       "     store_code   days  days_sell  volume_tot  prop_selling_days\n",
       "39        11007    1.0        1.0        60.0           1.000000\n",
       "16         4032    1.0        1.0        30.0           1.000000\n",
       "12         3745    1.0        1.0        30.0           1.000000\n",
       "496       32357    1.0        1.0       300.0           1.000000\n",
       "11         3655    2.0        2.0        90.0           1.000000\n",
       "15         4013    3.0        3.0       420.0           1.000000\n",
       "2          1498    4.0        3.0       360.0           0.750000\n",
       "4          2331    4.0        2.0        60.0           0.500000\n",
       "14         3958    4.0        3.0       240.0           0.750000\n",
       "8          3075    5.0        5.0       390.0           1.000000\n",
       "88        15491    5.0        5.0       240.0           1.000000\n",
       "42        11233    5.0        5.0       360.0           1.000000\n",
       "9          3622    5.0        5.0      2430.0           1.000000\n",
       "38        10992    5.0        5.0       450.0           1.000000\n",
       "311       26906   10.0        2.0        60.0           0.200000\n",
       "537       46610   11.0        2.0       120.0           0.181818\n",
       "123       18938   16.0        2.0        60.0           0.125000\n",
       "489       32228   16.0        4.0       180.0           0.250000\n",
       "106       17768   28.0        3.0       180.0           0.107143\n",
       "115       18408   38.0        5.0       210.0           0.131579\n",
       "478       31993   43.0        4.0       720.0           0.093023\n",
       "520       34713   44.0        2.0         0.0           0.045455\n",
       "130       19743   46.0        9.0       840.0           0.195652\n",
       "360       28634   48.0        2.0        90.0           0.041667\n",
       "484       32126   50.0        5.0       960.0           0.100000\n",
       "249       24444   51.0        3.0       360.0           0.058824\n",
       "530       45940   55.0        7.0       330.0           0.127273\n",
       "451       31215   64.0        5.0       990.0           0.078125\n",
       "439       30791   67.0       24.0      1050.0           0.358209\n",
       "145       20257   70.0        5.0       240.0           0.071429\n",
       "..          ...    ...        ...         ...                ...\n",
       "388       29569  108.0        5.0       180.0           0.046296\n",
       "120       18716  109.0       14.0       660.0           0.128440\n",
       "480       32007  112.0        5.0       300.0           0.044643\n",
       "253       24647  113.0        8.0       630.0           0.070796\n",
       "239       23987  114.0        3.0       120.0           0.026316\n",
       "13         3933  114.0        4.0       180.0           0.035088\n",
       "146       20265  115.0       12.0       570.0           0.104348\n",
       "230       23423  116.0        8.0       660.0           0.068966\n",
       "296       26573  116.0       21.0      1650.0           0.181034\n",
       "274       25425  118.0       10.0      1110.0           0.084746\n",
       "307       26816  118.0       20.0      1050.0           0.169492\n",
       "359       28627  120.0        4.0       120.0           0.033333\n",
       "199       22011  121.0        8.0       330.0           0.066116\n",
       "314       27056  121.0       13.0       930.0           0.107438\n",
       "131       19747  121.0       34.0      2490.0           0.280992\n",
       "297       26665  125.0       25.0      2370.0           0.200000\n",
       "389       29617  128.0       18.0      1770.0           0.140625\n",
       "334       27461  132.0        6.0       540.0           0.045455\n",
       "112       18105  132.0        6.0       570.0           0.045455\n",
       "446       30905  132.0       26.0      1410.0           0.196970\n",
       "346       27830  134.0        7.0       870.0           0.052239\n",
       "78        15048  135.0       56.0     10350.0           0.414815\n",
       "105       17470  137.0       35.0      1710.0           0.255474\n",
       "54        12388  139.0      112.0     24720.0           0.805755\n",
       "116       18448  140.0       67.0      3810.0           0.478571\n",
       "265       25153  140.0       16.0      1050.0           0.114286\n",
       "538       47724  141.0       90.0     13380.0           0.638298\n",
       "504       32656  141.0       54.0      3690.0           0.382979\n",
       "503       32616  142.0       36.0      5130.0           0.253521\n",
       "528       40407  143.0       39.0      3780.0           0.272727\n",
       "\n",
       "[80 rows x 5 columns]"
      ]
     },
     "execution_count": 7,
     "metadata": {},
     "output_type": "execute_result"
    }
   ],
   "source": [
    "def get_lag(shop):\n",
    "    d = {}\n",
    "    d['days'] = (max(shop['date']) - min(shop['date'])).days  + 1\n",
    "    d['days_sell'] = np.count_nonzero(shop['volume_day'])\n",
    "    d['volume_tot'] = sum(shop['volume_day'])\n",
    "    return pd.Series(d, index = ['days','days_sell','volume_tot'])\n",
    "\n",
    "\n",
    "flds = ['store_code','volume_day','date']\n",
    "df_shops_days = df_aggregate_per_day_short_with_info[flds].groupby('store_code').apply(get_lag).reset_index()\n",
    "df_shops_days['prop_selling_days'] = df_shops_days.days_sell/df_shops_days.days\n",
    "df_shops_days.sort_values('days',inplace=True)\n",
    "df_shops_days.head(80)"
   ]
  },
  {
   "cell_type": "code",
   "execution_count": 8,
   "metadata": {},
   "outputs": [
    {
     "data": {
      "image/png": "[encoded data removed]",
      "text/plain": [
       "<Figure size 432x288 with 1 Axes>"
      ]
     },
     "metadata": {},
     "output_type": "display_data"
    }
   ],
   "source": [
    "plt.hist(df_shops_days.prop_selling_days, bins=30);\n",
    "plt.xlabel('Proportion of selling days over total days');\n",
    "plt.ylabel('Count');"
   ]
  },
  {
   "cell_type": "markdown",
   "metadata": {},
   "source": [
    "We have around 15 POSs with all the days selling. But still several POSs were the proportion of selling days is low."
   ]
  },
  {
   "cell_type": "code",
   "execution_count": 9,
   "metadata": {},
   "outputs": [
    {
     "data": {
      "image/png": "[encoded data removed]",
      "text/plain": [
       "<Figure size 432x288 with 1 Axes>"
      ]
     },
     "metadata": {},
     "output_type": "display_data"
    }
   ],
   "source": [
    "plt.hist(df_shops_days.days, bins = 30);\n",
    "plt.xlabel('Lag between last and fist sell');\n",
    "plt.ylabel('Count');"
   ]
  },
  {
   "cell_type": "code",
   "execution_count": 10,
   "metadata": {},
   "outputs": [
    {
     "data": {
      "image/png": "[encoded data removed]",
      "text/plain": [
       "<Figure size 432x288 with 1 Axes>"
      ]
     },
     "metadata": {},
     "output_type": "display_data"
    }
   ],
   "source": [
    "plt.scatter(df_shops_days.days, df_shops_days.prop_selling_days)\n",
    "plt.ylim(0,1.1)\n",
    "plt.xlabel('Days open')\n",
    "plt.ylabel('Proportion days selling');\n",
    "plt.axvline(x=120, color = 'red');"
   ]
  },
  {
   "cell_type": "markdown",
   "metadata": {},
   "source": [
    "We still see that for several POSs we have few selling days, although we deleted already all the days before the first sell and after the last one.\n",
    "\n",
    "This might be due to the fact that some shops closed in specific days of the week (i.e. Sundays), but it might be due to missing values into the time seris."
   ]
  },
  {
   "cell_type": "markdown",
   "metadata": {},
   "source": [
    "We __discard all the shops with less than 120 of opening days__, since they might bias our analysis: additional 61 shops."
   ]
  },
  {
   "cell_type": "code",
   "execution_count": 11,
   "metadata": {},
   "outputs": [
    {
     "data": {
      "text/plain": [
       "61"
      ]
     },
     "execution_count": 11,
     "metadata": {},
     "output_type": "execute_result"
    }
   ],
   "source": [
    "df_shops_days_filer = df_shops_days[df_shops_days.days >= 120]\n",
    "df_shops_days.shape[0] - df_shops_days_filer.shape[0]"
   ]
  },
  {
   "cell_type": "code",
   "execution_count": 12,
   "metadata": {},
   "outputs": [
    {
     "data": {
      "text/html": [
       "<div>\n",
       "<style scoped>\n",
       "    .dataframe tbody tr th:only-of-type {\n",
       "        vertical-align: middle;\n",
       "    }\n",
       "\n",
       "    .dataframe tbody tr th {\n",
       "        vertical-align: top;\n",
       "    }\n",
       "\n",
       "    .dataframe thead th {\n",
       "        text-align: right;\n",
       "    }\n",
       "</style>\n",
       "<table border=\"1\" class=\"dataframe\">\n",
       "  <thead>\n",
       "    <tr style=\"text-align: right;\">\n",
       "      <th></th>\n",
       "      <th>store_code</th>\n",
       "      <th>days</th>\n",
       "      <th>days_sell</th>\n",
       "      <th>volume_tot</th>\n",
       "      <th>prop_selling_days</th>\n",
       "    </tr>\n",
       "  </thead>\n",
       "  <tbody>\n",
       "    <tr>\n",
       "      <th>359</th>\n",
       "      <td>28627</td>\n",
       "      <td>120.0</td>\n",
       "      <td>4.0</td>\n",
       "      <td>120.0</td>\n",
       "      <td>0.033333</td>\n",
       "    </tr>\n",
       "    <tr>\n",
       "      <th>199</th>\n",
       "      <td>22011</td>\n",
       "      <td>121.0</td>\n",
       "      <td>8.0</td>\n",
       "      <td>330.0</td>\n",
       "      <td>0.066116</td>\n",
       "    </tr>\n",
       "    <tr>\n",
       "      <th>314</th>\n",
       "      <td>27056</td>\n",
       "      <td>121.0</td>\n",
       "      <td>13.0</td>\n",
       "      <td>930.0</td>\n",
       "      <td>0.107438</td>\n",
       "    </tr>\n",
       "    <tr>\n",
       "      <th>131</th>\n",
       "      <td>19747</td>\n",
       "      <td>121.0</td>\n",
       "      <td>34.0</td>\n",
       "      <td>2490.0</td>\n",
       "      <td>0.280992</td>\n",
       "    </tr>\n",
       "    <tr>\n",
       "      <th>297</th>\n",
       "      <td>26665</td>\n",
       "      <td>125.0</td>\n",
       "      <td>25.0</td>\n",
       "      <td>2370.0</td>\n",
       "      <td>0.200000</td>\n",
       "    </tr>\n",
       "  </tbody>\n",
       "</table>\n",
       "</div>"
      ],
      "text/plain": [
       "     store_code   days  days_sell  volume_tot  prop_selling_days\n",
       "359       28627  120.0        4.0       120.0           0.033333\n",
       "199       22011  121.0        8.0       330.0           0.066116\n",
       "314       27056  121.0       13.0       930.0           0.107438\n",
       "131       19747  121.0       34.0      2490.0           0.280992\n",
       "297       26665  125.0       25.0      2370.0           0.200000"
      ]
     },
     "execution_count": 12,
     "metadata": {},
     "output_type": "execute_result"
    }
   ],
   "source": [
    "df_shops_days_filer.head()"
   ]
  },
  {
   "cell_type": "code",
   "execution_count": 13,
   "metadata": {},
   "outputs": [],
   "source": [
    "df_aggregate_per_day_short_with_info_filter = df_aggregate_per_day_short_with_info[df_aggregate_per_day_short_with_info.store_code.isin(df_shops_days_filer.store_code)]"
   ]
  },
  {
   "cell_type": "markdown",
   "metadata": {},
   "source": [
    "### Seasonality"
   ]
  },
  {
   "cell_type": "code",
   "execution_count": 14,
   "metadata": {},
   "outputs": [
    {
     "data": {
      "text/html": [
       "<div>\n",
       "<style scoped>\n",
       "    .dataframe tbody tr th:only-of-type {\n",
       "        vertical-align: middle;\n",
       "    }\n",
       "\n",
       "    .dataframe tbody tr th {\n",
       "        vertical-align: top;\n",
       "    }\n",
       "\n",
       "    .dataframe thead th {\n",
       "        text-align: right;\n",
       "    }\n",
       "</style>\n",
       "<table border=\"1\" class=\"dataframe\">\n",
       "  <thead>\n",
       "    <tr style=\"text-align: right;\">\n",
       "      <th></th>\n",
       "      <th>Dayofweek</th>\n",
       "      <th>n_shops</th>\n",
       "      <th>n_open_shops</th>\n",
       "      <th>tot_volume</th>\n",
       "      <th>norm_volume</th>\n",
       "      <th>norm_volume_open</th>\n",
       "    </tr>\n",
       "    <tr>\n",
       "      <th>date</th>\n",
       "      <th></th>\n",
       "      <th></th>\n",
       "      <th></th>\n",
       "      <th></th>\n",
       "      <th></th>\n",
       "      <th></th>\n",
       "    </tr>\n",
       "  </thead>\n",
       "  <tbody>\n",
       "    <tr>\n",
       "      <th>2015-11-23</th>\n",
       "      <td>0.0</td>\n",
       "      <td>1.0</td>\n",
       "      <td>1.0</td>\n",
       "      <td>300.0</td>\n",
       "      <td>300.0</td>\n",
       "      <td>300.0</td>\n",
       "    </tr>\n",
       "    <tr>\n",
       "      <th>2015-11-24</th>\n",
       "      <td>1.0</td>\n",
       "      <td>1.0</td>\n",
       "      <td>0.0</td>\n",
       "      <td>0.0</td>\n",
       "      <td>0.0</td>\n",
       "      <td>NaN</td>\n",
       "    </tr>\n",
       "    <tr>\n",
       "      <th>2015-11-25</th>\n",
       "      <td>2.0</td>\n",
       "      <td>1.0</td>\n",
       "      <td>0.0</td>\n",
       "      <td>0.0</td>\n",
       "      <td>0.0</td>\n",
       "      <td>NaN</td>\n",
       "    </tr>\n",
       "    <tr>\n",
       "      <th>2015-11-26</th>\n",
       "      <td>3.0</td>\n",
       "      <td>1.0</td>\n",
       "      <td>0.0</td>\n",
       "      <td>0.0</td>\n",
       "      <td>0.0</td>\n",
       "      <td>NaN</td>\n",
       "    </tr>\n",
       "    <tr>\n",
       "      <th>2015-11-27</th>\n",
       "      <td>4.0</td>\n",
       "      <td>1.0</td>\n",
       "      <td>0.0</td>\n",
       "      <td>0.0</td>\n",
       "      <td>0.0</td>\n",
       "      <td>NaN</td>\n",
       "    </tr>\n",
       "  </tbody>\n",
       "</table>\n",
       "</div>"
      ],
      "text/plain": [
       "            Dayofweek  n_shops  n_open_shops  tot_volume  norm_volume  \\\n",
       "date                                                                    \n",
       "2015-11-23        0.0      1.0           1.0       300.0        300.0   \n",
       "2015-11-24        1.0      1.0           0.0         0.0          0.0   \n",
       "2015-11-25        2.0      1.0           0.0         0.0          0.0   \n",
       "2015-11-26        3.0      1.0           0.0         0.0          0.0   \n",
       "2015-11-27        4.0      1.0           0.0         0.0          0.0   \n",
       "\n",
       "            norm_volume_open  \n",
       "date                          \n",
       "2015-11-23             300.0  \n",
       "2015-11-24               NaN  \n",
       "2015-11-25               NaN  \n",
       "2015-11-26               NaN  \n",
       "2015-11-27               NaN  "
      ]
     },
     "execution_count": 14,
     "metadata": {},
     "output_type": "execute_result"
    }
   ],
   "source": [
    "def all_POSs_aggregate(x):\n",
    "    d = {}\n",
    "    d['Dayofweek'] = x['Dayofweek'].iloc[0]\n",
    "    d['n_shops'] = x['store_code'].nunique()\n",
    "    d['n_open_shops'] = np.count_nonzero(x['volume_day'])\n",
    "    d['tot_volume'] = x['volume_day'].sum()\n",
    "    return pd.Series(d, index=['Dayofweek','n_shops','n_open_shops','tot_volume'])\n",
    "\n",
    "seasonality = df_aggregate_per_day_short_with_info_filter.groupby('date').apply(all_POSs_aggregate)\n",
    "seasonality['norm_volume'] = seasonality.tot_volume/seasonality.n_shops\n",
    "seasonality['norm_volume_open'] = seasonality.tot_volume/seasonality.n_open_shops\n",
    "seasonality.head()"
   ]
  },
  {
   "cell_type": "code",
   "execution_count": 15,
   "metadata": {},
   "outputs": [
    {
     "data": {
      "image/png": "[encoded data removed]",
      "text/plain": [
       "<Figure size 432x288 with 1 Axes>"
      ]
     },
     "metadata": {},
     "output_type": "display_data"
    }
   ],
   "source": [
    "plt.plot(seasonality.norm_volume);\n",
    "plt.axvline(x='2016-11-10');\n",
    "plt.axvline(x='2016-04-01');\n",
    "plt.xlabel('Date');\n",
    "plt.ylabel('TotVolume/#POSs');"
   ]
  },
  {
   "cell_type": "markdown",
   "metadata": {},
   "source": [
    "We see big variability at the beginning of the time series, suggesting a seasonality effect (ups and downs). \n",
    "The down picks are due to the sundays."
   ]
  },
  {
   "cell_type": "code",
   "execution_count": 16,
   "metadata": {},
   "outputs": [
    {
     "data": {
      "image/png": "[encoded data removed]",
      "text/plain": [
       "<Figure size 432x288 with 1 Axes>"
      ]
     },
     "metadata": {},
     "output_type": "display_data"
    }
   ],
   "source": [
    "plt.plot(seasonality.norm_volume_open);\n",
    "plt.axvline(x='2016-11-10');\n",
    "plt.axvline(x='2016-04-01');\n",
    "plt.xlabel('Date');\n",
    "plt.ylabel('TotVolume/#POSs open');"
   ]
  },
  {
   "cell_type": "markdown",
   "metadata": {},
   "source": [
    "In this plot, we normalized the volume by the shops that sold something, since we don't know if no sell is shop closed or shop not selling."
   ]
  },
  {
   "cell_type": "code",
   "execution_count": 17,
   "metadata": {},
   "outputs": [
    {
     "data": {
      "image/png": "[encoded data removed]",
      "text/plain": [
       "<Figure size 432x288 with 1 Axes>"
      ]
     },
     "metadata": {},
     "output_type": "display_data"
    }
   ],
   "source": [
    "plt.plot(seasonality.n_shops, marker = 'o')\n",
    "plt.axvline(x='2016-04-01');\n",
    "plt.axvline(x='2016-11-10');\n",
    "plt.xlabel('Date');\n",
    "plt.ylabel('#POSs');"
   ]
  },
  {
   "cell_type": "markdown",
   "metadata": {},
   "source": [
    "When we control for the number of shops for each time point, we clearly see that the big variability observed at the beginning is due to few observation available. It seems that more and more information were available along time. It seems that the information about sell started to be increased by the end of 2016 (vertical line on the 10th November 2016). Already at April 2016 we see an increase in the number of shops. The last drop we see at the end of the time series might be due to just lag in receiving information.\n",
    "\n",
    "We focus only on the time frame from the 2016-04-01 until the last day."
   ]
  },
  {
   "cell_type": "code",
   "execution_count": 18,
   "metadata": {},
   "outputs": [],
   "source": [
    "df_aggregate_per_day_short_with_info_filter = df_aggregate_per_day_short_with_info_filter[df_aggregate_per_day_short_with_info_filter.date > '2016-04-01']"
   ]
  },
  {
   "cell_type": "code",
   "execution_count": 19,
   "metadata": {},
   "outputs": [
    {
     "data": {
      "text/plain": [
       "Index(['store_code', 'date', 'volume_day', 'volume_nan', 'volume_n',\n",
       "       'Perc_nan', 'Year', 'Month', 'Week', 'Day', 'Dayofweek', 'Dayofyear',\n",
       "       'Is_month_end', 'Is_month_start', 'Is_quarter_end', 'Is_quarter_start',\n",
       "       'Is_year_end', 'Is_year_start', 'Elapsed'],\n",
       "      dtype='object')"
      ]
     },
     "execution_count": 19,
     "metadata": {},
     "output_type": "execute_result"
    }
   ],
   "source": [
    "df_aggregate_per_day_short_with_info_filter.columns"
   ]
  },
  {
   "cell_type": "markdown",
   "metadata": {},
   "source": [
    "## Analysis"
   ]
  },
  {
   "cell_type": "markdown",
   "metadata": {},
   "source": [
    "Use volume per day, with time info (i.e. Dayofweek) and number of surrondings for each type, with the corresponding time they open."
   ]
  },
  {
   "cell_type": "code",
   "execution_count": 20,
   "metadata": {},
   "outputs": [],
   "source": [
    "flds_POSs = ['store_code','date','volume_day','Year','Month','Week','Day','Dayofweek','Is_month_end',\n",
    "             'Is_month_start','Is_quarter_end','Is_quarter_start','Is_year_end','Is_year_start']"
   ]
  },
  {
   "cell_type": "code",
   "execution_count": 21,
   "metadata": {},
   "outputs": [],
   "source": [
    "metadata_simple = pd.concat([metadata_with_days.store_code, \n",
    "                             metadata_with_days.Dayofweek, \n",
    "                             metadata_with_days.filter(regex=\"_n\")], axis = 1)\n",
    "metadata_simple.fillna(0, inplace=True)"
   ]
  },
  {
   "cell_type": "code",
   "execution_count": 22,
   "metadata": {},
   "outputs": [],
   "source": [
    "final_with_time = df_aggregate_per_day_short_with_info_filter[flds_POSs].merge(metadata_simple, how='left',on=['store_code','Dayofweek'])"
   ]
  },
  {
   "cell_type": "code",
   "execution_count": 23,
   "metadata": {},
   "outputs": [
    {
     "data": {
      "text/plain": [
       "478"
      ]
     },
     "execution_count": 23,
     "metadata": {},
     "output_type": "execute_result"
    }
   ],
   "source": [
    "len(final_with_time.store_code.unique())"
   ]
  },
  {
   "cell_type": "code",
   "execution_count": 24,
   "metadata": {},
   "outputs": [],
   "source": [
    "final_with_time.sort_values('date', inplace=True)\n",
    "\n",
    "def coherce_type(df, reg, typ):\n",
    "    float_columns = [x for x in df.columns if reg in x]\n",
    "    for cl in float_columns:\n",
    "        df[cl] = df[cl].astype(typ)\n",
    "    return df\n",
    "\n",
    "## Float columns\n",
    "final_with_time = coherce_type(final_with_time, '_mean_', 'float64')\n",
    "\n",
    "## Integer column\n",
    "final_with_time = coherce_type(final_with_time, '_n', 'float')"
   ]
  },
  {
   "cell_type": "markdown",
   "metadata": {},
   "source": [
    "Check if any column has missing values."
   ]
  },
  {
   "cell_type": "code",
   "execution_count": 25,
   "metadata": {},
   "outputs": [
    {
     "data": {
      "text/plain": [
       "Series([], dtype: bool)"
      ]
     },
     "execution_count": 25,
     "metadata": {},
     "output_type": "execute_result"
    }
   ],
   "source": [
    "complete_null_columns = final_with_time.isnull().all()\n",
    "col_to_remove = complete_null_columns[complete_null_columns == True]\n",
    "col_to_remove"
   ]
  },
  {
   "cell_type": "code",
   "execution_count": 26,
   "metadata": {},
   "outputs": [
    {
     "data": {
      "text/plain": [
       "((96550, 101), (17038, 101))"
      ]
     },
     "execution_count": 26,
     "metadata": {},
     "output_type": "execute_result"
    }
   ],
   "source": [
    "def split_vals(a,n): \n",
    "    return a[:n].copy(), a[n:].copy()\n",
    "\n",
    "n_valid = round(len(final_with_time)*15/100)  # same as Kaggle's test set size\n",
    "n_trn = len(final_with_time)-n_valid\n",
    "training, test = split_vals(final_with_time, n_trn)\n",
    "\n",
    "training.shape, test.shape"
   ]
  },
  {
   "cell_type": "code",
   "execution_count": 27,
   "metadata": {},
   "outputs": [],
   "source": [
    "train_cats(training)"
   ]
  },
  {
   "cell_type": "code",
   "execution_count": 28,
   "metadata": {},
   "outputs": [],
   "source": [
    "df, y, nas = proc_df(df=training, y_fld='volume_day',skip_flds=['date','store_code'])\n",
    "\n",
    "df.fillna(0, inplace=True)"
   ]
  },
  {
   "cell_type": "markdown",
   "metadata": {},
   "source": [
    "Splitting also for the validation set. Same size as the test set."
   ]
  },
  {
   "cell_type": "code",
   "execution_count": 97,
   "metadata": {},
   "outputs": [
    {
     "data": {
      "text/plain": [
       "((79512, 185), (79512,), (17038, 185))"
      ]
     },
     "execution_count": 97,
     "metadata": {},
     "output_type": "execute_result"
    }
   ],
   "source": [
    "n_trn = len(df) - n_valid\n",
    "X_train, X_valid = split_vals(df, n_trn)\n",
    "y_train, y_valid = split_vals(y, n_trn)\n",
    "\n",
    "X_train.shape, y_train.shape, X_valid.shape"
   ]
  },
  {
   "cell_type": "code",
   "execution_count": 30,
   "metadata": {},
   "outputs": [],
   "source": [
    "def rmse(x,y):\n",
    "    return math.sqrt(((x-y)**2).mean())\n",
    "\n",
    "def print_score(m):\n",
    "    res = [rmse(m.predict(X_train), y_train), rmse(m.predict(X_valid), y_valid),\n",
    "                m.score(X_train, y_train), m.score(X_valid, y_valid)]\n",
    "    if hasattr(m, 'oob_score_'): res.append(m.oob_score_)\n",
    "    print(res)"
   ]
  },
  {
   "cell_type": "code",
   "execution_count": 31,
   "metadata": {},
   "outputs": [
    {
     "name": "stdout",
     "output_type": "stream",
     "text": [
      "[270.53012781199874, 271.8753175022167, 0.7440147013341469, 0.534389905502691]\n"
     ]
    }
   ],
   "source": [
    "m = RandomForestRegressor(n_jobs=-1)\n",
    "m.fit(X_train, y_train)\n",
    "print_score(m)"
   ]
  },
  {
   "cell_type": "markdown",
   "metadata": {},
   "source": [
    "#### Bagging: identify the number of trees to be used in the forest"
   ]
  },
  {
   "cell_type": "code",
   "execution_count": 32,
   "metadata": {},
   "outputs": [
    {
     "data": {
      "text/plain": [
       "(array([ 0.,  0.,  0.,  0.,  0.,  0., 60.,  0.,  0.,  0.]), 6.0, 0.0)"
      ]
     },
     "execution_count": 32,
     "metadata": {},
     "output_type": "execute_result"
    }
   ],
   "source": [
    "preds = np.stack([t.predict(X_valid) for t in m.estimators_])\n",
    "preds[:,0], np.mean(preds[:,0]), y_valid[0]"
   ]
  },
  {
   "cell_type": "code",
   "execution_count": 33,
   "metadata": {},
   "outputs": [
    {
     "data": {
      "image/png": "[encoded data removed]",
      "text/plain": [
       "<Figure size 432x288 with 1 Axes>"
      ]
     },
     "metadata": {},
     "output_type": "display_data"
    }
   ],
   "source": [
    "plt.plot([metrics.r2_score(y_valid, np.mean(preds[:i+1], axis=0)) for i in range(20)]);\n",
    "plt.xlabel('#trees');\n",
    "plt.ylabel('r2');"
   ]
  },
  {
   "cell_type": "markdown",
   "metadata": {},
   "source": [
    "When we use r^2 as metric, we see that we can use 10 different trees in the forest."
   ]
  },
  {
   "cell_type": "code",
   "execution_count": 34,
   "metadata": {},
   "outputs": [
    {
     "name": "stdout",
     "output_type": "stream",
     "text": [
      "[269.64562109073387, 269.81558140759785, 0.7456858687877087, 0.5414181351384441]\n"
     ]
    }
   ],
   "source": [
    "m = RandomForestRegressor(n_estimators=10, n_jobs=-1)\n",
    "m.fit(X_train, y_train)\n",
    "print_score(m)"
   ]
  },
  {
   "cell_type": "markdown",
   "metadata": {},
   "source": [
    "#### One tree visualization"
   ]
  },
  {
   "cell_type": "code",
   "execution_count": 46,
   "metadata": {},
   "outputs": [
    {
     "name": "stdout",
     "output_type": "stream",
     "text": [
      "[376.17368565524754, 270.04266521470646, 0.5050508606786412, 0.5406459014727707]\n"
     ]
    }
   ],
   "source": [
    "m = RandomForestRegressor(n_estimators=1, max_depth=3, bootstrap=False, n_jobs=-1)\n",
    "m.fit(X_train, y_train)\n",
    "print_score(m)"
   ]
  },
  {
   "cell_type": "code",
   "execution_count": 48,
   "metadata": {},
   "outputs": [
    {
     "data": {
      "image/svg+xml": [
       "<?xml version=\"1.0\" encoding=\"UTF-8\" standalone=\"no\"?>\n",
       "<!DOCTYPE svg PUBLIC \"-//W3C//DTD SVG 1.1//EN\"\n",
       " \"http://www.w3.org/Graphics/SVG/1.1/DTD/svg11.dtd\">\n",
       "<!-- Generated by graphviz version 2.26.3 (20100126.1600)\n",
       " -->\n",
       "<!-- Title: Tree Pages: 1 -->\n",
       "<svg width=\"720pt\" height=\"434pt\"\n",
       " viewBox=\"0.00 0.00 720.00 434.32\" xmlns=\"http://www.w3.org/2000/svg\" xmlns:xlink=\"http://www.w3.org/1999/xlink\">\n",
       "<g id=\"graph1\" class=\"graph\" transform=\"scale(0.726295 0.726295) rotate(0) translate(4 594)\">\n",
       "<title>Tree</title>\n",
       "<polygon fill=\"white\" stroke=\"white\" points=\"-4,5 -4,-594 988.333,-594 988.333,5 -4,5\"/>\n",
       "<!-- 0 -->\n",
       "<g id=\"node1\" class=\"node\"><title>0</title>\n",
       "<polygon fill=\"#e58139\" stroke=\"black\" points=\"165.333,-333 31.3333,-333 31.3333,-257 165.333,-257 165.333,-333\"/>\n",
       "<text text-anchor=\"start\" x=\"39.8333\" y=\"-318.733\" font-family=\"Times,serif\" font-size=\"14.00\">bus_station_n ≤ 10.5</text>\n",
       "<text text-anchor=\"start\" x=\"48.8333\" y=\"-301.933\" font-family=\"Times,serif\" font-size=\"14.00\">mse = 285901.38</text>\n",
       "<text text-anchor=\"start\" x=\"49.8333\" y=\"-285.133\" font-family=\"Times,serif\" font-size=\"14.00\">samples = 79512</text>\n",
       "<text text-anchor=\"start\" x=\"51.8333\" y=\"-268.333\" font-family=\"Times,serif\" font-size=\"14.00\">value = 120.155</text>\n",
       "</g>\n",
       "<!-- 1 -->\n",
       "<g id=\"node2\" class=\"node\"><title>1</title>\n",
       "<polygon fill=\"#e58139\" stroke=\"black\" points=\"407.333,-390 281.333,-390 281.333,-314 407.333,-314 407.333,-390\"/>\n",
       "<text text-anchor=\"start\" x=\"292.333\" y=\"-375.733\" font-family=\"Times,serif\" font-size=\"14.00\">car_rental_n ≤ 4.5</text>\n",
       "<text text-anchor=\"start\" x=\"289.333\" y=\"-358.933\" font-family=\"Times,serif\" font-size=\"14.00\">mse = 109463.564</text>\n",
       "<text text-anchor=\"start\" x=\"295.333\" y=\"-342.133\" font-family=\"Times,serif\" font-size=\"14.00\">samples = 78548</text>\n",
       "<text text-anchor=\"start\" x=\"301.833\" y=\"-325.333\" font-family=\"Times,serif\" font-size=\"14.00\">value = 93.678</text>\n",
       "</g>\n",
       "<!-- 0&#45;&gt;1 -->\n",
       "<g id=\"edge2\" class=\"edge\"><title>0&#45;&gt;1</title>\n",
       "<path fill=\"none\" stroke=\"black\" d=\"M165.554,-310.576C198.042,-318.103 237.117,-327.157 270.439,-334.878\"/>\n",
       "<polygon fill=\"black\" stroke=\"black\" points=\"270.05,-338.381 280.582,-337.228 271.63,-331.561 270.05,-338.381\"/>\n",
       "<text text-anchor=\"middle\" x=\"259.37\" y=\"-345.359\" font-family=\"Times,serif\" font-size=\"14.00\">True</text>\n",
       "</g>\n",
       "<!-- 8 -->\n",
       "<g id=\"node16\" class=\"node\"><title>8</title>\n",
       "<polygon fill=\"#e58139\" stroke=\"black\" points=\"406.333,-276 282.333,-276 282.333,-200 406.333,-200 406.333,-276\"/>\n",
       "<text text-anchor=\"start\" x=\"297.833\" y=\"-261.733\" font-family=\"Times,serif\" font-size=\"14.00\">lawyer_n ≤ 22.5</text>\n",
       "<text text-anchor=\"start\" x=\"290.333\" y=\"-244.933\" font-family=\"Times,serif\" font-size=\"14.00\">mse = 9950985.71</text>\n",
       "<text text-anchor=\"start\" x=\"301.833\" y=\"-228.133\" font-family=\"Times,serif\" font-size=\"14.00\">samples = 964</text>\n",
       "<text text-anchor=\"start\" x=\"298.833\" y=\"-211.333\" font-family=\"Times,serif\" font-size=\"14.00\">value = 2277.51</text>\n",
       "</g>\n",
       "<!-- 0&#45;&gt;8 -->\n",
       "<g id=\"edge16\" class=\"edge\"><title>0&#45;&gt;8</title>\n",
       "<path fill=\"none\" stroke=\"black\" d=\"M165.554,-279.424C198.441,-271.804 238.078,-262.62 271.664,-254.838\"/>\n",
       "<polygon fill=\"black\" stroke=\"black\" points=\"272.47,-258.244 281.421,-252.577 270.889,-251.425 272.47,-258.244\"/>\n",
       "<text text-anchor=\"middle\" x=\"260.21\" y=\"-234.246\" font-family=\"Times,serif\" font-size=\"14.00\">False</text>\n",
       "</g>\n",
       "<!-- 2 -->\n",
       "<g id=\"node4\" class=\"node\"><title>2</title>\n",
       "<polygon fill=\"#e58139\" stroke=\"black\" points=\"688.333,-523 530.333,-523 530.333,-447 688.333,-447 688.333,-523\"/>\n",
       "<text text-anchor=\"start\" x=\"538.333\" y=\"-508.733\" font-family=\"Times,serif\" font-size=\"14.00\">amusement_park_n ≤ 0.5</text>\n",
       "<text text-anchor=\"start\" x=\"554.833\" y=\"-491.933\" font-family=\"Times,serif\" font-size=\"14.00\">mse = 100849.616</text>\n",
       "<text text-anchor=\"start\" x=\"560.833\" y=\"-475.133\" font-family=\"Times,serif\" font-size=\"14.00\">samples = 78016</text>\n",
       "<text text-anchor=\"start\" x=\"565.333\" y=\"-458.333\" font-family=\"Times,serif\" font-size=\"14.00\">value = 87.544</text>\n",
       "</g>\n",
       "<!-- 1&#45;&gt;2 -->\n",
       "<g id=\"edge4\" class=\"edge\"><title>1&#45;&gt;2</title>\n",
       "<path fill=\"none\" stroke=\"black\" d=\"M408.145,-384.026C443.024,-401.531 486.68,-423.442 524.404,-442.375\"/>\n",
       "<polygon fill=\"black\" stroke=\"black\" points=\"522.847,-445.51 533.355,-446.867 525.987,-439.254 522.847,-445.51\"/>\n",
       "</g>\n",
       "<!-- 5 -->\n",
       "<g id=\"node10\" class=\"node\"><title>5</title>\n",
       "<polygon fill=\"#e58139\" stroke=\"black\" points=\"680.333,-390 538.333,-390 538.333,-314 680.333,-314 680.333,-390\"/>\n",
       "<text text-anchor=\"start\" x=\"546.833\" y=\"-375.733\" font-family=\"Times,serif\" font-size=\"14.00\">jewelry_store_n ≤ 2.5</text>\n",
       "<text text-anchor=\"start\" x=\"554.833\" y=\"-358.933\" font-family=\"Times,serif\" font-size=\"14.00\">mse = 557884.415</text>\n",
       "<text text-anchor=\"start\" x=\"567.833\" y=\"-342.133\" font-family=\"Times,serif\" font-size=\"14.00\">samples = 532</text>\n",
       "<text text-anchor=\"start\" x=\"563.333\" y=\"-325.333\" font-family=\"Times,serif\" font-size=\"14.00\">value = 993.271</text>\n",
       "</g>\n",
       "<!-- 1&#45;&gt;5 -->\n",
       "<g id=\"edge10\" class=\"edge\"><title>1&#45;&gt;5</title>\n",
       "<path fill=\"none\" stroke=\"black\" d=\"M408.145,-352C444.135,-352 489.471,-352 527.992,-352\"/>\n",
       "<polygon fill=\"black\" stroke=\"black\" points=\"528.144,-355.5 538.144,-352 528.144,-348.5 528.144,-355.5\"/>\n",
       "</g>\n",
       "<!-- 3 -->\n",
       "<g id=\"node6\" class=\"node\"><title>3</title>\n",
       "<polygon fill=\"#e58139\" stroke=\"black\" points=\"940.333,-590.5 822.333,-590.5 822.333,-531.5 940.333,-531.5 940.333,-590.5\"/>\n",
       "<text text-anchor=\"start\" x=\"830.833\" y=\"-576.233\" font-family=\"Times,serif\" font-size=\"14.00\">mse = 97554.017</text>\n",
       "<text text-anchor=\"start\" x=\"832.333\" y=\"-559.433\" font-family=\"Times,serif\" font-size=\"14.00\">samples = 77764</text>\n",
       "<text text-anchor=\"start\" x=\"837.833\" y=\"-542.633\" font-family=\"Times,serif\" font-size=\"14.00\">value = 85.042</text>\n",
       "</g>\n",
       "<!-- 2&#45;&gt;3 -->\n",
       "<g id=\"edge6\" class=\"edge\"><title>2&#45;&gt;3</title>\n",
       "<path fill=\"none\" stroke=\"black\" d=\"M689.104,-507.289C728.245,-518.225 774.926,-531.269 812.485,-541.763\"/>\n",
       "<polygon fill=\"black\" stroke=\"black\" points=\"811.751,-545.192 822.324,-544.512 813.635,-538.45 811.751,-545.192\"/>\n",
       "</g>\n",
       "<!-- 4 -->\n",
       "<g id=\"node8\" class=\"node\"><title>4</title>\n",
       "<polygon fill=\"#e58139\" stroke=\"black\" points=\"943.333,-514.5 819.333,-514.5 819.333,-455.5 943.333,-455.5 943.333,-514.5\"/>\n",
       "<text text-anchor=\"start\" x=\"827.833\" y=\"-500.233\" font-family=\"Times,serif\" font-size=\"14.00\">mse = 519760.587</text>\n",
       "<text text-anchor=\"start\" x=\"839.833\" y=\"-483.433\" font-family=\"Times,serif\" font-size=\"14.00\">samples = 252</text>\n",
       "<text text-anchor=\"start\" x=\"834.333\" y=\"-466.633\" font-family=\"Times,serif\" font-size=\"14.00\">value = 859.643</text>\n",
       "</g>\n",
       "<!-- 2&#45;&gt;4 -->\n",
       "<g id=\"edge8\" class=\"edge\"><title>2&#45;&gt;4</title>\n",
       "<path fill=\"none\" stroke=\"black\" d=\"M689.104,-485C727.075,-485 772.143,-485 809.094,-485\"/>\n",
       "<polygon fill=\"black\" stroke=\"black\" points=\"809.289,-488.5 819.289,-485 809.289,-481.5 809.289,-488.5\"/>\n",
       "</g>\n",
       "<!-- 6 -->\n",
       "<g id=\"node12\" class=\"node\"><title>6</title>\n",
       "<polygon fill=\"#e58139\" stroke=\"black\" points=\"942.333,-438.5 820.333,-438.5 820.333,-379.5 942.333,-379.5 942.333,-438.5\"/>\n",
       "<text text-anchor=\"start\" x=\"828.333\" y=\"-424.233\" font-family=\"Times,serif\" font-size=\"14.00\">mse = 326860.167</text>\n",
       "<text text-anchor=\"start\" x=\"839.333\" y=\"-407.433\" font-family=\"Times,serif\" font-size=\"14.00\">samples = 266</text>\n",
       "<text text-anchor=\"start\" x=\"834.333\" y=\"-390.633\" font-family=\"Times,serif\" font-size=\"14.00\">value = 714.586</text>\n",
       "</g>\n",
       "<!-- 5&#45;&gt;6 -->\n",
       "<g id=\"edge12\" class=\"edge\"><title>5&#45;&gt;6</title>\n",
       "<path fill=\"none\" stroke=\"black\" d=\"M680.443,-366.902C720.202,-375.234 769.626,-385.591 809.502,-393.947\"/>\n",
       "<polygon fill=\"black\" stroke=\"black\" points=\"808.917,-397.4 819.422,-396.026 810.353,-390.549 808.917,-397.4\"/>\n",
       "</g>\n",
       "<!-- 7 -->\n",
       "<g id=\"node14\" class=\"node\"><title>7</title>\n",
       "<polygon fill=\"#e58139\" stroke=\"black\" points=\"942.333,-362.5 820.333,-362.5 820.333,-303.5 942.333,-303.5 942.333,-362.5\"/>\n",
       "<text text-anchor=\"start\" x=\"828.333\" y=\"-348.233\" font-family=\"Times,serif\" font-size=\"14.00\">mse = 633578.885</text>\n",
       "<text text-anchor=\"start\" x=\"839.333\" y=\"-331.433\" font-family=\"Times,serif\" font-size=\"14.00\">samples = 266</text>\n",
       "<text text-anchor=\"start\" x=\"831.333\" y=\"-314.633\" font-family=\"Times,serif\" font-size=\"14.00\">value = 1271.955</text>\n",
       "</g>\n",
       "<!-- 5&#45;&gt;7 -->\n",
       "<g id=\"edge14\" class=\"edge\"><title>5&#45;&gt;7</title>\n",
       "<path fill=\"none\" stroke=\"black\" d=\"M680.443,-347.033C720.118,-344.261 769.417,-340.818 809.248,-338.035\"/>\n",
       "<polygon fill=\"black\" stroke=\"black\" points=\"809.691,-341.513 819.422,-337.325 809.203,-334.53 809.691,-341.513\"/>\n",
       "</g>\n",
       "<!-- 9 -->\n",
       "<g id=\"node18\" class=\"node\"><title>9</title>\n",
       "<polygon fill=\"#e58139\" stroke=\"black\" points=\"682.333,-276 536.333,-276 536.333,-200 682.333,-200 682.333,-276\"/>\n",
       "<text text-anchor=\"start\" x=\"544.833\" y=\"-261.733\" font-family=\"Times,serif\" font-size=\"14.00\">clothing_store_n ≤ 7.5</text>\n",
       "<text text-anchor=\"start\" x=\"563.333\" y=\"-244.933\" font-family=\"Times,serif\" font-size=\"14.00\">mse = 11909.21</text>\n",
       "<text text-anchor=\"start\" x=\"566.833\" y=\"-228.133\" font-family=\"Times,serif\" font-size=\"14.00\">samples = 540</text>\n",
       "<text text-anchor=\"start\" x=\"566.833\" y=\"-211.333\" font-family=\"Times,serif\" font-size=\"14.00\">value = 36.889</text>\n",
       "</g>\n",
       "<!-- 8&#45;&gt;9 -->\n",
       "<g id=\"edge18\" class=\"edge\"><title>8&#45;&gt;9</title>\n",
       "<path fill=\"none\" stroke=\"black\" d=\"M407.135,-238C442.681,-238 487.583,-238 526.04,-238\"/>\n",
       "<polygon fill=\"black\" stroke=\"black\" points=\"526.184,-241.5 536.184,-238 526.184,-234.5 526.184,-241.5\"/>\n",
       "</g>\n",
       "<!-- 12 -->\n",
       "<g id=\"node24\" class=\"node\"><title>12</title>\n",
       "<polygon fill=\"#e58139\" stroke=\"black\" points=\"675.333,-143 543.333,-143 543.333,-67 675.333,-67 675.333,-143\"/>\n",
       "<text text-anchor=\"start\" x=\"555.833\" y=\"-128.733\" font-family=\"Times,serif\" font-size=\"14.00\">night_club_n ≤ 2.5</text>\n",
       "<text text-anchor=\"start\" x=\"551.833\" y=\"-111.933\" font-family=\"Times,serif\" font-size=\"14.00\">mse = 8072200.605</text>\n",
       "<text text-anchor=\"start\" x=\"566.833\" y=\"-95.1333\" font-family=\"Times,serif\" font-size=\"14.00\">samples = 424</text>\n",
       "<text text-anchor=\"start\" x=\"560.333\" y=\"-78.3333\" font-family=\"Times,serif\" font-size=\"14.00\">value = 5131.132</text>\n",
       "</g>\n",
       "<!-- 8&#45;&gt;12 -->\n",
       "<g id=\"edge24\" class=\"edge\"><title>8&#45;&gt;12</title>\n",
       "<path fill=\"none\" stroke=\"black\" d=\"M407.135,-206.481C445.269,-187.342 494.172,-162.798 534.331,-142.642\"/>\n",
       "<polygon fill=\"black\" stroke=\"black\" points=\"535.917,-145.763 543.285,-138.149 532.777,-139.506 535.917,-145.763\"/>\n",
       "</g>\n",
       "<!-- 10 -->\n",
       "<g id=\"node20\" class=\"node\"><title>10</title>\n",
       "<polygon fill=\"#e58139\" stroke=\"black\" points=\"940.333,-286.5 822.333,-286.5 822.333,-227.5 940.333,-227.5 940.333,-286.5\"/>\n",
       "<text text-anchor=\"start\" x=\"830.333\" y=\"-272.233\" font-family=\"Times,serif\" font-size=\"14.00\">mse = 27449.109</text>\n",
       "<text text-anchor=\"start\" x=\"840.333\" y=\"-255.433\" font-family=\"Times,serif\" font-size=\"14.00\">samples = 121</text>\n",
       "<text text-anchor=\"start\" x=\"838.333\" y=\"-238.633\" font-family=\"Times,serif\" font-size=\"14.00\">value = 86.529</text>\n",
       "</g>\n",
       "<!-- 9&#45;&gt;10 -->\n",
       "<g id=\"edge20\" class=\"edge\"><title>9&#45;&gt;10</title>\n",
       "<path fill=\"none\" stroke=\"black\" d=\"M682.582,-243.117C722.677,-245.917 772.093,-249.369 811.619,-252.13\"/>\n",
       "<polygon fill=\"black\" stroke=\"black\" points=\"811.485,-255.629 821.704,-252.835 811.972,-248.646 811.485,-255.629\"/>\n",
       "</g>\n",
       "<!-- 11 -->\n",
       "<g id=\"node22\" class=\"node\"><title>11</title>\n",
       "<polygon fill=\"none\" stroke=\"black\" points=\"937.333,-210.5 825.333,-210.5 825.333,-151.5 937.333,-151.5 937.333,-210.5\"/>\n",
       "<text text-anchor=\"start\" x=\"833.333\" y=\"-196.233\" font-family=\"Times,serif\" font-size=\"14.00\">mse = 6504.457</text>\n",
       "<text text-anchor=\"start\" x=\"838.833\" y=\"-179.433\" font-family=\"Times,serif\" font-size=\"14.00\">samples = 419</text>\n",
       "<text text-anchor=\"start\" x=\"837.833\" y=\"-162.633\" font-family=\"Times,serif\" font-size=\"14.00\">value = 22.554</text>\n",
       "</g>\n",
       "<!-- 9&#45;&gt;11 -->\n",
       "<g id=\"edge22\" class=\"edge\"><title>9&#45;&gt;11</title>\n",
       "<path fill=\"none\" stroke=\"black\" d=\"M682.582,-222.65C723.778,-214.017 774.812,-203.322 814.851,-194.932\"/>\n",
       "<polygon fill=\"black\" stroke=\"black\" points=\"815.712,-198.328 824.781,-192.851 814.276,-191.477 815.712,-198.328\"/>\n",
       "</g>\n",
       "<!-- 13 -->\n",
       "<g id=\"node26\" class=\"node\"><title>13</title>\n",
       "<polygon fill=\"#e58139\" stroke=\"black\" points=\"946.333,-134.5 816.333,-134.5 816.333,-75.5 946.333,-75.5 946.333,-134.5\"/>\n",
       "<text text-anchor=\"start\" x=\"824.333\" y=\"-120.233\" font-family=\"Times,serif\" font-size=\"14.00\">mse = 5863280.598</text>\n",
       "<text text-anchor=\"start\" x=\"840.333\" y=\"-103.433\" font-family=\"Times,serif\" font-size=\"14.00\">samples = 318</text>\n",
       "<text text-anchor=\"start\" x=\"831.333\" y=\"-86.6333\" font-family=\"Times,serif\" font-size=\"14.00\">value = 4787.925</text>\n",
       "</g>\n",
       "<!-- 12&#45;&gt;13 -->\n",
       "<g id=\"edge26\" class=\"edge\"><title>12&#45;&gt;13</title>\n",
       "<path fill=\"none\" stroke=\"black\" d=\"M675.524,-105C714.81,-105 764.758,-105 805.61,-105\"/>\n",
       "<polygon fill=\"black\" stroke=\"black\" points=\"805.788,-108.5 815.788,-105 805.788,-101.5 805.788,-108.5\"/>\n",
       "</g>\n",
       "<!-- 14 -->\n",
       "<g id=\"node28\" class=\"node\"><title>14</title>\n",
       "<polygon fill=\"#e58139\" stroke=\"black\" points=\"950.333,-58.5 812.333,-58.5 812.333,0.5 950.333,0.5 950.333,-58.5\"/>\n",
       "<text text-anchor=\"start\" x=\"820.833\" y=\"-44.2333\" font-family=\"Times,serif\" font-size=\"14.00\">mse = 13285463.581</text>\n",
       "<text text-anchor=\"start\" x=\"839.333\" y=\"-27.4333\" font-family=\"Times,serif\" font-size=\"14.00\">samples = 106</text>\n",
       "<text text-anchor=\"start\" x=\"830.833\" y=\"-10.6333\" font-family=\"Times,serif\" font-size=\"14.00\">value = 6160.755</text>\n",
       "</g>\n",
       "<!-- 12&#45;&gt;14 -->\n",
       "<g id=\"edge28\" class=\"edge\"><title>12&#45;&gt;14</title>\n",
       "<path fill=\"none\" stroke=\"black\" d=\"M675.524,-86.5055C713.731,-75.83 762.023,-62.3367 802.224,-51.104\"/>\n",
       "<polygon fill=\"black\" stroke=\"black\" points=\"803.304,-54.4365 811.993,-48.3745 801.42,-47.6947 803.304,-54.4365\"/>\n",
       "</g>\n",
       "</g>\n",
       "</svg>\n"
      ],
      "text/plain": [
       "<graphviz.files.Source at 0x1c9ae04358>"
      ]
     },
     "metadata": {},
     "output_type": "display_data"
    }
   ],
   "source": [
    "draw_tree(m.estimators_[0], df, precision=3)"
   ]
  },
  {
   "cell_type": "markdown",
   "metadata": {},
   "source": [
    "#### Out-of-bag score: due to limitation "
   ]
  },
  {
   "cell_type": "code",
   "execution_count": 35,
   "metadata": {},
   "outputs": [
    {
     "name": "stderr",
     "output_type": "stream",
     "text": [
      "/anaconda3/envs/pmi_interview/lib/python3.6/site-packages/sklearn/ensemble/forest.py:724: UserWarning: Some inputs do not have OOB scores. This probably means too few trees were used to compute any reliable oob estimates.\n",
      "  warn(\"Some inputs do not have OOB scores. \"\n"
     ]
    },
    {
     "name": "stdout",
     "output_type": "stream",
     "text": [
      "[272.07676667168244, 262.5569464799319, 0.7410793642972213, 0.5657599757806845, 0.5731855773351913]\n"
     ]
    }
   ],
   "source": [
    "m = RandomForestRegressor(n_estimators=10, n_jobs=-1, oob_score=True)\n",
    "m.fit(X_train, y_train)\n",
    "print_score(m)"
   ]
  },
  {
   "cell_type": "markdown",
   "metadata": {},
   "source": [
    "#### Subsampling"
   ]
  },
  {
   "cell_type": "code",
   "execution_count": 36,
   "metadata": {},
   "outputs": [],
   "source": [
    "set_rf_samples(20000)"
   ]
  },
  {
   "cell_type": "code",
   "execution_count": 37,
   "metadata": {},
   "outputs": [
    {
     "name": "stdout",
     "output_type": "stream",
     "text": [
      "CPU times: user 11.1 s, sys: 271 ms, total: 11.4 s\n",
      "Wall time: 4.49 s\n",
      "[326.8417749677399, 276.81654508329893, 0.6263552627772876, 0.5173115440581696, 0.5359910343261824]\n"
     ]
    }
   ],
   "source": [
    "m = RandomForestRegressor(n_jobs=-1, oob_score=True)\n",
    "%time m.fit(X_train, y_train)\n",
    "print_score(m)"
   ]
  },
  {
   "cell_type": "markdown",
   "metadata": {},
   "source": [
    "#### Tree building parameters¶"
   ]
  },
  {
   "cell_type": "code",
   "execution_count": 38,
   "metadata": {},
   "outputs": [],
   "source": [
    "reset_rf_samples()"
   ]
  },
  {
   "cell_type": "code",
   "execution_count": 40,
   "metadata": {},
   "outputs": [
    {
     "name": "stderr",
     "output_type": "stream",
     "text": [
      "/anaconda3/envs/pmi_interview/lib/python3.6/site-packages/sklearn/ensemble/forest.py:724: UserWarning: Some inputs do not have OOB scores. This probably means too few trees were used to compute any reliable oob estimates.\n",
      "  warn(\"Some inputs do not have OOB scores. \"\n"
     ]
    },
    {
     "name": "stdout",
     "output_type": "stream",
     "text": [
      "[302.79446543544424, 265.9769365080925, 0.679314285168981, 0.5543737314670825, 0.5657531637432531]\n"
     ]
    }
   ],
   "source": [
    "m = RandomForestRegressor(n_estimators=10, min_samples_leaf=3, max_features=0.6, n_jobs=-1, oob_score=True)\n",
    "m.fit(X_train, y_train)\n",
    "print_score(m)"
   ]
  },
  {
   "cell_type": "markdown",
   "metadata": {},
   "source": [
    "#### Feature importance"
   ]
  },
  {
   "cell_type": "code",
   "execution_count": 41,
   "metadata": {},
   "outputs": [
    {
     "data": {
      "text/html": [
       "<div>\n",
       "<style scoped>\n",
       "    .dataframe tbody tr th:only-of-type {\n",
       "        vertical-align: middle;\n",
       "    }\n",
       "\n",
       "    .dataframe tbody tr th {\n",
       "        vertical-align: top;\n",
       "    }\n",
       "\n",
       "    .dataframe thead th {\n",
       "        text-align: right;\n",
       "    }\n",
       "</style>\n",
       "<table border=\"1\" class=\"dataframe\">\n",
       "  <thead>\n",
       "    <tr style=\"text-align: right;\">\n",
       "      <th></th>\n",
       "      <th>cols</th>\n",
       "      <th>imp</th>\n",
       "    </tr>\n",
       "  </thead>\n",
       "  <tbody>\n",
       "    <tr>\n",
       "      <th>24</th>\n",
       "      <td>bus_station_n</td>\n",
       "      <td>0.174275</td>\n",
       "    </tr>\n",
       "    <tr>\n",
       "      <th>76</th>\n",
       "      <td>physiotherapist_n</td>\n",
       "      <td>0.108085</td>\n",
       "    </tr>\n",
       "    <tr>\n",
       "      <th>19</th>\n",
       "      <td>bar_n</td>\n",
       "      <td>0.079524</td>\n",
       "    </tr>\n",
       "    <tr>\n",
       "      <th>3</th>\n",
       "      <td>Day</td>\n",
       "      <td>0.077590</td>\n",
       "    </tr>\n",
       "    <tr>\n",
       "      <th>93</th>\n",
       "      <td>transit_station_n</td>\n",
       "      <td>0.066713</td>\n",
       "    </tr>\n",
       "    <tr>\n",
       "      <th>80</th>\n",
       "      <td>real_estate_agency_n</td>\n",
       "      <td>0.054061</td>\n",
       "    </tr>\n",
       "    <tr>\n",
       "      <th>2</th>\n",
       "      <td>Week</td>\n",
       "      <td>0.052470</td>\n",
       "    </tr>\n",
       "    <tr>\n",
       "      <th>35</th>\n",
       "      <td>clothing_store_n</td>\n",
       "      <td>0.045203</td>\n",
       "    </tr>\n",
       "    <tr>\n",
       "      <th>55</th>\n",
       "      <td>jewelry_store_n</td>\n",
       "      <td>0.042375</td>\n",
       "    </tr>\n",
       "    <tr>\n",
       "      <th>57</th>\n",
       "      <td>lawyer_n</td>\n",
       "      <td>0.041768</td>\n",
       "    </tr>\n",
       "  </tbody>\n",
       "</table>\n",
       "</div>"
      ],
      "text/plain": [
       "                    cols       imp\n",
       "24         bus_station_n  0.174275\n",
       "76     physiotherapist_n  0.108085\n",
       "19                 bar_n  0.079524\n",
       "3                    Day  0.077590\n",
       "93     transit_station_n  0.066713\n",
       "80  real_estate_agency_n  0.054061\n",
       "2                   Week  0.052470\n",
       "35      clothing_store_n  0.045203\n",
       "55       jewelry_store_n  0.042375\n",
       "57              lawyer_n  0.041768"
      ]
     },
     "execution_count": 41,
     "metadata": {},
     "output_type": "execute_result"
    }
   ],
   "source": [
    "fi = rf_feat_importance(m, df); fi[:10]"
   ]
  },
  {
   "cell_type": "code",
   "execution_count": 98,
   "metadata": {},
   "outputs": [
    {
     "data": {
      "image/png": "[encoded data removed]",
      "text/plain": [
       "<Figure size 720x432 with 1 Axes>"
      ]
     },
     "metadata": {},
     "output_type": "display_data"
    },
    {
     "data": {
      "image/png": "[encoded data removed]",
      "text/plain": [
       "<Figure size 864x504 with 1 Axes>"
      ]
     },
     "metadata": {},
     "output_type": "display_data"
    }
   ],
   "source": [
    "fi.plot('cols', 'imp', figsize=(10,6), legend=False);\n",
    "def plot_fi(fi): return fi.plot('cols', 'imp', 'barh', figsize=(12,7), legend=False)\n",
    "plot_fi(fi[:30]);"
   ]
  },
  {
   "cell_type": "code",
   "execution_count": 99,
   "metadata": {},
   "outputs": [
    {
     "data": {
      "text/plain": [
       "21"
      ]
     },
     "execution_count": 99,
     "metadata": {},
     "output_type": "execute_result"
    }
   ],
   "source": [
    "to_keep = fi[fi.imp>0.005].cols; len(to_keep)"
   ]
  },
  {
   "cell_type": "code",
   "execution_count": 100,
   "metadata": {},
   "outputs": [],
   "source": [
    "df_keep = df[to_keep].copy()\n",
    "X_train, X_valid = split_vals(df, n_trn)"
   ]
  },
  {
   "cell_type": "code",
   "execution_count": 101,
   "metadata": {},
   "outputs": [
    {
     "name": "stderr",
     "output_type": "stream",
     "text": [
      "/anaconda3/envs/pmi_interview/lib/python3.6/site-packages/sklearn/ensemble/forest.py:724: UserWarning: Some inputs do not have OOB scores. This probably means too few trees were used to compute any reliable oob estimates.\n",
      "  warn(\"Some inputs do not have OOB scores. \"\n"
     ]
    },
    {
     "name": "stdout",
     "output_type": "stream",
     "text": [
      "[303.0898026630136, 267.89141045892666, 0.6786884043838002, 0.547935501900068, 0.5502179371042637]\n"
     ]
    }
   ],
   "source": [
    "m = RandomForestRegressor(n_estimators=10, min_samples_leaf=3, max_features=0.6,\n",
    "                          n_jobs=-1, oob_score=True)\n",
    "m.fit(X_train, y_train)\n",
    "print_score(m)"
   ]
  },
  {
   "cell_type": "markdown",
   "metadata": {},
   "source": [
    "#### Removing redundant features"
   ]
  },
  {
   "cell_type": "code",
   "execution_count": 85,
   "metadata": {},
   "outputs": [
    {
     "data": {
      "image/png": "[encoded data removed]",
      "text/plain": [
       "<Figure size 1152x720 with 1 Axes>"
      ]
     },
     "metadata": {},
     "output_type": "display_data"
    }
   ],
   "source": [
    "from scipy.cluster import hierarchy as hc\n",
    "corr = np.round(scipy.stats.spearmanr(df_keep).correlation, 4)\n",
    "corr_condensed = hc.distance.squareform(1-corr)\n",
    "z = hc.linkage(corr_condensed, method='average')\n",
    "fig = plt.figure(figsize=(16,10))\n",
    "dendrogram = hc.dendrogram(z, labels=df_keep.columns, orientation='left', leaf_font_size=16)\n",
    "plt.show()"
   ]
  },
  {
   "cell_type": "code",
   "execution_count": 86,
   "metadata": {},
   "outputs": [],
   "source": [
    "def get_oob(df):\n",
    "    m = RandomForestRegressor(n_estimators=10, min_samples_leaf=5, max_features=0.6, n_jobs=-1, oob_score=True)\n",
    "    x, _ = split_vals(df, n_trn)\n",
    "    m.fit(x, y_train)\n",
    "    return m.oob_score_"
   ]
  },
  {
   "cell_type": "code",
   "execution_count": 87,
   "metadata": {},
   "outputs": [
    {
     "name": "stderr",
     "output_type": "stream",
     "text": [
      "/anaconda3/envs/pmi_interview/lib/python3.6/site-packages/sklearn/ensemble/forest.py:724: UserWarning: Some inputs do not have OOB scores. This probably means too few trees were used to compute any reliable oob estimates.\n",
      "  warn(\"Some inputs do not have OOB scores. \"\n"
     ]
    },
    {
     "data": {
      "text/plain": [
       "0.5585394241374957"
      ]
     },
     "execution_count": 87,
     "metadata": {},
     "output_type": "execute_result"
    }
   ],
   "source": [
    "get_oob(df_keep)\n"
   ]
  },
  {
   "cell_type": "code",
   "execution_count": 88,
   "metadata": {},
   "outputs": [
    {
     "name": "stderr",
     "output_type": "stream",
     "text": [
      "/anaconda3/envs/pmi_interview/lib/python3.6/site-packages/sklearn/ensemble/forest.py:724: UserWarning: Some inputs do not have OOB scores. This probably means too few trees were used to compute any reliable oob estimates.\n",
      "  warn(\"Some inputs do not have OOB scores. \"\n"
     ]
    },
    {
     "name": "stdout",
     "output_type": "stream",
     "text": [
      "Week 0.5531993208640307\n"
     ]
    },
    {
     "name": "stderr",
     "output_type": "stream",
     "text": [
      "/anaconda3/envs/pmi_interview/lib/python3.6/site-packages/sklearn/ensemble/forest.py:724: UserWarning: Some inputs do not have OOB scores. This probably means too few trees were used to compute any reliable oob estimates.\n",
      "  warn(\"Some inputs do not have OOB scores. \"\n"
     ]
    },
    {
     "name": "stdout",
     "output_type": "stream",
     "text": [
      "Month 0.5443056638310849\n"
     ]
    },
    {
     "name": "stderr",
     "output_type": "stream",
     "text": [
      "/anaconda3/envs/pmi_interview/lib/python3.6/site-packages/sklearn/ensemble/forest.py:724: UserWarning: Some inputs do not have OOB scores. This probably means too few trees were used to compute any reliable oob estimates.\n",
      "  warn(\"Some inputs do not have OOB scores. \"\n"
     ]
    },
    {
     "name": "stdout",
     "output_type": "stream",
     "text": [
      "transit_station_n 0.5516538834683276\n",
      "bus_station_n 0.5586419037963744\n"
     ]
    },
    {
     "name": "stderr",
     "output_type": "stream",
     "text": [
      "/anaconda3/envs/pmi_interview/lib/python3.6/site-packages/sklearn/ensemble/forest.py:724: UserWarning: Some inputs do not have OOB scores. This probably means too few trees were used to compute any reliable oob estimates.\n",
      "  warn(\"Some inputs do not have OOB scores. \"\n"
     ]
    }
   ],
   "source": [
    "for c in ('Week', 'Month', 'transit_station_n', 'bus_station_n'):\n",
    "    print(c, get_oob(df_keep.drop(c, axis=1)))\n"
   ]
  },
  {
   "cell_type": "code",
   "execution_count": 92,
   "metadata": {},
   "outputs": [
    {
     "name": "stderr",
     "output_type": "stream",
     "text": [
      "/anaconda3/envs/pmi_interview/lib/python3.6/site-packages/sklearn/ensemble/forest.py:724: UserWarning: Some inputs do not have OOB scores. This probably means too few trees were used to compute any reliable oob estimates.\n",
      "  warn(\"Some inputs do not have OOB scores. \"\n"
     ]
    },
    {
     "data": {
      "text/plain": [
       "0.5601241198096536"
      ]
     },
     "execution_count": 92,
     "metadata": {},
     "output_type": "execute_result"
    }
   ],
   "source": [
    "to_drop = ['Month']\n",
    "get_oob(df_keep.drop(to_drop, axis=1))"
   ]
  },
  {
   "cell_type": "code",
   "execution_count": 93,
   "metadata": {},
   "outputs": [],
   "source": [
    "df_keep.drop(to_drop, axis=1, inplace=True)\n",
    "X_train, X_valid = split_vals(df_keep, n_trn)"
   ]
  },
  {
   "cell_type": "code",
   "execution_count": 94,
   "metadata": {},
   "outputs": [],
   "source": [
    "np.save('tmp/keep_cols.npy', np.array(df_keep.columns))"
   ]
  },
  {
   "cell_type": "code",
   "execution_count": 95,
   "metadata": {},
   "outputs": [],
   "source": [
    "keep_cols = np.load('tmp/keep_cols.npy')\n",
    "df_keep = df[keep_cols]\n",
    "\n",
    "reset_rf_samples()\n"
   ]
  },
  {
   "cell_type": "code",
   "execution_count": 96,
   "metadata": {},
   "outputs": [
    {
     "name": "stderr",
     "output_type": "stream",
     "text": [
      "/anaconda3/envs/pmi_interview/lib/python3.6/site-packages/sklearn/ensemble/forest.py:724: UserWarning: Some inputs do not have OOB scores. This probably means too few trees were used to compute any reliable oob estimates.\n",
      "  warn(\"Some inputs do not have OOB scores. \"\n"
     ]
    },
    {
     "name": "stdout",
     "output_type": "stream",
     "text": [
      "[301.27893586744824, 266.62389076620883, 0.6825164071807532, 0.5522032392310401, 0.5640580888606878]\n"
     ]
    }
   ],
   "source": [
    "m = RandomForestRegressor(n_estimators=10, min_samples_leaf=3, max_features=0.6, n_jobs=-1, oob_score=True)\n",
    "m.fit(X_train, y_train)\n",
    "print_score(m)"
   ]
  },
  {
   "cell_type": "markdown",
   "metadata": {},
   "source": [
    "#### Tree interpreter"
   ]
  },
  {
   "cell_type": "code",
   "execution_count": 516,
   "metadata": {},
   "outputs": [],
   "source": [
    "from treeinterpreter import treeinterpreter as ti"
   ]
  },
  {
   "cell_type": "code",
   "execution_count": 517,
   "metadata": {},
   "outputs": [],
   "source": [
    "df_train, df_valid = split_vals(df[df_keep.columns], n_trn)"
   ]
  },
  {
   "cell_type": "code",
   "execution_count": 518,
   "metadata": {},
   "outputs": [
    {
     "data": {
      "text/plain": [
       "array([[   1.,    0.,   13.,    1.,    0.,    0.,    1.,    0.,    1.,    0.,    0.,    4.,    3.,    2.,\n",
       "           3.,    0.,    0., 2017.,    0.,    7.,    0.]])"
      ]
     },
     "execution_count": 518,
     "metadata": {},
     "output_type": "execute_result"
    }
   ],
   "source": [
    "row = X_valid.values[None,0]; row\n"
   ]
  },
  {
   "cell_type": "code",
   "execution_count": 519,
   "metadata": {},
   "outputs": [],
   "source": [
    "prediction, bias, contributions = ti.predict(m, row)"
   ]
  },
  {
   "cell_type": "code",
   "execution_count": 520,
   "metadata": {},
   "outputs": [
    {
     "data": {
      "text/plain": [
       "(30.730952380952385, 117.30488399826538)"
      ]
     },
     "execution_count": 520,
     "metadata": {},
     "output_type": "execute_result"
    }
   ],
   "source": [
    "prediction[0], bias[0]\n"
   ]
  },
  {
   "cell_type": "code",
   "execution_count": 521,
   "metadata": {},
   "outputs": [],
   "source": [
    "idxs = np.argsort(contributions[0])"
   ]
  },
  {
   "cell_type": "code",
   "execution_count": 522,
   "metadata": {},
   "outputs": [
    {
     "data": {
      "text/plain": [
       "[('pharmacy_n', 1.0, -15.135320922672602),\n",
       " ('local_government_office_n', 0.0, -14.303049534318154),\n",
       " ('physiotherapist_n', 3.0, -12.345896048353032),\n",
       " ('transit_station_n', 2.0, -12.118644187900447),\n",
       " ('real_estate_agency_n', 1.0, -11.973547115240656),\n",
       " ('hair_care_n', 1.0, -8.01181933960422),\n",
       " ('Year', 2017.0, -6.333017977387876),\n",
       " ('restaurant_n', 7.0, -4.553232003556315),\n",
       " ('car_rental_n', 0.0, -3.394146276563782),\n",
       " ('lawyer_n', 0.0, -3.2812750213174873),\n",
       " ('subway_station_n', 0.0, -2.5616304939190155),\n",
       " ('amusement_park_n', 0.0, -2.10740513634075),\n",
       " ('Dayofweek', 3.0, -1.9912468533909995),\n",
       " ('movie_theater_n', 0.0, -1.5174289152730744),\n",
       " ('lodging_n', 0.0, -0.7554577379901637),\n",
       " ('night_club_n', 0.0, -0.20687167440049598),\n",
       " ('insurance_agency_n', 0.0, -0.12708097057283138),\n",
       " ('Month', 4.0, 0.5412304320973885),\n",
       " ('laundry_n', 0.0, 0.6671020176930073),\n",
       " ('shopping_mall_n', 1.0, 1.7853319699632426),\n",
       " ('Day', 13.0, 11.149474171735244)]"
      ]
     },
     "execution_count": 522,
     "metadata": {},
     "output_type": "execute_result"
    }
   ],
   "source": [
    "[o for o in zip(df_keep.columns[idxs], df_valid.iloc[0][idxs], contributions[0][idxs])]"
   ]
  },
  {
   "cell_type": "markdown",
   "metadata": {},
   "source": [
    "#### Extrapolation"
   ]
  },
  {
   "cell_type": "code",
   "execution_count": 107,
   "metadata": {},
   "outputs": [
    {
     "name": "stderr",
     "output_type": "stream",
     "text": [
      "/anaconda3/envs/pmi_interview/lib/python3.6/site-packages/ipykernel_launcher.py:3: SettingWithCopyWarning: \n",
      "A value is trying to be set on a copy of a slice from a DataFrame\n",
      "\n",
      "See the caveats in the documentation: http://pandas.pydata.org/pandas-docs/stable/indexing.html#indexing-view-versus-copy\n",
      "  This is separate from the ipykernel package so we can avoid doing imports until\n"
     ]
    }
   ],
   "source": [
    "df_ext = df_keep.copy()\n",
    "df_ext['is_valid'] = 1\n",
    "df_ext.is_valid[:n_trn] = 0\n",
    "x, y, nas = proc_df(df_ext, 'is_valid')"
   ]
  },
  {
   "cell_type": "code",
   "execution_count": 108,
   "metadata": {},
   "outputs": [
    {
     "name": "stderr",
     "output_type": "stream",
     "text": [
      "/anaconda3/envs/pmi_interview/lib/python3.6/site-packages/sklearn/ensemble/forest.py:453: UserWarning: Some inputs do not have OOB scores. This probably means too few trees were used to compute any reliable oob estimates.\n",
      "  warn(\"Some inputs do not have OOB scores. \"\n",
      "/anaconda3/envs/pmi_interview/lib/python3.6/site-packages/sklearn/ensemble/forest.py:458: RuntimeWarning: divide by zero encountered in true_divide\n",
      "  predictions[k].sum(axis=1)[:, np.newaxis])\n",
      "/anaconda3/envs/pmi_interview/lib/python3.6/site-packages/sklearn/ensemble/forest.py:458: RuntimeWarning: invalid value encountered in true_divide\n",
      "  predictions[k].sum(axis=1)[:, np.newaxis])\n"
     ]
    },
    {
     "data": {
      "text/plain": [
       "0.9980113930605904"
      ]
     },
     "execution_count": 108,
     "metadata": {},
     "output_type": "execute_result"
    }
   ],
   "source": [
    "m = RandomForestClassifier(n_estimators=10, min_samples_leaf=3, max_features=0.6, n_jobs=-1, oob_score=True)\n",
    "m.fit(x, y);\n",
    "m.oob_score_"
   ]
  },
  {
   "cell_type": "code",
   "execution_count": 109,
   "metadata": {},
   "outputs": [
    {
     "data": {
      "text/html": [
       "<div>\n",
       "<style scoped>\n",
       "    .dataframe tbody tr th:only-of-type {\n",
       "        vertical-align: middle;\n",
       "    }\n",
       "\n",
       "    .dataframe tbody tr th {\n",
       "        vertical-align: top;\n",
       "    }\n",
       "\n",
       "    .dataframe thead th {\n",
       "        text-align: right;\n",
       "    }\n",
       "</style>\n",
       "<table border=\"1\" class=\"dataframe\">\n",
       "  <thead>\n",
       "    <tr style=\"text-align: right;\">\n",
       "      <th></th>\n",
       "      <th>cols</th>\n",
       "      <th>imp</th>\n",
       "    </tr>\n",
       "  </thead>\n",
       "  <tbody>\n",
       "    <tr>\n",
       "      <th>20</th>\n",
       "      <td>Year</td>\n",
       "      <td>0.426199</td>\n",
       "    </tr>\n",
       "    <tr>\n",
       "      <th>6</th>\n",
       "      <td>Week</td>\n",
       "      <td>0.336729</td>\n",
       "    </tr>\n",
       "    <tr>\n",
       "      <th>11</th>\n",
       "      <td>Month</td>\n",
       "      <td>0.216186</td>\n",
       "    </tr>\n",
       "    <tr>\n",
       "      <th>13</th>\n",
       "      <td>Dayofweek</td>\n",
       "      <td>0.009739</td>\n",
       "    </tr>\n",
       "    <tr>\n",
       "      <th>3</th>\n",
       "      <td>Day</td>\n",
       "      <td>0.009005</td>\n",
       "    </tr>\n",
       "    <tr>\n",
       "      <th>2</th>\n",
       "      <td>bar_n</td>\n",
       "      <td>0.001107</td>\n",
       "    </tr>\n",
       "    <tr>\n",
       "      <th>19</th>\n",
       "      <td>restaurant_n</td>\n",
       "      <td>0.000597</td>\n",
       "    </tr>\n",
       "    <tr>\n",
       "      <th>1</th>\n",
       "      <td>physiotherapist_n</td>\n",
       "      <td>0.000205</td>\n",
       "    </tr>\n",
       "    <tr>\n",
       "      <th>14</th>\n",
       "      <td>doctor_n</td>\n",
       "      <td>0.000060</td>\n",
       "    </tr>\n",
       "    <tr>\n",
       "      <th>0</th>\n",
       "      <td>bus_station_n</td>\n",
       "      <td>0.000047</td>\n",
       "    </tr>\n",
       "  </tbody>\n",
       "</table>\n",
       "</div>"
      ],
      "text/plain": [
       "                 cols       imp\n",
       "20               Year  0.426199\n",
       "6                Week  0.336729\n",
       "11              Month  0.216186\n",
       "13          Dayofweek  0.009739\n",
       "3                 Day  0.009005\n",
       "2               bar_n  0.001107\n",
       "19       restaurant_n  0.000597\n",
       "1   physiotherapist_n  0.000205\n",
       "14           doctor_n  0.000060\n",
       "0       bus_station_n  0.000047"
      ]
     },
     "execution_count": 109,
     "metadata": {},
     "output_type": "execute_result"
    }
   ],
   "source": [
    "fi = rf_feat_importance(m, x); fi[:10]"
   ]
  },
  {
   "cell_type": "code",
   "execution_count": 110,
   "metadata": {},
   "outputs": [
    {
     "data": {
      "image/png": "[encoded data removed]",
      "text/plain": [
       "<Figure size 864x504 with 1 Axes>"
      ]
     },
     "metadata": {},
     "output_type": "display_data"
    }
   ],
   "source": [
    "plot_fi(fi[:30]);"
   ]
  },
  {
   "cell_type": "code",
   "execution_count": 111,
   "metadata": {},
   "outputs": [
    {
     "data": {
      "text/html": [
       "<div>\n",
       "<style scoped>\n",
       "    .dataframe tbody tr th:only-of-type {\n",
       "        vertical-align: middle;\n",
       "    }\n",
       "\n",
       "    .dataframe tbody tr th {\n",
       "        vertical-align: top;\n",
       "    }\n",
       "\n",
       "    .dataframe thead th {\n",
       "        text-align: right;\n",
       "    }\n",
       "</style>\n",
       "<table border=\"1\" class=\"dataframe\">\n",
       "  <thead>\n",
       "    <tr style=\"text-align: right;\">\n",
       "      <th></th>\n",
       "      <th>Month</th>\n",
       "      <th>Year</th>\n",
       "      <th>Day</th>\n",
       "      <th>Week</th>\n",
       "    </tr>\n",
       "  </thead>\n",
       "  <tbody>\n",
       "    <tr>\n",
       "      <th>count</th>\n",
       "      <td>79512.000000</td>\n",
       "      <td>79512.000000</td>\n",
       "      <td>79512.000000</td>\n",
       "      <td>79512.000000</td>\n",
       "    </tr>\n",
       "    <tr>\n",
       "      <th>mean</th>\n",
       "      <td>5.314028</td>\n",
       "      <td>2016.583585</td>\n",
       "      <td>15.523908</td>\n",
       "      <td>21.368032</td>\n",
       "    </tr>\n",
       "    <tr>\n",
       "      <th>std</th>\n",
       "      <td>4.043736</td>\n",
       "      <td>0.492967</td>\n",
       "      <td>8.895664</td>\n",
       "      <td>17.720462</td>\n",
       "    </tr>\n",
       "    <tr>\n",
       "      <th>min</th>\n",
       "      <td>1.000000</td>\n",
       "      <td>2016.000000</td>\n",
       "      <td>1.000000</td>\n",
       "      <td>1.000000</td>\n",
       "    </tr>\n",
       "    <tr>\n",
       "      <th>25%</th>\n",
       "      <td>2.000000</td>\n",
       "      <td>2016.000000</td>\n",
       "      <td>8.000000</td>\n",
       "      <td>7.000000</td>\n",
       "    </tr>\n",
       "    <tr>\n",
       "      <th>50%</th>\n",
       "      <td>3.000000</td>\n",
       "      <td>2017.000000</td>\n",
       "      <td>15.000000</td>\n",
       "      <td>13.000000</td>\n",
       "    </tr>\n",
       "    <tr>\n",
       "      <th>75%</th>\n",
       "      <td>9.000000</td>\n",
       "      <td>2017.000000</td>\n",
       "      <td>23.000000</td>\n",
       "      <td>40.000000</td>\n",
       "    </tr>\n",
       "    <tr>\n",
       "      <th>max</th>\n",
       "      <td>12.000000</td>\n",
       "      <td>2017.000000</td>\n",
       "      <td>31.000000</td>\n",
       "      <td>52.000000</td>\n",
       "    </tr>\n",
       "  </tbody>\n",
       "</table>\n",
       "</div>"
      ],
      "text/plain": [
       "              Month          Year           Day          Week\n",
       "count  79512.000000  79512.000000  79512.000000  79512.000000\n",
       "mean       5.314028   2016.583585     15.523908     21.368032\n",
       "std        4.043736      0.492967      8.895664     17.720462\n",
       "min        1.000000   2016.000000      1.000000      1.000000\n",
       "25%        2.000000   2016.000000      8.000000      7.000000\n",
       "50%        3.000000   2017.000000     15.000000     13.000000\n",
       "75%        9.000000   2017.000000     23.000000     40.000000\n",
       "max       12.000000   2017.000000     31.000000     52.000000"
      ]
     },
     "execution_count": 111,
     "metadata": {},
     "output_type": "execute_result"
    }
   ],
   "source": [
    "feats=['Month', 'Year', 'Day','Week']\n",
    "(X_train[feats]).describe()"
   ]
  },
  {
   "cell_type": "code",
   "execution_count": 112,
   "metadata": {},
   "outputs": [
    {
     "data": {
      "text/html": [
       "<div>\n",
       "<style scoped>\n",
       "    .dataframe tbody tr th:only-of-type {\n",
       "        vertical-align: middle;\n",
       "    }\n",
       "\n",
       "    .dataframe tbody tr th {\n",
       "        vertical-align: top;\n",
       "    }\n",
       "\n",
       "    .dataframe thead th {\n",
       "        text-align: right;\n",
       "    }\n",
       "</style>\n",
       "<table border=\"1\" class=\"dataframe\">\n",
       "  <thead>\n",
       "    <tr style=\"text-align: right;\">\n",
       "      <th></th>\n",
       "      <th>Month</th>\n",
       "      <th>Year</th>\n",
       "      <th>Day</th>\n",
       "      <th>Week</th>\n",
       "    </tr>\n",
       "  </thead>\n",
       "  <tbody>\n",
       "    <tr>\n",
       "      <th>count</th>\n",
       "      <td>17038.000000</td>\n",
       "      <td>17038.0</td>\n",
       "      <td>17038.000000</td>\n",
       "      <td>17038.000000</td>\n",
       "    </tr>\n",
       "    <tr>\n",
       "      <th>mean</th>\n",
       "      <td>4.444653</td>\n",
       "      <td>2017.0</td>\n",
       "      <td>15.175021</td>\n",
       "      <td>17.224439</td>\n",
       "    </tr>\n",
       "    <tr>\n",
       "      <th>std</th>\n",
       "      <td>0.496942</td>\n",
       "      <td>0.0</td>\n",
       "      <td>7.962317</td>\n",
       "      <td>1.513294</td>\n",
       "    </tr>\n",
       "    <tr>\n",
       "      <th>min</th>\n",
       "      <td>4.000000</td>\n",
       "      <td>2017.0</td>\n",
       "      <td>1.000000</td>\n",
       "      <td>15.000000</td>\n",
       "    </tr>\n",
       "    <tr>\n",
       "      <th>25%</th>\n",
       "      <td>4.000000</td>\n",
       "      <td>2017.0</td>\n",
       "      <td>10.000000</td>\n",
       "      <td>16.000000</td>\n",
       "    </tr>\n",
       "    <tr>\n",
       "      <th>50%</th>\n",
       "      <td>4.000000</td>\n",
       "      <td>2017.0</td>\n",
       "      <td>15.000000</td>\n",
       "      <td>17.000000</td>\n",
       "    </tr>\n",
       "    <tr>\n",
       "      <th>75%</th>\n",
       "      <td>5.000000</td>\n",
       "      <td>2017.0</td>\n",
       "      <td>21.000000</td>\n",
       "      <td>19.000000</td>\n",
       "    </tr>\n",
       "    <tr>\n",
       "      <th>max</th>\n",
       "      <td>5.000000</td>\n",
       "      <td>2017.0</td>\n",
       "      <td>30.000000</td>\n",
       "      <td>20.000000</td>\n",
       "    </tr>\n",
       "  </tbody>\n",
       "</table>\n",
       "</div>"
      ],
      "text/plain": [
       "              Month     Year           Day          Week\n",
       "count  17038.000000  17038.0  17038.000000  17038.000000\n",
       "mean       4.444653   2017.0     15.175021     17.224439\n",
       "std        0.496942      0.0      7.962317      1.513294\n",
       "min        4.000000   2017.0      1.000000     15.000000\n",
       "25%        4.000000   2017.0     10.000000     16.000000\n",
       "50%        4.000000   2017.0     15.000000     17.000000\n",
       "75%        5.000000   2017.0     21.000000     19.000000\n",
       "max        5.000000   2017.0     30.000000     20.000000"
      ]
     },
     "execution_count": 112,
     "metadata": {},
     "output_type": "execute_result"
    }
   ],
   "source": [
    "(X_valid[feats]).describe()"
   ]
  },
  {
   "cell_type": "code",
   "execution_count": 113,
   "metadata": {},
   "outputs": [],
   "source": [
    "x.drop(feats, axis=1, inplace=True)"
   ]
  },
  {
   "cell_type": "code",
   "execution_count": 114,
   "metadata": {},
   "outputs": [
    {
     "name": "stderr",
     "output_type": "stream",
     "text": [
      "/anaconda3/envs/pmi_interview/lib/python3.6/site-packages/sklearn/ensemble/forest.py:453: UserWarning: Some inputs do not have OOB scores. This probably means too few trees were used to compute any reliable oob estimates.\n",
      "  warn(\"Some inputs do not have OOB scores. \"\n",
      "/anaconda3/envs/pmi_interview/lib/python3.6/site-packages/sklearn/ensemble/forest.py:458: RuntimeWarning: divide by zero encountered in true_divide\n",
      "  predictions[k].sum(axis=1)[:, np.newaxis])\n",
      "/anaconda3/envs/pmi_interview/lib/python3.6/site-packages/sklearn/ensemble/forest.py:458: RuntimeWarning: invalid value encountered in true_divide\n",
      "  predictions[k].sum(axis=1)[:, np.newaxis])\n"
     ]
    },
    {
     "data": {
      "text/plain": [
       "0.8225271879854997"
      ]
     },
     "execution_count": 114,
     "metadata": {},
     "output_type": "execute_result"
    }
   ],
   "source": [
    "m = RandomForestClassifier(n_estimators=10, min_samples_leaf=3, max_features=0.6, n_jobs=-1, oob_score=True)\n",
    "m.fit(x, y);\n",
    "m.oob_score_"
   ]
  },
  {
   "cell_type": "code",
   "execution_count": 115,
   "metadata": {},
   "outputs": [
    {
     "data": {
      "text/html": [
       "<div>\n",
       "<style scoped>\n",
       "    .dataframe tbody tr th:only-of-type {\n",
       "        vertical-align: middle;\n",
       "    }\n",
       "\n",
       "    .dataframe tbody tr th {\n",
       "        vertical-align: top;\n",
       "    }\n",
       "\n",
       "    .dataframe thead th {\n",
       "        text-align: right;\n",
       "    }\n",
       "</style>\n",
       "<table border=\"1\" class=\"dataframe\">\n",
       "  <thead>\n",
       "    <tr style=\"text-align: right;\">\n",
       "      <th></th>\n",
       "      <th>cols</th>\n",
       "      <th>imp</th>\n",
       "    </tr>\n",
       "  </thead>\n",
       "  <tbody>\n",
       "    <tr>\n",
       "      <th>10</th>\n",
       "      <td>Dayofweek</td>\n",
       "      <td>0.215326</td>\n",
       "    </tr>\n",
       "    <tr>\n",
       "      <th>16</th>\n",
       "      <td>restaurant_n</td>\n",
       "      <td>0.136782</td>\n",
       "    </tr>\n",
       "    <tr>\n",
       "      <th>4</th>\n",
       "      <td>real_estate_agency_n</td>\n",
       "      <td>0.098972</td>\n",
       "    </tr>\n",
       "    <tr>\n",
       "      <th>11</th>\n",
       "      <td>doctor_n</td>\n",
       "      <td>0.093568</td>\n",
       "    </tr>\n",
       "    <tr>\n",
       "      <th>5</th>\n",
       "      <td>clothing_store_n</td>\n",
       "      <td>0.077237</td>\n",
       "    </tr>\n",
       "    <tr>\n",
       "      <th>3</th>\n",
       "      <td>transit_station_n</td>\n",
       "      <td>0.068760</td>\n",
       "    </tr>\n",
       "    <tr>\n",
       "      <th>2</th>\n",
       "      <td>bar_n</td>\n",
       "      <td>0.054564</td>\n",
       "    </tr>\n",
       "    <tr>\n",
       "      <th>1</th>\n",
       "      <td>physiotherapist_n</td>\n",
       "      <td>0.049526</td>\n",
       "    </tr>\n",
       "    <tr>\n",
       "      <th>0</th>\n",
       "      <td>bus_station_n</td>\n",
       "      <td>0.042915</td>\n",
       "    </tr>\n",
       "    <tr>\n",
       "      <th>6</th>\n",
       "      <td>jewelry_store_n</td>\n",
       "      <td>0.038235</td>\n",
       "    </tr>\n",
       "  </tbody>\n",
       "</table>\n",
       "</div>"
      ],
      "text/plain": [
       "                    cols       imp\n",
       "10             Dayofweek  0.215326\n",
       "16          restaurant_n  0.136782\n",
       "4   real_estate_agency_n  0.098972\n",
       "11              doctor_n  0.093568\n",
       "5       clothing_store_n  0.077237\n",
       "3      transit_station_n  0.068760\n",
       "2                  bar_n  0.054564\n",
       "1      physiotherapist_n  0.049526\n",
       "0          bus_station_n  0.042915\n",
       "6        jewelry_store_n  0.038235"
      ]
     },
     "execution_count": 115,
     "metadata": {},
     "output_type": "execute_result"
    }
   ],
   "source": [
    "fi = rf_feat_importance(m, x); fi[:10]"
   ]
  },
  {
   "cell_type": "code",
   "execution_count": 116,
   "metadata": {},
   "outputs": [
    {
     "name": "stderr",
     "output_type": "stream",
     "text": [
      "/anaconda3/envs/pmi_interview/lib/python3.6/site-packages/sklearn/ensemble/forest.py:724: UserWarning: Some inputs do not have OOB scores. This probably means too few trees were used to compute any reliable oob estimates.\n",
      "  warn(\"Some inputs do not have OOB scores. \"\n"
     ]
    },
    {
     "name": "stdout",
     "output_type": "stream",
     "text": [
      "[360.0911629003467, 253.94247244586393, 0.5464672266849417, 0.593787286476156, 0.5264741405515072]\n"
     ]
    }
   ],
   "source": [
    "df_subs = df_keep.drop(feats, axis=1)\n",
    "X_train, X_valid = split_vals(df_subs, n_trn)\n",
    "m = RandomForestRegressor(n_estimators=10, min_samples_leaf=3, max_features=0.6, n_jobs=-1, oob_score=True)\n",
    "m.fit(X_train, y_train)\n",
    "print_score(m)"
   ]
  },
  {
   "cell_type": "code",
   "execution_count": 117,
   "metadata": {},
   "outputs": [
    {
     "data": {
      "image/png": "[encoded data removed]",
      "text/plain": [
       "<Figure size 864x504 with 1 Axes>"
      ]
     },
     "metadata": {},
     "output_type": "display_data"
    }
   ],
   "source": [
    "plot_fi(rf_feat_importance(m, X_train));"
   ]
  },
  {
   "cell_type": "code",
   "execution_count": 118,
   "metadata": {},
   "outputs": [],
   "source": [
    "np.save('tmp/subs_cols.npy', np.array(df_subs.columns))"
   ]
  },
  {
   "cell_type": "code",
   "execution_count": 119,
   "metadata": {},
   "outputs": [
    {
     "data": {
      "text/plain": [
       "array(['bus_station_n', 'physiotherapist_n', 'bar_n', 'transit_station_n', 'real_estate_agency_n',\n",
       "       'clothing_store_n', 'jewelry_store_n', 'lawyer_n', 'library_n', 'local_government_office_n',\n",
       "       'Dayofweek', 'doctor_n', 'car_rental_n', 'subway_station_n', 'amusement_park_n', 'night_club_n',\n",
       "       'restaurant_n'], dtype=object)"
      ]
     },
     "execution_count": 119,
     "metadata": {},
     "output_type": "execute_result"
    }
   ],
   "source": [
    "np.array(df_subs.columns)"
   ]
  },
  {
   "cell_type": "code",
   "execution_count": 120,
   "metadata": {},
   "outputs": [
    {
     "data": {
      "text/plain": [
       "17"
      ]
     },
     "execution_count": 120,
     "metadata": {},
     "output_type": "execute_result"
    }
   ],
   "source": [
    "len(df_subs.columns)"
   ]
  },
  {
   "cell_type": "markdown",
   "metadata": {},
   "source": [
    "## Test set"
   ]
  },
  {
   "cell_type": "code",
   "execution_count": 121,
   "metadata": {},
   "outputs": [],
   "source": [
    "X_test, y_test, nas = proc_df(df=test, y_fld='volume_day',skip_flds=['date','store_code'])\n",
    "X_test = X_test[df_subs.columns]\n",
    "\n",
    "preds = m.predict(X_test)"
   ]
  },
  {
   "cell_type": "code",
   "execution_count": 122,
   "metadata": {},
   "outputs": [
    {
     "data": {
      "text/plain": [
       "273.23470200459235"
      ]
     },
     "execution_count": 122,
     "metadata": {},
     "output_type": "execute_result"
    }
   ],
   "source": [
    "rmse(preds, y_test)"
   ]
  },
  {
   "cell_type": "code",
   "execution_count": null,
   "metadata": {},
   "outputs": [],
   "source": [
    "dump_session('tmp/postprocessing.pkl')"
   ]
  },
  {
   "cell_type": "markdown",
   "metadata": {},
   "source": [
    "# Only test from here: using ratings\n",
    "\n",
    "### Second model:\n",
    "Use volume per day, with time info (i.e. Dayofweek) and number of surrondings for each type, with the corresponding time they open and rating."
   ]
  },
  {
   "cell_type": "code",
   "execution_count": 63,
   "metadata": {},
   "outputs": [],
   "source": [
    "metadata_with_ratings = pd.concat([metadata_with_days.store_code, \n",
    "                                   metadata_with_days.Dayofweek, \n",
    "                                   metadata_with_days.filter(regex=\"_n\"), \n",
    "                                   metadata_with_days.filter(regex=\"_mean_ratings\")], axis = 1)\n",
    "metadata_with_ratings.fillna(0, inplace=True)\n",
    "final_with_time = df_aggregate_per_day_short_with_info_filter[flds_POSs].merge(metadata_with_ratings, \n",
    "                                                                               how='left',\n",
    "                                                                               on=['store_code','Dayofweek'])"
   ]
  },
  {
   "cell_type": "code",
   "execution_count": 64,
   "metadata": {},
   "outputs": [
    {
     "data": {
      "text/plain": [
       "Series([], dtype: bool)"
      ]
     },
     "execution_count": 64,
     "metadata": {},
     "output_type": "execute_result"
    }
   ],
   "source": [
    "final_with_time.sort_values('date', inplace=True)\n",
    "\n",
    "def coherce_type(df, reg, typ):\n",
    "    float_columns = [x for x in df.columns if reg in x]\n",
    "    for cl in float_columns:\n",
    "        df[cl] = df[cl].astype(typ)\n",
    "    return df\n",
    "\n",
    "## Float columns\n",
    "final_with_time = coherce_type(final_with_time, '_mean_', 'float64')\n",
    "\n",
    "## Integer column\n",
    "final_with_time = coherce_type(final_with_time, '_n', 'float')\n",
    "\n",
    "complete_null_columns = final_with_time.isnull().all()\n",
    "col_to_remove = complete_null_columns[complete_null_columns == True]\n",
    "col_to_remove"
   ]
  },
  {
   "cell_type": "code",
   "execution_count": 65,
   "metadata": {},
   "outputs": [
    {
     "data": {
      "text/plain": [
       "((99758, 187), (17604, 187))"
      ]
     },
     "execution_count": 65,
     "metadata": {},
     "output_type": "execute_result"
    }
   ],
   "source": [
    "n_valid = round(len(final_with_time)*15/100)  # same as Kaggle's test set size\n",
    "n_trn = len(final_with_time)-n_valid\n",
    "training, test = split_vals(final_with_time, n_trn)\n",
    "\n",
    "training.shape, test.shape"
   ]
  },
  {
   "cell_type": "code",
   "execution_count": 66,
   "metadata": {},
   "outputs": [],
   "source": [
    "train_cats(training)"
   ]
  },
  {
   "cell_type": "code",
   "execution_count": 67,
   "metadata": {},
   "outputs": [],
   "source": [
    "df, y, nas = proc_df(df=training, y_fld='volume_day',skip_flds=['date','store_code'])\n",
    "\n",
    "df.fillna(0, inplace=True)"
   ]
  },
  {
   "cell_type": "code",
   "execution_count": 68,
   "metadata": {},
   "outputs": [
    {
     "data": {
      "text/plain": [
       "((82154, 357), (82154,), (17604, 357))"
      ]
     },
     "execution_count": 68,
     "metadata": {},
     "output_type": "execute_result"
    }
   ],
   "source": [
    "n_trn = len(df)-n_valid\n",
    "\n",
    "X_train, X_valid = split_vals(df, n_trn)\n",
    "y_train, y_valid = split_vals(y, n_trn)\n",
    "\n",
    "X_train.shape, y_train.shape, X_valid.shape"
   ]
  },
  {
   "cell_type": "code",
   "execution_count": 69,
   "metadata": {},
   "outputs": [
    {
     "name": "stdout",
     "output_type": "stream",
     "text": [
      "[266.40884547186675, 267.2446830553885, 0.7446196105467948, 0.5249964886326006]\n"
     ]
    }
   ],
   "source": [
    "m = RandomForestRegressor(n_jobs=-1)\n",
    "m.fit(X_train, y_train)\n",
    "print_score(m)"
   ]
  },
  {
   "cell_type": "code",
   "execution_count": 70,
   "metadata": {},
   "outputs": [
    {
     "data": {
      "text/plain": [
       "(array([ 30.,  30.,  90.,   0.,   0.,  30., 300.,   0.,   0.,   0.]),\n",
       " 48.0,\n",
       " 0.0)"
      ]
     },
     "execution_count": 70,
     "metadata": {},
     "output_type": "execute_result"
    }
   ],
   "source": [
    "# Bagging\n",
    "preds = np.stack([t.predict(X_valid) for t in m.estimators_])\n",
    "preds[:,0], np.mean(preds[:,0]), y_valid[0]"
   ]
  },
  {
   "cell_type": "code",
   "execution_count": 72,
   "metadata": {},
   "outputs": [
    {
     "data": {
      "image/png": "[encoded data removed]",
      "text/plain": [
       "<Figure size 432x288 with 1 Axes>"
      ]
     },
     "metadata": {},
     "output_type": "display_data"
    }
   ],
   "source": [
    "plt.plot([metrics.r2_score(y_valid, np.mean(preds[:i+1], axis=0)) for i in range(10)]);"
   ]
  },
  {
   "cell_type": "code",
   "execution_count": 73,
   "metadata": {},
   "outputs": [
    {
     "name": "stderr",
     "output_type": "stream",
     "text": [
      "/anaconda3/envs/pmi_interview/lib/python3.6/site-packages/sklearn/ensemble/forest.py:724: UserWarning: Some inputs do not have OOB scores. This probably means too few trees were used to compute any reliable oob estimates.\n",
      "  warn(\"Some inputs do not have OOB scores. \"\n"
     ]
    },
    {
     "name": "stdout",
     "output_type": "stream",
     "text": [
      "[275.33845252561775, 272.8068634316805, 0.7272127934414769, 0.5050181690671736, 0.4438130641003777]\n"
     ]
    }
   ],
   "source": [
    "# Out-of-bag\n",
    "m = RandomForestRegressor(n_estimators=4, n_jobs=-1, oob_score=True)\n",
    "m.fit(X_train, y_train)\n",
    "print_score(m)"
   ]
  },
  {
   "cell_type": "code",
   "execution_count": 74,
   "metadata": {},
   "outputs": [
    {
     "name": "stdout",
     "output_type": "stream",
     "text": [
      "CPU times: user 22.4 s, sys: 564 ms, total: 22.9 s\n",
      "Wall time: 9.46 s\n",
      "[319.1968330601095, 259.0394824326391, 0.6333873792187319, 0.5537167363081603, 0.5506046196618655]\n"
     ]
    }
   ],
   "source": [
    "# Subsampling\n",
    "set_rf_samples(20000)\n",
    "m = RandomForestRegressor(n_jobs=-1, oob_score=True)\n",
    "%time m.fit(X_train, y_train)\n",
    "print_score(m)"
   ]
  },
  {
   "cell_type": "code",
   "execution_count": 78,
   "metadata": {},
   "outputs": [
    {
     "name": "stderr",
     "output_type": "stream",
     "text": [
      "/anaconda3/envs/pmi_interview/lib/python3.6/site-packages/sklearn/ensemble/forest.py:724: UserWarning: Some inputs do not have OOB scores. This probably means too few trees were used to compute any reliable oob estimates.\n",
      "  warn(\"Some inputs do not have OOB scores. \"\n"
     ]
    },
    {
     "name": "stdout",
     "output_type": "stream",
     "text": [
      "[308.93360850582076, 265.17534184611986, 0.6565839580150636, 0.5323241461165059, 0.5697918139909325]\n"
     ]
    }
   ],
   "source": [
    "# Tree building parameters\n",
    "reset_rf_samples()\n",
    "m = RandomForestRegressor(n_estimators=10, min_samples_leaf=5, max_features=0.7, n_jobs=-1, oob_score=True)\n",
    "m.fit(X_train, y_train)\n",
    "print_score(m)"
   ]
  },
  {
   "cell_type": "code",
   "execution_count": 76,
   "metadata": {},
   "outputs": [
    {
     "data": {
      "text/html": [
       "<div>\n",
       "<style scoped>\n",
       "    .dataframe tbody tr th:only-of-type {\n",
       "        vertical-align: middle;\n",
       "    }\n",
       "\n",
       "    .dataframe tbody tr th {\n",
       "        vertical-align: top;\n",
       "    }\n",
       "\n",
       "    .dataframe thead th {\n",
       "        text-align: right;\n",
       "    }\n",
       "</style>\n",
       "<table border=\"1\" class=\"dataframe\">\n",
       "  <thead>\n",
       "    <tr style=\"text-align: right;\">\n",
       "      <th></th>\n",
       "      <th>cols</th>\n",
       "      <th>imp</th>\n",
       "    </tr>\n",
       "  </thead>\n",
       "  <tbody>\n",
       "    <tr>\n",
       "      <th>24</th>\n",
       "      <td>bus_station_n</td>\n",
       "      <td>0.134594</td>\n",
       "    </tr>\n",
       "    <tr>\n",
       "      <th>60</th>\n",
       "      <td>local_government_office_n</td>\n",
       "      <td>0.074081</td>\n",
       "    </tr>\n",
       "    <tr>\n",
       "      <th>3</th>\n",
       "      <td>Day</td>\n",
       "      <td>0.063454</td>\n",
       "    </tr>\n",
       "    <tr>\n",
       "      <th>2</th>\n",
       "      <td>Week</td>\n",
       "      <td>0.056117</td>\n",
       "    </tr>\n",
       "    <tr>\n",
       "      <th>131</th>\n",
       "      <td>florist_mean_ratings</td>\n",
       "      <td>0.049612</td>\n",
       "    </tr>\n",
       "    <tr>\n",
       "      <th>135</th>\n",
       "      <td>gym_mean_ratings</td>\n",
       "      <td>0.049277</td>\n",
       "    </tr>\n",
       "    <tr>\n",
       "      <th>25</th>\n",
       "      <td>cafe_n</td>\n",
       "      <td>0.049173</td>\n",
       "    </tr>\n",
       "    <tr>\n",
       "      <th>111</th>\n",
       "      <td>cafe_mean_ratings</td>\n",
       "      <td>0.047591</td>\n",
       "    </tr>\n",
       "    <tr>\n",
       "      <th>153</th>\n",
       "      <td>movie_theater_mean_ratings</td>\n",
       "      <td>0.047375</td>\n",
       "    </tr>\n",
       "    <tr>\n",
       "      <th>105</th>\n",
       "      <td>bar_mean_ratings</td>\n",
       "      <td>0.047054</td>\n",
       "    </tr>\n",
       "  </tbody>\n",
       "</table>\n",
       "</div>"
      ],
      "text/plain": [
       "                           cols       imp\n",
       "24                bus_station_n  0.134594\n",
       "60    local_government_office_n  0.074081\n",
       "3                           Day  0.063454\n",
       "2                          Week  0.056117\n",
       "131        florist_mean_ratings  0.049612\n",
       "135            gym_mean_ratings  0.049277\n",
       "25                       cafe_n  0.049173\n",
       "111           cafe_mean_ratings  0.047591\n",
       "153  movie_theater_mean_ratings  0.047375\n",
       "105            bar_mean_ratings  0.047054"
      ]
     },
     "execution_count": 76,
     "metadata": {},
     "output_type": "execute_result"
    }
   ],
   "source": [
    "fi = rf_feat_importance(m, df); fi[:10]"
   ]
  },
  {
   "cell_type": "code",
   "execution_count": 49,
   "metadata": {},
   "outputs": [
    {
     "data": {
      "image/png": "[encoded data removed]",
      "text/plain": [
       "<Figure size 720x432 with 1 Axes>"
      ]
     },
     "metadata": {},
     "output_type": "display_data"
    },
    {
     "data": {
      "image/png": "[encoded data removed]",
      "text/plain": [
       "<Figure size 864x504 with 1 Axes>"
      ]
     },
     "metadata": {},
     "output_type": "display_data"
    }
   ],
   "source": [
    "fi.plot('cols', 'imp', figsize=(10,6), legend=False);\n",
    "def plot_fi(fi): return fi.plot('cols', 'imp', 'barh', figsize=(12,7), legend=False)\n",
    "plot_fi(fi[:30]);"
   ]
  }
 ],
 "metadata": {
  "kernelspec": {
   "display_name": "Python 3",
   "language": "python",
   "name": "python3"
  },
  "language_info": {
   "codemirror_mode": {
    "name": "ipython",
    "version": 3
   },
   "file_extension": ".py",
   "mimetype": "text/x-python",
   "name": "python",
   "nbconvert_exporter": "python",
   "pygments_lexer": "ipython3",
   "version": "3.6.5"
  }
 },
 "nbformat": 4,
 "nbformat_minor": 2
}
