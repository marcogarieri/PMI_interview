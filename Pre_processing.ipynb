{
 "cells": [
  {
   "cell_type": "markdown",
   "metadata": {},
   "source": [
    "# Pre-processing\n"
   ]
  },
  {
   "cell_type": "code",
   "execution_count": 1,
   "metadata": {},
   "outputs": [],
   "source": [
    "%load_ext autoreload\n",
    "%autoreload 2\n",
    "\n",
    "%matplotlib inline"
   ]
  },
  {
   "cell_type": "markdown",
   "metadata": {},
   "source": [
    "Load libraries"
   ]
  },
  {
   "cell_type": "code",
   "execution_count": 124,
   "metadata": {},
   "outputs": [],
   "source": [
    "from fastai.imports import *\n",
    "from fastai.structured import *\n",
    "from dill import dump_session"
   ]
  },
  {
   "cell_type": "code",
   "execution_count": 3,
   "metadata": {},
   "outputs": [],
   "source": [
    "set_plot_sizes(12,14,16)"
   ]
  },
  {
   "cell_type": "markdown",
   "metadata": {},
   "source": [
    "## Load sales data"
   ]
  },
  {
   "cell_type": "markdown",
   "metadata": {},
   "source": [
    "The data provided need to be copied (or linked) in the folder `data/`"
   ]
  },
  {
   "cell_type": "code",
   "execution_count": 4,
   "metadata": {},
   "outputs": [],
   "source": [
    "PATH = \"data/\""
   ]
  },
  {
   "cell_type": "markdown",
   "metadata": {},
   "source": [
    "Read and load in memory the `sales_granular` dataset. This is the first step to understand how to design the target variable."
   ]
  },
  {
   "cell_type": "code",
   "execution_count": 5,
   "metadata": {},
   "outputs": [],
   "source": [
    "df_raw = pd.read_csv(f'{PATH}sales_granular.csv', low_memory=False)"
   ]
  },
  {
   "cell_type": "code",
   "execution_count": 6,
   "metadata": {},
   "outputs": [
    {
     "data": {
      "text/html": [
       "<div>\n",
       "<style scoped>\n",
       "    .dataframe tbody tr th:only-of-type {\n",
       "        vertical-align: middle;\n",
       "    }\n",
       "\n",
       "    .dataframe tbody tr th {\n",
       "        vertical-align: top;\n",
       "    }\n",
       "\n",
       "    .dataframe thead th {\n",
       "        text-align: right;\n",
       "    }\n",
       "</style>\n",
       "<table border=\"1\" class=\"dataframe\">\n",
       "  <thead>\n",
       "    <tr style=\"text-align: right;\">\n",
       "      <th></th>\n",
       "      <th>store_code</th>\n",
       "      <th>8/3/15 9:00</th>\n",
       "      <th>8/3/15 10:00</th>\n",
       "      <th>8/3/15 11:00</th>\n",
       "      <th>8/3/15 12:00</th>\n",
       "      <th>8/3/15 13:00</th>\n",
       "      <th>8/3/15 14:00</th>\n",
       "      <th>8/3/15 15:00</th>\n",
       "      <th>8/3/15 16:00</th>\n",
       "      <th>8/3/15 17:00</th>\n",
       "      <th>...</th>\n",
       "      <th>6/25/17 13:00</th>\n",
       "      <th>6/25/17 14:00</th>\n",
       "      <th>6/25/17 15:00</th>\n",
       "      <th>6/25/17 16:00</th>\n",
       "      <th>6/25/17 17:00</th>\n",
       "      <th>6/25/17 18:00</th>\n",
       "      <th>6/25/17 19:00</th>\n",
       "      <th>6/25/17 20:00</th>\n",
       "      <th>6/25/17 21:00</th>\n",
       "      <th>6/25/17 22:00</th>\n",
       "    </tr>\n",
       "  </thead>\n",
       "  <tbody>\n",
       "    <tr>\n",
       "      <th>0</th>\n",
       "      <td>10055</td>\n",
       "      <td>NaN</td>\n",
       "      <td>NaN</td>\n",
       "      <td>NaN</td>\n",
       "      <td>NaN</td>\n",
       "      <td>NaN</td>\n",
       "      <td>NaN</td>\n",
       "      <td>NaN</td>\n",
       "      <td>NaN</td>\n",
       "      <td>NaN</td>\n",
       "      <td>...</td>\n",
       "      <td>NaN</td>\n",
       "      <td>NaN</td>\n",
       "      <td>NaN</td>\n",
       "      <td>NaN</td>\n",
       "      <td>NaN</td>\n",
       "      <td>NaN</td>\n",
       "      <td>NaN</td>\n",
       "      <td>NaN</td>\n",
       "      <td>NaN</td>\n",
       "      <td>NaN</td>\n",
       "    </tr>\n",
       "    <tr>\n",
       "      <th>1</th>\n",
       "      <td>10077</td>\n",
       "      <td>NaN</td>\n",
       "      <td>NaN</td>\n",
       "      <td>NaN</td>\n",
       "      <td>NaN</td>\n",
       "      <td>NaN</td>\n",
       "      <td>NaN</td>\n",
       "      <td>NaN</td>\n",
       "      <td>NaN</td>\n",
       "      <td>NaN</td>\n",
       "      <td>...</td>\n",
       "      <td>NaN</td>\n",
       "      <td>NaN</td>\n",
       "      <td>NaN</td>\n",
       "      <td>NaN</td>\n",
       "      <td>NaN</td>\n",
       "      <td>NaN</td>\n",
       "      <td>NaN</td>\n",
       "      <td>NaN</td>\n",
       "      <td>NaN</td>\n",
       "      <td>NaN</td>\n",
       "    </tr>\n",
       "    <tr>\n",
       "      <th>2</th>\n",
       "      <td>10079</td>\n",
       "      <td>NaN</td>\n",
       "      <td>NaN</td>\n",
       "      <td>NaN</td>\n",
       "      <td>NaN</td>\n",
       "      <td>NaN</td>\n",
       "      <td>NaN</td>\n",
       "      <td>NaN</td>\n",
       "      <td>NaN</td>\n",
       "      <td>NaN</td>\n",
       "      <td>...</td>\n",
       "      <td>NaN</td>\n",
       "      <td>NaN</td>\n",
       "      <td>NaN</td>\n",
       "      <td>NaN</td>\n",
       "      <td>NaN</td>\n",
       "      <td>NaN</td>\n",
       "      <td>NaN</td>\n",
       "      <td>NaN</td>\n",
       "      <td>NaN</td>\n",
       "      <td>NaN</td>\n",
       "    </tr>\n",
       "    <tr>\n",
       "      <th>3</th>\n",
       "      <td>10081</td>\n",
       "      <td>NaN</td>\n",
       "      <td>NaN</td>\n",
       "      <td>NaN</td>\n",
       "      <td>NaN</td>\n",
       "      <td>NaN</td>\n",
       "      <td>NaN</td>\n",
       "      <td>NaN</td>\n",
       "      <td>NaN</td>\n",
       "      <td>NaN</td>\n",
       "      <td>...</td>\n",
       "      <td>NaN</td>\n",
       "      <td>NaN</td>\n",
       "      <td>NaN</td>\n",
       "      <td>30.0</td>\n",
       "      <td>60.0</td>\n",
       "      <td>150.0</td>\n",
       "      <td>600.0</td>\n",
       "      <td>NaN</td>\n",
       "      <td>NaN</td>\n",
       "      <td>NaN</td>\n",
       "    </tr>\n",
       "    <tr>\n",
       "      <th>4</th>\n",
       "      <td>10085</td>\n",
       "      <td>NaN</td>\n",
       "      <td>NaN</td>\n",
       "      <td>NaN</td>\n",
       "      <td>NaN</td>\n",
       "      <td>NaN</td>\n",
       "      <td>NaN</td>\n",
       "      <td>NaN</td>\n",
       "      <td>NaN</td>\n",
       "      <td>NaN</td>\n",
       "      <td>...</td>\n",
       "      <td>NaN</td>\n",
       "      <td>NaN</td>\n",
       "      <td>NaN</td>\n",
       "      <td>NaN</td>\n",
       "      <td>NaN</td>\n",
       "      <td>NaN</td>\n",
       "      <td>NaN</td>\n",
       "      <td>NaN</td>\n",
       "      <td>NaN</td>\n",
       "      <td>NaN</td>\n",
       "    </tr>\n",
       "  </tbody>\n",
       "</table>\n",
       "<p>5 rows × 11937 columns</p>\n",
       "</div>"
      ],
      "text/plain": [
       "   store_code  8/3/15 9:00  8/3/15 10:00  8/3/15 11:00  8/3/15 12:00  \\\n",
       "0       10055          NaN           NaN           NaN           NaN   \n",
       "1       10077          NaN           NaN           NaN           NaN   \n",
       "2       10079          NaN           NaN           NaN           NaN   \n",
       "3       10081          NaN           NaN           NaN           NaN   \n",
       "4       10085          NaN           NaN           NaN           NaN   \n",
       "\n",
       "   8/3/15 13:00  8/3/15 14:00  8/3/15 15:00  8/3/15 16:00  8/3/15 17:00  \\\n",
       "0           NaN           NaN           NaN           NaN           NaN   \n",
       "1           NaN           NaN           NaN           NaN           NaN   \n",
       "2           NaN           NaN           NaN           NaN           NaN   \n",
       "3           NaN           NaN           NaN           NaN           NaN   \n",
       "4           NaN           NaN           NaN           NaN           NaN   \n",
       "\n",
       "       ...        6/25/17 13:00  6/25/17 14:00  6/25/17 15:00  6/25/17 16:00  \\\n",
       "0      ...                  NaN            NaN            NaN            NaN   \n",
       "1      ...                  NaN            NaN            NaN            NaN   \n",
       "2      ...                  NaN            NaN            NaN            NaN   \n",
       "3      ...                  NaN            NaN            NaN           30.0   \n",
       "4      ...                  NaN            NaN            NaN            NaN   \n",
       "\n",
       "   6/25/17 17:00  6/25/17 18:00  6/25/17 19:00  6/25/17 20:00  6/25/17 21:00  \\\n",
       "0            NaN            NaN            NaN            NaN            NaN   \n",
       "1            NaN            NaN            NaN            NaN            NaN   \n",
       "2            NaN            NaN            NaN            NaN            NaN   \n",
       "3           60.0          150.0          600.0            NaN            NaN   \n",
       "4            NaN            NaN            NaN            NaN            NaN   \n",
       "\n",
       "   6/25/17 22:00  \n",
       "0            NaN  \n",
       "1            NaN  \n",
       "2            NaN  \n",
       "3            NaN  \n",
       "4            NaN  \n",
       "\n",
       "[5 rows x 11937 columns]"
      ]
     },
     "execution_count": 6,
     "metadata": {},
     "output_type": "execute_result"
    }
   ],
   "source": [
    "df_raw.head()"
   ]
  },
  {
   "cell_type": "markdown",
   "metadata": {},
   "source": [
    "Convert the data from wide to long format"
   ]
  },
  {
   "cell_type": "code",
   "execution_count": 7,
   "metadata": {},
   "outputs": [],
   "source": [
    "df_melt = pd.melt(df_raw, id_vars='store_code', var_name='time', value_name='volume')"
   ]
  },
  {
   "cell_type": "markdown",
   "metadata": {},
   "source": [
    "Split the columns to have date and hour. Moreover column date recognized as `datetime`."
   ]
  },
  {
   "cell_type": "code",
   "execution_count": 8,
   "metadata": {},
   "outputs": [
    {
     "name": "stdout",
     "output_type": "stream",
     "text": [
      "CPU times: user 27.8 s, sys: 1.64 s, total: 29.4 s\n",
      "Wall time: 29.1 s\n"
     ]
    }
   ],
   "source": [
    "%time df_melt['date'], df_melt['hour'] = df_melt['time'].str.split(' ',1).str\n",
    "#df_melt['date'] = pd.to_datetime(df_melt.date, infer_datetime_format= True)"
   ]
  },
  {
   "cell_type": "markdown",
   "metadata": {},
   "source": [
    "### EDA of sales data\n",
    "\n",
    "Check how many missing values per store and day."
   ]
  },
  {
   "cell_type": "markdown",
   "metadata": {},
   "source": [
    "#### Missing values"
   ]
  },
  {
   "cell_type": "code",
   "execution_count": 9,
   "metadata": {},
   "outputs": [],
   "source": [
    "# Selecting only fields to be summarized\n",
    "flds = ['store_code', 'date', 'volume']\n",
    "group_flds = ['store_code','date']"
   ]
  },
  {
   "cell_type": "code",
   "execution_count": 10,
   "metadata": {},
   "outputs": [],
   "source": [
    "def summary_per_day(x):\n",
    "    d = {}\n",
    "    volume = x['volume']\n",
    "    d['volume_day'] = volume.sum()\n",
    "    d['volume_nan'] = volume.isnull().sum()\n",
    "    d['volume_n'] = len(volume)\n",
    "    return pd.Series(d, index=['volume_day', 'volume_nan', 'volume_n'])\n",
    "\n",
    "df_aggregate_per_day = df_melt[flds].groupby(group_flds).apply(summary_per_day).reset_index()"
   ]
  },
  {
   "cell_type": "code",
   "execution_count": 11,
   "metadata": {},
   "outputs": [],
   "source": [
    "df_aggregate_per_day['date'] = pd.to_datetime(df_aggregate_per_day.date, infer_datetime_format= True)"
   ]
  },
  {
   "cell_type": "code",
   "execution_count": 12,
   "metadata": {},
   "outputs": [],
   "source": [
    "df_aggregate_per_day.sort_values(['store_code','date'],inplace=True)"
   ]
  },
  {
   "cell_type": "code",
   "execution_count": 218,
   "metadata": {},
   "outputs": [
    {
     "data": {
      "image/png": "[encoded data removed]",
      "text/plain": [
       "<Figure size 432x288 with 1 Axes>"
      ]
     },
     "metadata": {},
     "output_type": "display_data"
    }
   ],
   "source": [
    "df_aggregate_per_day['Perc_nan'] = df_aggregate_per_day['volume_nan']/df_aggregate_per_day['volume_n']\n",
    "plt.hist(df_aggregate_per_day.Perc_nan, bins=50);\n",
    "plt.xlabel('Proportion of missing values')\n",
    "plt.ylabel('Count');"
   ]
  },
  {
   "cell_type": "markdown",
   "metadata": {},
   "source": [
    "The majority are missing values. Need to investigate if it is by shop or in general."
   ]
  },
  {
   "cell_type": "code",
   "execution_count": 14,
   "metadata": {},
   "outputs": [],
   "source": [
    "def summary_per_shop(x):\n",
    "    d = {}\n",
    "    volume = x['volume_day']\n",
    "    nan_perc = x['Perc_nan']\n",
    "    d['volume_total'] = volume.sum()\n",
    "    d['count_volumn_day_not_nan'] = (nan_perc != 1).sum()\n",
    "    d['days_available'] = len(volume)\n",
    "    return pd.Series(d, index=['volume_total', 'count_volumn_day_not_nan','days_available'])\n",
    "\n",
    "df_aggregate_per_shop = df_aggregate_per_day.groupby('store_code').apply(summary_per_shop).reset_index()"
   ]
  },
  {
   "cell_type": "code",
   "execution_count": 15,
   "metadata": {},
   "outputs": [
    {
     "data": {
      "text/html": [
       "<div>\n",
       "<style scoped>\n",
       "    .dataframe tbody tr th:only-of-type {\n",
       "        vertical-align: middle;\n",
       "    }\n",
       "\n",
       "    .dataframe tbody tr th {\n",
       "        vertical-align: top;\n",
       "    }\n",
       "\n",
       "    .dataframe thead th {\n",
       "        text-align: right;\n",
       "    }\n",
       "</style>\n",
       "<table border=\"1\" class=\"dataframe\">\n",
       "  <thead>\n",
       "    <tr style=\"text-align: right;\">\n",
       "      <th></th>\n",
       "      <th>store_code</th>\n",
       "      <th>volume_total</th>\n",
       "      <th>count_volumn_day_not_nan</th>\n",
       "      <th>days_available</th>\n",
       "    </tr>\n",
       "  </thead>\n",
       "  <tbody>\n",
       "    <tr>\n",
       "      <th>0</th>\n",
       "      <td>249</td>\n",
       "      <td>18450.0</td>\n",
       "      <td>68.0</td>\n",
       "      <td>693.0</td>\n",
       "    </tr>\n",
       "    <tr>\n",
       "      <th>1</th>\n",
       "      <td>282</td>\n",
       "      <td>2880.0</td>\n",
       "      <td>29.0</td>\n",
       "      <td>693.0</td>\n",
       "    </tr>\n",
       "    <tr>\n",
       "      <th>2</th>\n",
       "      <td>425</td>\n",
       "      <td>810.0</td>\n",
       "      <td>10.0</td>\n",
       "      <td>693.0</td>\n",
       "    </tr>\n",
       "    <tr>\n",
       "      <th>3</th>\n",
       "      <td>1326</td>\n",
       "      <td>185340.0</td>\n",
       "      <td>341.0</td>\n",
       "      <td>693.0</td>\n",
       "    </tr>\n",
       "    <tr>\n",
       "      <th>4</th>\n",
       "      <td>1498</td>\n",
       "      <td>360.0</td>\n",
       "      <td>3.0</td>\n",
       "      <td>693.0</td>\n",
       "    </tr>\n",
       "  </tbody>\n",
       "</table>\n",
       "</div>"
      ],
      "text/plain": [
       "   store_code  volume_total  count_volumn_day_not_nan  days_available\n",
       "0         249       18450.0                      68.0           693.0\n",
       "1         282        2880.0                      29.0           693.0\n",
       "2         425         810.0                      10.0           693.0\n",
       "3        1326      185340.0                     341.0           693.0\n",
       "4        1498         360.0                       3.0           693.0"
      ]
     },
     "execution_count": 15,
     "metadata": {},
     "output_type": "execute_result"
    }
   ],
   "source": [
    "df_aggregate_per_shop.head()"
   ]
  },
  {
   "cell_type": "code",
   "execution_count": 219,
   "metadata": {},
   "outputs": [
    {
     "data": {
      "image/png": "[encoded data removed]",
      "text/plain": [
       "<Figure size 432x288 with 1 Axes>"
      ]
     },
     "metadata": {},
     "output_type": "display_data"
    }
   ],
   "source": [
    "df_aggregate_per_shop['days_sell'] = df_aggregate_per_shop['count_volumn_day_not_nan']/df_aggregate_per_shop['days_available']\n",
    "\n",
    "plt.hist(df_aggregate_per_shop.days_sell, bins=50);\n",
    "plt.xlabel('Proportion days selling')\n",
    "plt.ylabel('Count');"
   ]
  },
  {
   "cell_type": "code",
   "execution_count": 221,
   "metadata": {},
   "outputs": [
    {
     "data": {
      "text/html": [
       "<div>\n",
       "<style scoped>\n",
       "    .dataframe tbody tr th:only-of-type {\n",
       "        vertical-align: middle;\n",
       "    }\n",
       "\n",
       "    .dataframe tbody tr th {\n",
       "        vertical-align: top;\n",
       "    }\n",
       "\n",
       "    .dataframe thead th {\n",
       "        text-align: right;\n",
       "    }\n",
       "</style>\n",
       "<table border=\"1\" class=\"dataframe\">\n",
       "  <thead>\n",
       "    <tr style=\"text-align: right;\">\n",
       "      <th></th>\n",
       "      <th>store_code</th>\n",
       "      <th>volume_total</th>\n",
       "      <th>count_volumn_day_not_nan</th>\n",
       "      <th>days_available</th>\n",
       "      <th>days_sell</th>\n",
       "    </tr>\n",
       "  </thead>\n",
       "  <tbody>\n",
       "    <tr>\n",
       "      <th>62</th>\n",
       "      <td>11007</td>\n",
       "      <td>60.0</td>\n",
       "      <td>1.0</td>\n",
       "      <td>693.0</td>\n",
       "      <td>0.001443</td>\n",
       "    </tr>\n",
       "    <tr>\n",
       "      <th>16</th>\n",
       "      <td>3745</td>\n",
       "      <td>30.0</td>\n",
       "      <td>1.0</td>\n",
       "      <td>693.0</td>\n",
       "      <td>0.001443</td>\n",
       "    </tr>\n",
       "    <tr>\n",
       "      <th>750</th>\n",
       "      <td>32357</td>\n",
       "      <td>300.0</td>\n",
       "      <td>1.0</td>\n",
       "      <td>693.0</td>\n",
       "      <td>0.001443</td>\n",
       "    </tr>\n",
       "    <tr>\n",
       "      <th>21</th>\n",
       "      <td>4032</td>\n",
       "      <td>30.0</td>\n",
       "      <td>1.0</td>\n",
       "      <td>693.0</td>\n",
       "      <td>0.001443</td>\n",
       "    </tr>\n",
       "    <tr>\n",
       "      <th>494</th>\n",
       "      <td>26906</td>\n",
       "      <td>60.0</td>\n",
       "      <td>2.0</td>\n",
       "      <td>693.0</td>\n",
       "      <td>0.002886</td>\n",
       "    </tr>\n",
       "    <tr>\n",
       "      <th>15</th>\n",
       "      <td>3655</td>\n",
       "      <td>90.0</td>\n",
       "      <td>2.0</td>\n",
       "      <td>693.0</td>\n",
       "      <td>0.002886</td>\n",
       "    </tr>\n",
       "    <tr>\n",
       "      <th>566</th>\n",
       "      <td>28634</td>\n",
       "      <td>90.0</td>\n",
       "      <td>2.0</td>\n",
       "      <td>693.0</td>\n",
       "      <td>0.002886</td>\n",
       "    </tr>\n",
       "    <tr>\n",
       "      <th>195</th>\n",
       "      <td>19717</td>\n",
       "      <td>600.0</td>\n",
       "      <td>2.0</td>\n",
       "      <td>693.0</td>\n",
       "      <td>0.002886</td>\n",
       "    </tr>\n",
       "    <tr>\n",
       "      <th>396</th>\n",
       "      <td>24356</td>\n",
       "      <td>90.0</td>\n",
       "      <td>2.0</td>\n",
       "      <td>693.0</td>\n",
       "      <td>0.002886</td>\n",
       "    </tr>\n",
       "    <tr>\n",
       "      <th>190</th>\n",
       "      <td>19506</td>\n",
       "      <td>60.0</td>\n",
       "      <td>2.0</td>\n",
       "      <td>693.0</td>\n",
       "      <td>0.002886</td>\n",
       "    </tr>\n",
       "    <tr>\n",
       "      <th>802</th>\n",
       "      <td>46610</td>\n",
       "      <td>120.0</td>\n",
       "      <td>2.0</td>\n",
       "      <td>693.0</td>\n",
       "      <td>0.002886</td>\n",
       "    </tr>\n",
       "    <tr>\n",
       "      <th>6</th>\n",
       "      <td>2331</td>\n",
       "      <td>60.0</td>\n",
       "      <td>2.0</td>\n",
       "      <td>693.0</td>\n",
       "      <td>0.002886</td>\n",
       "    </tr>\n",
       "    <tr>\n",
       "      <th>184</th>\n",
       "      <td>18938</td>\n",
       "      <td>60.0</td>\n",
       "      <td>2.0</td>\n",
       "      <td>693.0</td>\n",
       "      <td>0.002886</td>\n",
       "    </tr>\n",
       "    <tr>\n",
       "      <th>783</th>\n",
       "      <td>34713</td>\n",
       "      <td>0.0</td>\n",
       "      <td>2.0</td>\n",
       "      <td>693.0</td>\n",
       "      <td>0.002886</td>\n",
       "    </tr>\n",
       "    <tr>\n",
       "      <th>389</th>\n",
       "      <td>23987</td>\n",
       "      <td>120.0</td>\n",
       "      <td>3.0</td>\n",
       "      <td>693.0</td>\n",
       "      <td>0.004329</td>\n",
       "    </tr>\n",
       "    <tr>\n",
       "      <th>403</th>\n",
       "      <td>24444</td>\n",
       "      <td>360.0</td>\n",
       "      <td>3.0</td>\n",
       "      <td>693.0</td>\n",
       "      <td>0.004329</td>\n",
       "    </tr>\n",
       "    <tr>\n",
       "      <th>365</th>\n",
       "      <td>23244</td>\n",
       "      <td>150.0</td>\n",
       "      <td>3.0</td>\n",
       "      <td>693.0</td>\n",
       "      <td>0.004329</td>\n",
       "    </tr>\n",
       "    <tr>\n",
       "      <th>20</th>\n",
       "      <td>4013</td>\n",
       "      <td>420.0</td>\n",
       "      <td>3.0</td>\n",
       "      <td>693.0</td>\n",
       "      <td>0.004329</td>\n",
       "    </tr>\n",
       "    <tr>\n",
       "      <th>19</th>\n",
       "      <td>3958</td>\n",
       "      <td>240.0</td>\n",
       "      <td>3.0</td>\n",
       "      <td>693.0</td>\n",
       "      <td>0.004329</td>\n",
       "    </tr>\n",
       "    <tr>\n",
       "      <th>473</th>\n",
       "      <td>26417</td>\n",
       "      <td>1080.0</td>\n",
       "      <td>3.0</td>\n",
       "      <td>693.0</td>\n",
       "      <td>0.004329</td>\n",
       "    </tr>\n",
       "  </tbody>\n",
       "</table>\n",
       "</div>"
      ],
      "text/plain": [
       "     store_code  volume_total  count_volumn_day_not_nan  days_available  \\\n",
       "62        11007          60.0                       1.0           693.0   \n",
       "16         3745          30.0                       1.0           693.0   \n",
       "750       32357         300.0                       1.0           693.0   \n",
       "21         4032          30.0                       1.0           693.0   \n",
       "494       26906          60.0                       2.0           693.0   \n",
       "15         3655          90.0                       2.0           693.0   \n",
       "566       28634          90.0                       2.0           693.0   \n",
       "195       19717         600.0                       2.0           693.0   \n",
       "396       24356          90.0                       2.0           693.0   \n",
       "190       19506          60.0                       2.0           693.0   \n",
       "802       46610         120.0                       2.0           693.0   \n",
       "6          2331          60.0                       2.0           693.0   \n",
       "184       18938          60.0                       2.0           693.0   \n",
       "783       34713           0.0                       2.0           693.0   \n",
       "389       23987         120.0                       3.0           693.0   \n",
       "403       24444         360.0                       3.0           693.0   \n",
       "365       23244         150.0                       3.0           693.0   \n",
       "20         4013         420.0                       3.0           693.0   \n",
       "19         3958         240.0                       3.0           693.0   \n",
       "473       26417        1080.0                       3.0           693.0   \n",
       "\n",
       "     days_sell  \n",
       "62    0.001443  \n",
       "16    0.001443  \n",
       "750   0.001443  \n",
       "21    0.001443  \n",
       "494   0.002886  \n",
       "15    0.002886  \n",
       "566   0.002886  \n",
       "195   0.002886  \n",
       "396   0.002886  \n",
       "190   0.002886  \n",
       "802   0.002886  \n",
       "6     0.002886  \n",
       "184   0.002886  \n",
       "783   0.002886  \n",
       "389   0.004329  \n",
       "403   0.004329  \n",
       "365   0.004329  \n",
       "20    0.004329  \n",
       "19    0.004329  \n",
       "473   0.004329  "
      ]
     },
     "execution_count": 221,
     "metadata": {},
     "output_type": "execute_result"
    }
   ],
   "source": [
    "df_aggregate_per_shop.sort_values('days_sell').head(20)"
   ]
  },
  {
   "cell_type": "markdown",
   "metadata": {},
   "source": [
    "Thus, the dataset contains several shops where less than 20% of the data are not missing. For example there are 4 POSs with only one day of selling information."
   ]
  },
  {
   "cell_type": "markdown",
   "metadata": {},
   "source": [
    "#### First choice: aggregate by day\n",
    "As a first step we drop the information about hour, since we have sparse data.\n",
    "\n",
    "Since several shop have short informative time series, __we delete all days before first sell and after the last sell__.\n",
    "Ideally having the info about the time activity of the shop, or distribution time to that specific shop would help."
   ]
  },
  {
   "cell_type": "code",
   "execution_count": 20,
   "metadata": {},
   "outputs": [],
   "source": [
    "def take_informative_series(x):\n",
    "    # Remove all 0s before the fist sell\n",
    "    x = x.loc[x[(x.volume_day != 0)].first_valid_index():]\n",
    "    # Remove all 0s after the last sell\n",
    "    x = x.loc[:x[(x.volume_day != 0)].last_valid_index()]\n",
    "    return x\n",
    "\n",
    "df_aggregate_per_day_short = df_aggregate_per_day.groupby('store_code').apply(take_informative_series).reset_index(drop = True)"
   ]
  },
  {
   "cell_type": "markdown",
   "metadata": {},
   "source": [
    "Add information about date (i.e. which day of the week, of the year)"
   ]
  },
  {
   "cell_type": "code",
   "execution_count": 21,
   "metadata": {},
   "outputs": [],
   "source": [
    "add_datepart(df_aggregate_per_day_short, 'date', drop=False)"
   ]
  },
  {
   "cell_type": "code",
   "execution_count": 22,
   "metadata": {},
   "outputs": [
    {
     "data": {
      "text/html": [
       "<div>\n",
       "<style scoped>\n",
       "    .dataframe tbody tr th:only-of-type {\n",
       "        vertical-align: middle;\n",
       "    }\n",
       "\n",
       "    .dataframe tbody tr th {\n",
       "        vertical-align: top;\n",
       "    }\n",
       "\n",
       "    .dataframe thead th {\n",
       "        text-align: right;\n",
       "    }\n",
       "</style>\n",
       "<table border=\"1\" class=\"dataframe\">\n",
       "  <thead>\n",
       "    <tr style=\"text-align: right;\">\n",
       "      <th></th>\n",
       "      <th>store_code</th>\n",
       "      <th>date</th>\n",
       "      <th>volume_day</th>\n",
       "      <th>volume_nan</th>\n",
       "      <th>volume_n</th>\n",
       "      <th>Perc_nan</th>\n",
       "      <th>Year</th>\n",
       "      <th>Month</th>\n",
       "      <th>Week</th>\n",
       "      <th>Day</th>\n",
       "      <th>Dayofweek</th>\n",
       "      <th>Dayofyear</th>\n",
       "      <th>Is_month_end</th>\n",
       "      <th>Is_month_start</th>\n",
       "      <th>Is_quarter_end</th>\n",
       "      <th>Is_quarter_start</th>\n",
       "      <th>Is_year_end</th>\n",
       "      <th>Is_year_start</th>\n",
       "      <th>Elapsed</th>\n",
       "    </tr>\n",
       "  </thead>\n",
       "  <tbody>\n",
       "    <tr>\n",
       "      <th>0</th>\n",
       "      <td>249</td>\n",
       "      <td>2016-12-13</td>\n",
       "      <td>300.0</td>\n",
       "      <td>17.0</td>\n",
       "      <td>18.0</td>\n",
       "      <td>0.944444</td>\n",
       "      <td>2016</td>\n",
       "      <td>12</td>\n",
       "      <td>50</td>\n",
       "      <td>13</td>\n",
       "      <td>1</td>\n",
       "      <td>348</td>\n",
       "      <td>False</td>\n",
       "      <td>False</td>\n",
       "      <td>False</td>\n",
       "      <td>False</td>\n",
       "      <td>False</td>\n",
       "      <td>False</td>\n",
       "      <td>1481587200</td>\n",
       "    </tr>\n",
       "    <tr>\n",
       "      <th>1</th>\n",
       "      <td>249</td>\n",
       "      <td>2016-12-14</td>\n",
       "      <td>0.0</td>\n",
       "      <td>18.0</td>\n",
       "      <td>18.0</td>\n",
       "      <td>1.000000</td>\n",
       "      <td>2016</td>\n",
       "      <td>12</td>\n",
       "      <td>50</td>\n",
       "      <td>14</td>\n",
       "      <td>2</td>\n",
       "      <td>349</td>\n",
       "      <td>False</td>\n",
       "      <td>False</td>\n",
       "      <td>False</td>\n",
       "      <td>False</td>\n",
       "      <td>False</td>\n",
       "      <td>False</td>\n",
       "      <td>1481673600</td>\n",
       "    </tr>\n",
       "    <tr>\n",
       "      <th>2</th>\n",
       "      <td>249</td>\n",
       "      <td>2016-12-15</td>\n",
       "      <td>0.0</td>\n",
       "      <td>18.0</td>\n",
       "      <td>18.0</td>\n",
       "      <td>1.000000</td>\n",
       "      <td>2016</td>\n",
       "      <td>12</td>\n",
       "      <td>50</td>\n",
       "      <td>15</td>\n",
       "      <td>3</td>\n",
       "      <td>350</td>\n",
       "      <td>False</td>\n",
       "      <td>False</td>\n",
       "      <td>False</td>\n",
       "      <td>False</td>\n",
       "      <td>False</td>\n",
       "      <td>False</td>\n",
       "      <td>1481760000</td>\n",
       "    </tr>\n",
       "    <tr>\n",
       "      <th>3</th>\n",
       "      <td>249</td>\n",
       "      <td>2016-12-16</td>\n",
       "      <td>0.0</td>\n",
       "      <td>18.0</td>\n",
       "      <td>18.0</td>\n",
       "      <td>1.000000</td>\n",
       "      <td>2016</td>\n",
       "      <td>12</td>\n",
       "      <td>50</td>\n",
       "      <td>16</td>\n",
       "      <td>4</td>\n",
       "      <td>351</td>\n",
       "      <td>False</td>\n",
       "      <td>False</td>\n",
       "      <td>False</td>\n",
       "      <td>False</td>\n",
       "      <td>False</td>\n",
       "      <td>False</td>\n",
       "      <td>1481846400</td>\n",
       "    </tr>\n",
       "    <tr>\n",
       "      <th>4</th>\n",
       "      <td>249</td>\n",
       "      <td>2016-12-17</td>\n",
       "      <td>0.0</td>\n",
       "      <td>19.0</td>\n",
       "      <td>19.0</td>\n",
       "      <td>1.000000</td>\n",
       "      <td>2016</td>\n",
       "      <td>12</td>\n",
       "      <td>50</td>\n",
       "      <td>17</td>\n",
       "      <td>5</td>\n",
       "      <td>352</td>\n",
       "      <td>False</td>\n",
       "      <td>False</td>\n",
       "      <td>False</td>\n",
       "      <td>False</td>\n",
       "      <td>False</td>\n",
       "      <td>False</td>\n",
       "      <td>1481932800</td>\n",
       "    </tr>\n",
       "  </tbody>\n",
       "</table>\n",
       "</div>"
      ],
      "text/plain": [
       "   store_code       date  volume_day  volume_nan  volume_n  Perc_nan  Year  \\\n",
       "0         249 2016-12-13       300.0        17.0      18.0  0.944444  2016   \n",
       "1         249 2016-12-14         0.0        18.0      18.0  1.000000  2016   \n",
       "2         249 2016-12-15         0.0        18.0      18.0  1.000000  2016   \n",
       "3         249 2016-12-16         0.0        18.0      18.0  1.000000  2016   \n",
       "4         249 2016-12-17         0.0        19.0      19.0  1.000000  2016   \n",
       "\n",
       "   Month  Week  Day  Dayofweek  Dayofyear  Is_month_end  Is_month_start  \\\n",
       "0     12    50   13          1        348         False           False   \n",
       "1     12    50   14          2        349         False           False   \n",
       "2     12    50   15          3        350         False           False   \n",
       "3     12    50   16          4        351         False           False   \n",
       "4     12    50   17          5        352         False           False   \n",
       "\n",
       "   Is_quarter_end  Is_quarter_start  Is_year_end  Is_year_start     Elapsed  \n",
       "0           False             False        False          False  1481587200  \n",
       "1           False             False        False          False  1481673600  \n",
       "2           False             False        False          False  1481760000  \n",
       "3           False             False        False          False  1481846400  \n",
       "4           False             False        False          False  1481932800  "
      ]
     },
     "execution_count": 22,
     "metadata": {},
     "output_type": "execute_result"
    }
   ],
   "source": [
    "df_aggregate_per_day_short.head()"
   ]
  },
  {
   "cell_type": "markdown",
   "metadata": {},
   "source": [
    "#### Aggregate per day of the week"
   ]
  },
  {
   "cell_type": "code",
   "execution_count": 235,
   "metadata": {},
   "outputs": [],
   "source": [
    "# Check if any days are closed for all the shops.\n",
    "flds = ['store_code','volume_day','Dayofweek']\n",
    "\n",
    "def summary_per_day(x):\n",
    "    d = {}\n",
    "    d['num_shops'] = x['store_code'].nunique()\n",
    "    d['volumetot'] = x.volume_day.sum()\n",
    "    return pd.Series(d, index=['num_shops', 'volumetot'])\n",
    "\n",
    "df_aggregate_per_day_short_nozeros = df_aggregate_per_day_short[df_aggregate_per_day_short.volume_day!=0]\n",
    "week_info = df_aggregate_per_day_short_nozeros[flds].groupby('Dayofweek').apply(summary_per_day).reset_index()"
   ]
  },
  {
   "cell_type": "code",
   "execution_count": 250,
   "metadata": {},
   "outputs": [
    {
     "data": {
      "image/png": "[encoded data removed]",
      "text/plain": [
       "<Figure size 432x288 with 1 Axes>"
      ]
     },
     "metadata": {},
     "output_type": "display_data"
    }
   ],
   "source": [
    "plt.barh(week_info.Dayofweek, week_info.num_shops);\n",
    "plt.xlabel('#POSs selling');\n",
    "plt.ylabel('Day of the week');"
   ]
  },
  {
   "cell_type": "markdown",
   "metadata": {},
   "source": [
    "On __Sudays__, we have less POS open."
   ]
  },
  {
   "cell_type": "code",
   "execution_count": 251,
   "metadata": {},
   "outputs": [
    {
     "data": {
      "image/png": "[encoded data removed]",
      "text/plain": [
       "<Figure size 432x288 with 1 Axes>"
      ]
     },
     "metadata": {},
     "output_type": "display_data"
    }
   ],
   "source": [
    "plt.barh(week_info.Dayofweek, week_info.volumetot);\n",
    "plt.xlabel('Total volume sell');\n",
    "plt.ylabel('Day of the week');"
   ]
  },
  {
   "cell_type": "markdown",
   "metadata": {},
   "source": [
    "There is no day where all shops are closed. But on Sundays (`Dayofweek == 6`) we have less shops open and thus less volume.\n",
    "\n",
    "But we see that there is an increase of selling on Friday."
   ]
  },
  {
   "cell_type": "markdown",
   "metadata": {},
   "source": [
    "## Load surroundings data"
   ]
  },
  {
   "cell_type": "code",
   "execution_count": 24,
   "metadata": {},
   "outputs": [],
   "source": [
    "md_raw = pd.read_json(f'{PATH}Surroundings.json')"
   ]
  },
  {
   "cell_type": "code",
   "execution_count": 25,
   "metadata": {},
   "outputs": [
    {
     "data": {
      "text/html": [
       "<div>\n",
       "<style scoped>\n",
       "    .dataframe tbody tr th:only-of-type {\n",
       "        vertical-align: middle;\n",
       "    }\n",
       "\n",
       "    .dataframe tbody tr th {\n",
       "        vertical-align: top;\n",
       "    }\n",
       "\n",
       "    .dataframe thead th {\n",
       "        text-align: right;\n",
       "    }\n",
       "</style>\n",
       "<table border=\"1\" class=\"dataframe\">\n",
       "  <thead>\n",
       "    <tr style=\"text-align: right;\">\n",
       "      <th></th>\n",
       "      <th>store_code</th>\n",
       "      <th>surroundings</th>\n",
       "    </tr>\n",
       "  </thead>\n",
       "  <tbody>\n",
       "    <tr>\n",
       "      <th>0</th>\n",
       "      <td>10055</td>\n",
       "      <td>{'subway_station': [], 'department_store': [],...</td>\n",
       "    </tr>\n",
       "    <tr>\n",
       "      <th>1</th>\n",
       "      <td>10077</td>\n",
       "      <td>{'subway_station': [], 'department_store': [],...</td>\n",
       "    </tr>\n",
       "    <tr>\n",
       "      <th>2</th>\n",
       "      <td>10079</td>\n",
       "      <td>{'subway_station': [], 'department_store': [{'...</td>\n",
       "    </tr>\n",
       "    <tr>\n",
       "      <th>3</th>\n",
       "      <td>10086</td>\n",
       "      <td>{'subway_station': [], 'department_store': [],...</td>\n",
       "    </tr>\n",
       "    <tr>\n",
       "      <th>4</th>\n",
       "      <td>10111</td>\n",
       "      <td>{'subway_station': [], 'department_store': [],...</td>\n",
       "    </tr>\n",
       "  </tbody>\n",
       "</table>\n",
       "</div>"
      ],
      "text/plain": [
       "   store_code                                       surroundings\n",
       "0       10055  {'subway_station': [], 'department_store': [],...\n",
       "1       10077  {'subway_station': [], 'department_store': [],...\n",
       "2       10079  {'subway_station': [], 'department_store': [{'...\n",
       "3       10086  {'subway_station': [], 'department_store': [],...\n",
       "4       10111  {'subway_station': [], 'department_store': [],..."
      ]
     },
     "execution_count": 25,
     "metadata": {},
     "output_type": "execute_result"
    }
   ],
   "source": [
    "md_raw.head()"
   ]
  },
  {
   "cell_type": "markdown",
   "metadata": {},
   "source": [
    "For each store we have a dictonary with similar keys of surrounding. Convert from wide to long."
   ]
  },
  {
   "cell_type": "code",
   "execution_count": 26,
   "metadata": {},
   "outputs": [],
   "source": [
    "def dict_to_df(x):\n",
    "    d = x.surroundings\n",
    "    return  pd.Series(pd.DataFrame(list(d.items())), index=list(d.keys())) "
   ]
  },
  {
   "cell_type": "code",
   "execution_count": 27,
   "metadata": {},
   "outputs": [],
   "source": [
    "df_surroundings = md_raw['surroundings'].apply(pd.Series)\n",
    "md_long = pd.concat([md_raw.drop(['surroundings'], axis=1), df_surroundings], axis=1)"
   ]
  },
  {
   "cell_type": "code",
   "execution_count": 28,
   "metadata": {},
   "outputs": [
    {
     "data": {
      "text/html": [
       "<div>\n",
       "<style scoped>\n",
       "    .dataframe tbody tr th:only-of-type {\n",
       "        vertical-align: middle;\n",
       "    }\n",
       "\n",
       "    .dataframe tbody tr th {\n",
       "        vertical-align: top;\n",
       "    }\n",
       "\n",
       "    .dataframe thead th {\n",
       "        text-align: right;\n",
       "    }\n",
       "</style>\n",
       "<table border=\"1\" class=\"dataframe\">\n",
       "  <thead>\n",
       "    <tr style=\"text-align: right;\">\n",
       "      <th></th>\n",
       "      <th>store_code</th>\n",
       "      <th>accounting</th>\n",
       "      <th>airport</th>\n",
       "      <th>amusement_park</th>\n",
       "      <th>aquarium</th>\n",
       "      <th>art_gallery</th>\n",
       "      <th>atm</th>\n",
       "      <th>bakery</th>\n",
       "      <th>bank</th>\n",
       "      <th>bar</th>\n",
       "      <th>...</th>\n",
       "      <th>store</th>\n",
       "      <th>subway_station</th>\n",
       "      <th>synagogue</th>\n",
       "      <th>taxi_stand</th>\n",
       "      <th>train_station</th>\n",
       "      <th>transit_station</th>\n",
       "      <th>travel_agency</th>\n",
       "      <th>university</th>\n",
       "      <th>veterinary_care</th>\n",
       "      <th>zoo</th>\n",
       "    </tr>\n",
       "  </thead>\n",
       "  <tbody>\n",
       "    <tr>\n",
       "      <th>0</th>\n",
       "      <td>10055</td>\n",
       "      <td>[{'name': 'Fiduciaire Exacte &amp; Gestion Comptab...</td>\n",
       "      <td>[]</td>\n",
       "      <td>[]</td>\n",
       "      <td>[]</td>\n",
       "      <td>[{'website': 'http://www.onegeeinfog.com/', 'n...</td>\n",
       "      <td>[{'website': 'https://www.ubs.com/ch/fr.html',...</td>\n",
       "      <td>[{'name': 'Mconseils SA', 'place_id': 'ChIJRz1...</td>\n",
       "      <td>[{'website': 'http://www.ubs.ch/', 'rating': 5...</td>\n",
       "      <td>[{'rating': 3.5, 'place_id': 'ChIJ8xHdm_1vjEcR...</td>\n",
       "      <td>...</td>\n",
       "      <td>[{'website': 'https://filialen.migros.ch/de/mi...</td>\n",
       "      <td>[]</td>\n",
       "      <td>[]</td>\n",
       "      <td>[]</td>\n",
       "      <td>[]</td>\n",
       "      <td>[{'name': 'Chêne-Bourg, La Mousse', 'place_id'...</td>\n",
       "      <td>[{'name': 'Courir au Népal Sàrl', 'place_id': ...</td>\n",
       "      <td>[]</td>\n",
       "      <td>[{'website': 'http://www.vet-chene-bougeries.c...</td>\n",
       "      <td>[]</td>\n",
       "    </tr>\n",
       "    <tr>\n",
       "      <th>1</th>\n",
       "      <td>10077</td>\n",
       "      <td>[]</td>\n",
       "      <td>[]</td>\n",
       "      <td>[]</td>\n",
       "      <td>[]</td>\n",
       "      <td>[]</td>\n",
       "      <td>[]</td>\n",
       "      <td>[{'rating': 4.8, 'place_id': 'ChIJM8FbQe9vjEcR...</td>\n",
       "      <td>[]</td>\n",
       "      <td>[]</td>\n",
       "      <td>...</td>\n",
       "      <td>[{'website': 'http://www.coop.ch/fr/services/a...</td>\n",
       "      <td>[]</td>\n",
       "      <td>[]</td>\n",
       "      <td>[]</td>\n",
       "      <td>[]</td>\n",
       "      <td>[{'name': 'Chêne-Bougeries, Montagne', 'place_...</td>\n",
       "      <td>[]</td>\n",
       "      <td>[]</td>\n",
       "      <td>[]</td>\n",
       "      <td>[]</td>\n",
       "    </tr>\n",
       "    <tr>\n",
       "      <th>2</th>\n",
       "      <td>10079</td>\n",
       "      <td>[{'website': 'http://www.vd.ch/autorites/depar...</td>\n",
       "      <td>[]</td>\n",
       "      <td>[]</td>\n",
       "      <td>[]</td>\n",
       "      <td>[]</td>\n",
       "      <td>[{'name': 'PickPost-Stelle', 'opening_hours': ...</td>\n",
       "      <td>[{'website': 'https://filialen.migros.ch/de/ta...</td>\n",
       "      <td>[{'website': 'https://www.ubs.com/ch/fr.html',...</td>\n",
       "      <td>[{'website': 'https://www.facebook.com/Highlan...</td>\n",
       "      <td>...</td>\n",
       "      <td>[{'website': 'http://www.denner.ch/', 'rating'...</td>\n",
       "      <td>[]</td>\n",
       "      <td>[]</td>\n",
       "      <td>[]</td>\n",
       "      <td>[]</td>\n",
       "      <td>[{'name': 'Yverdon-les-Bains, Bel-Air', 'place...</td>\n",
       "      <td>[{'website': 'http://www.hotelplan.ch/FR/', 'r...</td>\n",
       "      <td>[]</td>\n",
       "      <td>[]</td>\n",
       "      <td>[]</td>\n",
       "    </tr>\n",
       "    <tr>\n",
       "      <th>3</th>\n",
       "      <td>10086</td>\n",
       "      <td>[]</td>\n",
       "      <td>[]</td>\n",
       "      <td>[]</td>\n",
       "      <td>[]</td>\n",
       "      <td>[]</td>\n",
       "      <td>[]</td>\n",
       "      <td>[]</td>\n",
       "      <td>[]</td>\n",
       "      <td>[{'website': 'http://www.oubangui.com/', 'rati...</td>\n",
       "      <td>...</td>\n",
       "      <td>[{'rating': 3.3, 'place_id': 'ChIJUW-HLeAxjEcR...</td>\n",
       "      <td>[]</td>\n",
       "      <td>[]</td>\n",
       "      <td>[]</td>\n",
       "      <td>[]</td>\n",
       "      <td>[{'name': 'Bois-Gentil', 'place_id': 'ChIJK8fw...</td>\n",
       "      <td>[]</td>\n",
       "      <td>[]</td>\n",
       "      <td>[]</td>\n",
       "      <td>[]</td>\n",
       "    </tr>\n",
       "    <tr>\n",
       "      <th>4</th>\n",
       "      <td>10111</td>\n",
       "      <td>[]</td>\n",
       "      <td>[]</td>\n",
       "      <td>[]</td>\n",
       "      <td>[]</td>\n",
       "      <td>[]</td>\n",
       "      <td>[]</td>\n",
       "      <td>[]</td>\n",
       "      <td>[]</td>\n",
       "      <td>[]</td>\n",
       "      <td>...</td>\n",
       "      <td>[{'name': 'lookemontre.com', 'opening_hours': ...</td>\n",
       "      <td>[]</td>\n",
       "      <td>[]</td>\n",
       "      <td>[]</td>\n",
       "      <td>[]</td>\n",
       "      <td>[{'name': 'Yverdon-les-Bains, Plaisance', 'pla...</td>\n",
       "      <td>[]</td>\n",
       "      <td>[]</td>\n",
       "      <td>[]</td>\n",
       "      <td>[]</td>\n",
       "    </tr>\n",
       "  </tbody>\n",
       "</table>\n",
       "<p>5 rows × 90 columns</p>\n",
       "</div>"
      ],
      "text/plain": [
       "   store_code                                         accounting airport  \\\n",
       "0       10055  [{'name': 'Fiduciaire Exacte & Gestion Comptab...      []   \n",
       "1       10077                                                 []      []   \n",
       "2       10079  [{'website': 'http://www.vd.ch/autorites/depar...      []   \n",
       "3       10086                                                 []      []   \n",
       "4       10111                                                 []      []   \n",
       "\n",
       "  amusement_park aquarium                                        art_gallery  \\\n",
       "0             []       []  [{'website': 'http://www.onegeeinfog.com/', 'n...   \n",
       "1             []       []                                                 []   \n",
       "2             []       []                                                 []   \n",
       "3             []       []                                                 []   \n",
       "4             []       []                                                 []   \n",
       "\n",
       "                                                 atm  \\\n",
       "0  [{'website': 'https://www.ubs.com/ch/fr.html',...   \n",
       "1                                                 []   \n",
       "2  [{'name': 'PickPost-Stelle', 'opening_hours': ...   \n",
       "3                                                 []   \n",
       "4                                                 []   \n",
       "\n",
       "                                              bakery  \\\n",
       "0  [{'name': 'Mconseils SA', 'place_id': 'ChIJRz1...   \n",
       "1  [{'rating': 4.8, 'place_id': 'ChIJM8FbQe9vjEcR...   \n",
       "2  [{'website': 'https://filialen.migros.ch/de/ta...   \n",
       "3                                                 []   \n",
       "4                                                 []   \n",
       "\n",
       "                                                bank  \\\n",
       "0  [{'website': 'http://www.ubs.ch/', 'rating': 5...   \n",
       "1                                                 []   \n",
       "2  [{'website': 'https://www.ubs.com/ch/fr.html',...   \n",
       "3                                                 []   \n",
       "4                                                 []   \n",
       "\n",
       "                                                 bar ...  \\\n",
       "0  [{'rating': 3.5, 'place_id': 'ChIJ8xHdm_1vjEcR... ...   \n",
       "1                                                 [] ...   \n",
       "2  [{'website': 'https://www.facebook.com/Highlan... ...   \n",
       "3  [{'website': 'http://www.oubangui.com/', 'rati... ...   \n",
       "4                                                 [] ...   \n",
       "\n",
       "                                               store subway_station synagogue  \\\n",
       "0  [{'website': 'https://filialen.migros.ch/de/mi...             []        []   \n",
       "1  [{'website': 'http://www.coop.ch/fr/services/a...             []        []   \n",
       "2  [{'website': 'http://www.denner.ch/', 'rating'...             []        []   \n",
       "3  [{'rating': 3.3, 'place_id': 'ChIJUW-HLeAxjEcR...             []        []   \n",
       "4  [{'name': 'lookemontre.com', 'opening_hours': ...             []        []   \n",
       "\n",
       "  taxi_stand train_station                                    transit_station  \\\n",
       "0         []            []  [{'name': 'Chêne-Bourg, La Mousse', 'place_id'...   \n",
       "1         []            []  [{'name': 'Chêne-Bougeries, Montagne', 'place_...   \n",
       "2         []            []  [{'name': 'Yverdon-les-Bains, Bel-Air', 'place...   \n",
       "3         []            []  [{'name': 'Bois-Gentil', 'place_id': 'ChIJK8fw...   \n",
       "4         []            []  [{'name': 'Yverdon-les-Bains, Plaisance', 'pla...   \n",
       "\n",
       "                                       travel_agency university  \\\n",
       "0  [{'name': 'Courir au Népal Sàrl', 'place_id': ...         []   \n",
       "1                                                 []         []   \n",
       "2  [{'website': 'http://www.hotelplan.ch/FR/', 'r...         []   \n",
       "3                                                 []         []   \n",
       "4                                                 []         []   \n",
       "\n",
       "                                     veterinary_care zoo  \n",
       "0  [{'website': 'http://www.vet-chene-bougeries.c...  []  \n",
       "1                                                 []  []  \n",
       "2                                                 []  []  \n",
       "3                                                 []  []  \n",
       "4                                                 []  []  \n",
       "\n",
       "[5 rows x 90 columns]"
      ]
     },
     "execution_count": 28,
     "metadata": {},
     "output_type": "execute_result"
    }
   ],
   "source": [
    "md_long.head()"
   ]
  },
  {
   "cell_type": "code",
   "execution_count": 230,
   "metadata": {},
   "outputs": [
    {
     "data": {
      "text/plain": [
       "(546, 90)"
      ]
     },
     "execution_count": 230,
     "metadata": {},
     "output_type": "execute_result"
    }
   ],
   "source": [
    "md_long.shape"
   ]
  },
  {
   "cell_type": "markdown",
   "metadata": {},
   "source": [
    "We have 546 possible different types of surroundings."
   ]
  },
  {
   "cell_type": "markdown",
   "metadata": {},
   "source": [
    "### EDA of surroundings data"
   ]
  },
  {
   "cell_type": "code",
   "execution_count": 242,
   "metadata": {},
   "outputs": [],
   "source": [
    "empty_ = df_surroundings.apply(lambda x: x.astype(str) != '[]', axis=0)"
   ]
  },
  {
   "cell_type": "code",
   "execution_count": 243,
   "metadata": {},
   "outputs": [],
   "source": [
    "surroundings_type_summary = empty_.sum(axis = 0)\n",
    "surroundings_type_summary = pd.DataFrame({'type':surroundings_type_summary.index, 'count':surroundings_type_summary.values}) \n",
    "\n",
    "surroundings_store_summary = empty_.sum(axis = 1)\n",
    "surroundings_store_summary = pd.DataFrame({'store_code':surroundings_store_summary.index, 'count':surroundings_store_summary.values}) \n"
   ]
  },
  {
   "cell_type": "markdown",
   "metadata": {},
   "source": [
    "Distribution of number of shops for each types of surroundings"
   ]
  },
  {
   "cell_type": "code",
   "execution_count": 244,
   "metadata": {},
   "outputs": [
    {
     "data": {
      "image/png": "[encoded data removed]",
      "text/plain": [
       "<Figure size 432x288 with 1 Axes>"
      ]
     },
     "metadata": {},
     "output_type": "display_data"
    }
   ],
   "source": [
    "plt.hist(surroundings_store_summary['count'], bins = 50);\n",
    "plt.xlabel('#POSs per surrounding type')\n",
    "plt.ylabel('Count');"
   ]
  },
  {
   "cell_type": "markdown",
   "metadata": {},
   "source": [
    "Distribution of number of surroundings for each shop"
   ]
  },
  {
   "cell_type": "code",
   "execution_count": 245,
   "metadata": {},
   "outputs": [
    {
     "data": {
      "image/png": "[encoded data removed]",
      "text/plain": [
       "<Figure size 432x288 with 1 Axes>"
      ]
     },
     "metadata": {},
     "output_type": "display_data"
    }
   ],
   "source": [
    "plt.hist(surroundings_store_summary['count'], bins = 50);\n",
    "plt.xlabel('#surroundings per POS');\n",
    "plt.ylabel('Count');"
   ]
  },
  {
   "cell_type": "code",
   "execution_count": 246,
   "metadata": {},
   "outputs": [
    {
     "data": {
      "text/plain": [
       "{'address_components',\n",
       " 'formatted_address',\n",
       " 'icon',\n",
       " 'international_phone_number',\n",
       " 'latitude',\n",
       " 'longitude',\n",
       " 'name',\n",
       " 'opening_hours',\n",
       " 'place_id',\n",
       " 'price_level',\n",
       " 'rating',\n",
       " 'reviews',\n",
       " 'types',\n",
       " 'user_ratings_total',\n",
       " 'website'}"
      ]
     },
     "execution_count": 246,
     "metadata": {},
     "output_type": "execute_result"
    }
   ],
   "source": [
    "surrounding_keys = [set().union(*(d.keys() \n",
    "                                  for d in list(chain(*df_surroundings[i])))) \n",
    "                    for i in list(df_surroundings.columns)]\n",
    "#unlist(list(md_long.accounting))\n",
    "all_keys = set().union(*(list(x) for x in surrounding_keys))\n",
    "all_keys"
   ]
  },
  {
   "cell_type": "markdown",
   "metadata": {},
   "source": [
    "As first pass we select only specific elements as possible features:\n",
    "\n",
    "* `opening_hours`\n",
    "* `price_level`\n",
    "* `rating`\n",
    "* `types`\n",
    "* `user_ratings_total`\n",
    "\n",
    "At first we do not consider the single `reviews`."
   ]
  },
  {
   "cell_type": "markdown",
   "metadata": {},
   "source": [
    "### Check opening hours of surroundings"
   ]
  },
  {
   "cell_type": "code",
   "execution_count": 34,
   "metadata": {},
   "outputs": [],
   "source": [
    "surrounding_keys_list = [list(x) for x in surrounding_keys]"
   ]
  },
  {
   "cell_type": "code",
   "execution_count": 35,
   "metadata": {},
   "outputs": [],
   "source": [
    "def get_types_with_feat(feature):\n",
    "    filtered = [feature in x for x in surrounding_keys_list]\n",
    "    return np.where(filtered)[0]\n",
    "\n",
    "def get_example_feat(feat):\n",
    "    series = df_surroundings.iloc[:,get_types_with_feat(feat)[0]]\n",
    "    elements = [x for x in series.tolist() if x]\n",
    "    elements = [item for sublist in elements for item in sublist]\n",
    "    elements_with_key = [{k: d[k] for k in [feat] if k in d} for d in elements]\n",
    "    elements_with_key = list(filter(None, elements_with_key))\n",
    "    return elements_with_key[0][feat]"
   ]
  },
  {
   "cell_type": "code",
   "execution_count": 36,
   "metadata": {},
   "outputs": [
    {
     "data": {
      "text/plain": [
       "{'open_now': False,\n",
       " 'periods': [{'close': {'day': 1, 'time': '1700'},\n",
       "   'open': {'day': 1, 'time': '0900'}},\n",
       "  {'close': {'day': 2, 'time': '1700'}, 'open': {'day': 2, 'time': '0900'}},\n",
       "  {'close': {'day': 3, 'time': '1700'}, 'open': {'day': 3, 'time': '0900'}},\n",
       "  {'close': {'day': 4, 'time': '1700'}, 'open': {'day': 4, 'time': '0900'}},\n",
       "  {'close': {'day': 5, 'time': '1700'}, 'open': {'day': 5, 'time': '0900'}}],\n",
       " 'weekday_text': ['Monday: 9:00 AM – 5:00 PM',\n",
       "  'Tuesday: 9:00 AM – 5:00 PM',\n",
       "  'Wednesday: 9:00 AM – 5:00 PM',\n",
       "  'Thursday: 9:00 AM – 5:00 PM',\n",
       "  'Friday: 9:00 AM – 5:00 PM',\n",
       "  'Saturday: Closed',\n",
       "  'Sunday: Closed']}"
      ]
     },
     "execution_count": 36,
     "metadata": {},
     "output_type": "execute_result"
    }
   ],
   "source": [
    "fld = 'opening_hours'\n",
    "test = get_example_feat(fld)\n",
    "test"
   ]
  },
  {
   "cell_type": "markdown",
   "metadata": {},
   "source": [
    "In case of `opening_hours`, since we decided to work with aggregate per day, we select the open days of the week.\n",
    "A function is needed to extract the necessary values"
   ]
  },
  {
   "cell_type": "code",
   "execution_count": 37,
   "metadata": {},
   "outputs": [
    {
     "data": {
      "text/plain": [
       "array([0, 1, 2, 3, 4])"
      ]
     },
     "execution_count": 37,
     "metadata": {},
     "output_type": "execute_result"
    }
   ],
   "source": [
    "def get_open_days(dt):\n",
    "    hours = dt['weekday_text']\n",
    "    return np.where([x.split(': ',1)[1] != 'Closed' for x in hours])[0]\n",
    "\n",
    "get_open_days(test)"
   ]
  },
  {
   "cell_type": "markdown",
   "metadata": {},
   "source": [
    "#### Check rating"
   ]
  },
  {
   "cell_type": "code",
   "execution_count": 38,
   "metadata": {},
   "outputs": [
    {
     "data": {
      "text/plain": [
       "2.5"
      ]
     },
     "execution_count": 38,
     "metadata": {},
     "output_type": "execute_result"
    }
   ],
   "source": [
    "fld = 'rating'\n",
    "test = get_example_feat(fld)\n",
    "test"
   ]
  },
  {
   "cell_type": "markdown",
   "metadata": {},
   "source": [
    "No function is needed to extract the rating value."
   ]
  },
  {
   "cell_type": "markdown",
   "metadata": {},
   "source": [
    "#### Check types"
   ]
  },
  {
   "cell_type": "code",
   "execution_count": 39,
   "metadata": {},
   "outputs": [
    {
     "data": {
      "text/plain": [
       "['accounting', 'finance', 'point_of_interest', 'establishment']"
      ]
     },
     "execution_count": 39,
     "metadata": {},
     "output_type": "execute_result"
    }
   ],
   "source": [
    "fld = 'types'\n",
    "test = get_example_feat(fld)\n",
    "test"
   ]
  },
  {
   "cell_type": "markdown",
   "metadata": {},
   "source": [
    "#### Check user ratings total"
   ]
  },
  {
   "cell_type": "code",
   "execution_count": 40,
   "metadata": {},
   "outputs": [
    {
     "data": {
      "text/plain": [
       "2"
      ]
     },
     "execution_count": 40,
     "metadata": {},
     "output_type": "execute_result"
    }
   ],
   "source": [
    "fld = 'user_ratings_total'\n",
    "test = get_example_feat(fld)\n",
    "test"
   ]
  },
  {
   "cell_type": "markdown",
   "metadata": {},
   "source": [
    "#### Check price level"
   ]
  },
  {
   "cell_type": "code",
   "execution_count": 41,
   "metadata": {},
   "outputs": [
    {
     "data": {
      "text/plain": [
       "2"
      ]
     },
     "execution_count": 41,
     "metadata": {},
     "output_type": "execute_result"
    }
   ],
   "source": [
    "fld = 'price_level'\n",
    "test = get_example_feat(fld)\n",
    "test"
   ]
  },
  {
   "cell_type": "markdown",
   "metadata": {},
   "source": [
    "### Reformatting surroundings data"
   ]
  },
  {
   "cell_type": "code",
   "execution_count": 42,
   "metadata": {},
   "outputs": [
    {
     "data": {
      "text/html": [
       "<div>\n",
       "<style scoped>\n",
       "    .dataframe tbody tr th:only-of-type {\n",
       "        vertical-align: middle;\n",
       "    }\n",
       "\n",
       "    .dataframe tbody tr th {\n",
       "        vertical-align: top;\n",
       "    }\n",
       "\n",
       "    .dataframe thead th {\n",
       "        text-align: right;\n",
       "    }\n",
       "</style>\n",
       "<table border=\"1\" class=\"dataframe\">\n",
       "  <thead>\n",
       "    <tr style=\"text-align: right;\">\n",
       "      <th></th>\n",
       "      <th>accounting</th>\n",
       "      <th>airport</th>\n",
       "      <th>amusement_park</th>\n",
       "      <th>aquarium</th>\n",
       "      <th>art_gallery</th>\n",
       "      <th>atm</th>\n",
       "      <th>bakery</th>\n",
       "      <th>bank</th>\n",
       "      <th>bar</th>\n",
       "      <th>beauty_salon</th>\n",
       "      <th>...</th>\n",
       "      <th>store</th>\n",
       "      <th>subway_station</th>\n",
       "      <th>synagogue</th>\n",
       "      <th>taxi_stand</th>\n",
       "      <th>train_station</th>\n",
       "      <th>transit_station</th>\n",
       "      <th>travel_agency</th>\n",
       "      <th>university</th>\n",
       "      <th>veterinary_care</th>\n",
       "      <th>zoo</th>\n",
       "    </tr>\n",
       "  </thead>\n",
       "  <tbody>\n",
       "    <tr>\n",
       "      <th>0</th>\n",
       "      <td>[{'name': 'Fiduciaire Exacte &amp; Gestion Comptab...</td>\n",
       "      <td>[]</td>\n",
       "      <td>[]</td>\n",
       "      <td>[]</td>\n",
       "      <td>[{'website': 'http://www.onegeeinfog.com/', 'n...</td>\n",
       "      <td>[{'website': 'https://www.ubs.com/ch/fr.html',...</td>\n",
       "      <td>[{'name': 'Mconseils SA', 'place_id': 'ChIJRz1...</td>\n",
       "      <td>[{'website': 'http://www.ubs.ch/', 'rating': 5...</td>\n",
       "      <td>[{'rating': 3.5, 'place_id': 'ChIJ8xHdm_1vjEcR...</td>\n",
       "      <td>[{'website': 'http://www.jadebeaute.com/', 'ra...</td>\n",
       "      <td>...</td>\n",
       "      <td>[{'website': 'https://filialen.migros.ch/de/mi...</td>\n",
       "      <td>[]</td>\n",
       "      <td>[]</td>\n",
       "      <td>[]</td>\n",
       "      <td>[]</td>\n",
       "      <td>[{'name': 'Chêne-Bourg, La Mousse', 'place_id'...</td>\n",
       "      <td>[{'name': 'Courir au Népal Sàrl', 'place_id': ...</td>\n",
       "      <td>[]</td>\n",
       "      <td>[{'website': 'http://www.vet-chene-bougeries.c...</td>\n",
       "      <td>[]</td>\n",
       "    </tr>\n",
       "    <tr>\n",
       "      <th>1</th>\n",
       "      <td>[]</td>\n",
       "      <td>[]</td>\n",
       "      <td>[]</td>\n",
       "      <td>[]</td>\n",
       "      <td>[]</td>\n",
       "      <td>[]</td>\n",
       "      <td>[{'rating': 4.8, 'place_id': 'ChIJM8FbQe9vjEcR...</td>\n",
       "      <td>[]</td>\n",
       "      <td>[]</td>\n",
       "      <td>[]</td>\n",
       "      <td>...</td>\n",
       "      <td>[{'website': 'http://www.coop.ch/fr/services/a...</td>\n",
       "      <td>[]</td>\n",
       "      <td>[]</td>\n",
       "      <td>[]</td>\n",
       "      <td>[]</td>\n",
       "      <td>[{'name': 'Chêne-Bougeries, Montagne', 'place_...</td>\n",
       "      <td>[]</td>\n",
       "      <td>[]</td>\n",
       "      <td>[]</td>\n",
       "      <td>[]</td>\n",
       "    </tr>\n",
       "    <tr>\n",
       "      <th>2</th>\n",
       "      <td>[{'website': 'http://www.vd.ch/autorites/depar...</td>\n",
       "      <td>[]</td>\n",
       "      <td>[]</td>\n",
       "      <td>[]</td>\n",
       "      <td>[]</td>\n",
       "      <td>[{'name': 'PickPost-Stelle', 'opening_hours': ...</td>\n",
       "      <td>[{'website': 'https://filialen.migros.ch/de/ta...</td>\n",
       "      <td>[{'website': 'https://www.ubs.com/ch/fr.html',...</td>\n",
       "      <td>[{'website': 'https://www.facebook.com/Highlan...</td>\n",
       "      <td>[{'rating': 5, 'place_id': 'ChIJmxg6U4LPjUcR86...</td>\n",
       "      <td>...</td>\n",
       "      <td>[{'website': 'http://www.denner.ch/', 'rating'...</td>\n",
       "      <td>[]</td>\n",
       "      <td>[]</td>\n",
       "      <td>[]</td>\n",
       "      <td>[]</td>\n",
       "      <td>[{'name': 'Yverdon-les-Bains, Bel-Air', 'place...</td>\n",
       "      <td>[{'website': 'http://www.hotelplan.ch/FR/', 'r...</td>\n",
       "      <td>[]</td>\n",
       "      <td>[]</td>\n",
       "      <td>[]</td>\n",
       "    </tr>\n",
       "    <tr>\n",
       "      <th>3</th>\n",
       "      <td>[]</td>\n",
       "      <td>[]</td>\n",
       "      <td>[]</td>\n",
       "      <td>[]</td>\n",
       "      <td>[]</td>\n",
       "      <td>[]</td>\n",
       "      <td>[]</td>\n",
       "      <td>[]</td>\n",
       "      <td>[{'website': 'http://www.oubangui.com/', 'rati...</td>\n",
       "      <td>[{'website': 'http://www.blattnerpodologue.ch/...</td>\n",
       "      <td>...</td>\n",
       "      <td>[{'rating': 3.3, 'place_id': 'ChIJUW-HLeAxjEcR...</td>\n",
       "      <td>[]</td>\n",
       "      <td>[]</td>\n",
       "      <td>[]</td>\n",
       "      <td>[]</td>\n",
       "      <td>[{'name': 'Bois-Gentil', 'place_id': 'ChIJK8fw...</td>\n",
       "      <td>[]</td>\n",
       "      <td>[]</td>\n",
       "      <td>[]</td>\n",
       "      <td>[]</td>\n",
       "    </tr>\n",
       "    <tr>\n",
       "      <th>4</th>\n",
       "      <td>[]</td>\n",
       "      <td>[]</td>\n",
       "      <td>[]</td>\n",
       "      <td>[]</td>\n",
       "      <td>[]</td>\n",
       "      <td>[]</td>\n",
       "      <td>[]</td>\n",
       "      <td>[]</td>\n",
       "      <td>[]</td>\n",
       "      <td>[]</td>\n",
       "      <td>...</td>\n",
       "      <td>[{'name': 'lookemontre.com', 'opening_hours': ...</td>\n",
       "      <td>[]</td>\n",
       "      <td>[]</td>\n",
       "      <td>[]</td>\n",
       "      <td>[]</td>\n",
       "      <td>[{'name': 'Yverdon-les-Bains, Plaisance', 'pla...</td>\n",
       "      <td>[]</td>\n",
       "      <td>[]</td>\n",
       "      <td>[]</td>\n",
       "      <td>[]</td>\n",
       "    </tr>\n",
       "  </tbody>\n",
       "</table>\n",
       "<p>5 rows × 89 columns</p>\n",
       "</div>"
      ],
      "text/plain": [
       "                                          accounting airport amusement_park  \\\n",
       "0  [{'name': 'Fiduciaire Exacte & Gestion Comptab...      []             []   \n",
       "1                                                 []      []             []   \n",
       "2  [{'website': 'http://www.vd.ch/autorites/depar...      []             []   \n",
       "3                                                 []      []             []   \n",
       "4                                                 []      []             []   \n",
       "\n",
       "  aquarium                                        art_gallery  \\\n",
       "0       []  [{'website': 'http://www.onegeeinfog.com/', 'n...   \n",
       "1       []                                                 []   \n",
       "2       []                                                 []   \n",
       "3       []                                                 []   \n",
       "4       []                                                 []   \n",
       "\n",
       "                                                 atm  \\\n",
       "0  [{'website': 'https://www.ubs.com/ch/fr.html',...   \n",
       "1                                                 []   \n",
       "2  [{'name': 'PickPost-Stelle', 'opening_hours': ...   \n",
       "3                                                 []   \n",
       "4                                                 []   \n",
       "\n",
       "                                              bakery  \\\n",
       "0  [{'name': 'Mconseils SA', 'place_id': 'ChIJRz1...   \n",
       "1  [{'rating': 4.8, 'place_id': 'ChIJM8FbQe9vjEcR...   \n",
       "2  [{'website': 'https://filialen.migros.ch/de/ta...   \n",
       "3                                                 []   \n",
       "4                                                 []   \n",
       "\n",
       "                                                bank  \\\n",
       "0  [{'website': 'http://www.ubs.ch/', 'rating': 5...   \n",
       "1                                                 []   \n",
       "2  [{'website': 'https://www.ubs.com/ch/fr.html',...   \n",
       "3                                                 []   \n",
       "4                                                 []   \n",
       "\n",
       "                                                 bar  \\\n",
       "0  [{'rating': 3.5, 'place_id': 'ChIJ8xHdm_1vjEcR...   \n",
       "1                                                 []   \n",
       "2  [{'website': 'https://www.facebook.com/Highlan...   \n",
       "3  [{'website': 'http://www.oubangui.com/', 'rati...   \n",
       "4                                                 []   \n",
       "\n",
       "                                        beauty_salon ...  \\\n",
       "0  [{'website': 'http://www.jadebeaute.com/', 'ra... ...   \n",
       "1                                                 [] ...   \n",
       "2  [{'rating': 5, 'place_id': 'ChIJmxg6U4LPjUcR86... ...   \n",
       "3  [{'website': 'http://www.blattnerpodologue.ch/... ...   \n",
       "4                                                 [] ...   \n",
       "\n",
       "                                               store subway_station synagogue  \\\n",
       "0  [{'website': 'https://filialen.migros.ch/de/mi...             []        []   \n",
       "1  [{'website': 'http://www.coop.ch/fr/services/a...             []        []   \n",
       "2  [{'website': 'http://www.denner.ch/', 'rating'...             []        []   \n",
       "3  [{'rating': 3.3, 'place_id': 'ChIJUW-HLeAxjEcR...             []        []   \n",
       "4  [{'name': 'lookemontre.com', 'opening_hours': ...             []        []   \n",
       "\n",
       "  taxi_stand train_station                                    transit_station  \\\n",
       "0         []            []  [{'name': 'Chêne-Bourg, La Mousse', 'place_id'...   \n",
       "1         []            []  [{'name': 'Chêne-Bougeries, Montagne', 'place_...   \n",
       "2         []            []  [{'name': 'Yverdon-les-Bains, Bel-Air', 'place...   \n",
       "3         []            []  [{'name': 'Bois-Gentil', 'place_id': 'ChIJK8fw...   \n",
       "4         []            []  [{'name': 'Yverdon-les-Bains, Plaisance', 'pla...   \n",
       "\n",
       "                                       travel_agency university  \\\n",
       "0  [{'name': 'Courir au Népal Sàrl', 'place_id': ...         []   \n",
       "1                                                 []         []   \n",
       "2  [{'website': 'http://www.hotelplan.ch/FR/', 'r...         []   \n",
       "3                                                 []         []   \n",
       "4                                                 []         []   \n",
       "\n",
       "                                     veterinary_care zoo  \n",
       "0  [{'website': 'http://www.vet-chene-bougeries.c...  []  \n",
       "1                                                 []  []  \n",
       "2                                                 []  []  \n",
       "3                                                 []  []  \n",
       "4                                                 []  []  \n",
       "\n",
       "[5 rows x 89 columns]"
      ]
     },
     "execution_count": 42,
     "metadata": {},
     "output_type": "execute_result"
    }
   ],
   "source": [
    "df_surroundings.head()"
   ]
  },
  {
   "cell_type": "markdown",
   "metadata": {},
   "source": [
    "Function to extract needed filds"
   ]
  },
  {
   "cell_type": "code",
   "execution_count": 43,
   "metadata": {},
   "outputs": [],
   "source": [
    "keys_of_interest = ['opening_hours', 'price_level', 'rating','types','user_ratings_total']\n",
    "default_days = np.array([0,1,2,3,4])\n",
    "\n",
    "def get_values(kk,vv):\n",
    "    if kk == 'opening_hours':\n",
    "        return get_open_days(vv)\n",
    "    else:\n",
    "        return vv\n",
    "\n",
    "def filter_surroundings(ll, set_default_days = True):\n",
    "    ## First select only elements with keys of interest\n",
    "    selected_elements = [{k: i[k] for k in keys_of_interest if k in i.keys()} for i in ll]\n",
    "    ## Then extract values in corresponding format of interest\n",
    "    selected_elements = [{k: get_values(k,v) for k, v in elem.items()} for elem in selected_elements]\n",
    "    ## Add default opening days if True\n",
    "    if set_default_days:\n",
    "        for i in selected_elements:\n",
    "            if 'opening_hours' not in i.keys():\n",
    "                i['opening_hours'] = default_days\n",
    "    return selected_elements"
   ]
  },
  {
   "cell_type": "code",
   "execution_count": 44,
   "metadata": {},
   "outputs": [],
   "source": [
    "df_surr_filtered = df_surroundings.applymap(filter_surroundings)"
   ]
  },
  {
   "cell_type": "markdown",
   "metadata": {},
   "source": [
    "#### Aggregate surrouding without open day information"
   ]
  },
  {
   "cell_type": "code",
   "execution_count": 211,
   "metadata": {},
   "outputs": [],
   "source": [
    "def summarize_metadata(x):\n",
    "    d = {}\n",
    "    to_summarize = {}\n",
    "    idx = ['has','n']\n",
    "    d['has'] = 0\n",
    "    d['n'] = 0\n",
    "    nn = len(x)\n",
    "    if nn > 0:\n",
    "        d['has'] = 1\n",
    "        d['n'] = nn\n",
    "        keys_to_summarize = list(set().union(*(d.keys() for d in x)))\n",
    "        for i in keys_to_summarize:\n",
    "            to_summarize[i] = [dic[i] for dic in x if i in dic]\n",
    "        if 'rating' in to_summarize.keys():\n",
    "            d['mean_rating'] = np.mean(to_summarize['rating'])\n",
    "            idx.append('mean_rating')            \n",
    "        if 'price_level' in to_summarize.keys():\n",
    "            d['mean_price_level'] = np.mean(to_summarize['price_level'])\n",
    "            idx.append('mean_price_level')                        \n",
    "        if 'mean_user_ratings_total' in to_summarize.keys():\n",
    "            d['mean_user_ratings_total'] = np.mean(to_summarize['user_ratings_total'])\n",
    "            idx.append('mean_user_ratings_total')                                    \n",
    "        if 'types' in to_summarize.keys():\n",
    "            d['types'] =  list(iter(set(chain(*to_summarize['types']))))\n",
    "            idx.append('types')                                                \n",
    "    return pd.Series(d, index=idx).to_frame().T"
   ]
  },
  {
   "cell_type": "code",
   "execution_count": 212,
   "metadata": {},
   "outputs": [],
   "source": [
    "metadata_per_shop = df_surr_filtered.applymap(summarize_metadata)\n",
    "metadata_per_shop = pd.concat([md_raw.drop(['surroundings'], axis=1), metadata_per_shop], axis=1)"
   ]
  },
  {
   "cell_type": "code",
   "execution_count": 213,
   "metadata": {},
   "outputs": [],
   "source": [
    "def aggregate_metadata(dt, main_keys = ['store_code','Dayofweek']):\n",
    "    list_surrs = []\n",
    "    for i in range(dt.shape[0]):\n",
    "        list_surr_per_shop = []\n",
    "        k = 0\n",
    "        for j in dt.columns[1:]:\n",
    "            element = dt.iloc[i][j]\n",
    "            if element is not None:\n",
    "                to_merge = element.copy()\n",
    "                to_merge['store_code'] = dt.iloc[i]['store_code']\n",
    "                to_merge.rename(lambda x: j+'_'+x if x not in main_keys else x, axis='columns', inplace=True)\n",
    "                list_surr_per_shop.append(to_merge)\n",
    "        # Remove possible shops without information filtered\n",
    "        if len(list_surr_per_shop) > 0:\n",
    "            list_surrs.append(functools.reduce(lambda d1,d2: pd.merge(d1,d2,on=main_keys), list_surr_per_shop))\n",
    "    return pd.concat(list_surrs)"
   ]
  },
  {
   "cell_type": "code",
   "execution_count": 214,
   "metadata": {},
   "outputs": [],
   "source": [
    "metadata_no_day = aggregate_metadata(metadata_per_shop, main_keys='store_code')"
   ]
  },
  {
   "cell_type": "code",
   "execution_count": 215,
   "metadata": {},
   "outputs": [
    {
     "data": {
      "text/html": [
       "<div>\n",
       "<style scoped>\n",
       "    .dataframe tbody tr th:only-of-type {\n",
       "        vertical-align: middle;\n",
       "    }\n",
       "\n",
       "    .dataframe tbody tr th {\n",
       "        vertical-align: top;\n",
       "    }\n",
       "\n",
       "    .dataframe thead th {\n",
       "        text-align: right;\n",
       "    }\n",
       "</style>\n",
       "<table border=\"1\" class=\"dataframe\">\n",
       "  <thead>\n",
       "    <tr style=\"text-align: right;\">\n",
       "      <th></th>\n",
       "      <th>accounting_has</th>\n",
       "      <th>accounting_mean_rating</th>\n",
       "      <th>accounting_n</th>\n",
       "      <th>accounting_types</th>\n",
       "      <th>airport_has</th>\n",
       "      <th>airport_mean_rating</th>\n",
       "      <th>airport_n</th>\n",
       "      <th>airport_types</th>\n",
       "      <th>amusement_park_has</th>\n",
       "      <th>amusement_park_mean_rating</th>\n",
       "      <th>...</th>\n",
       "      <th>university_n</th>\n",
       "      <th>university_types</th>\n",
       "      <th>veterinary_care_has</th>\n",
       "      <th>veterinary_care_mean_rating</th>\n",
       "      <th>veterinary_care_n</th>\n",
       "      <th>veterinary_care_types</th>\n",
       "      <th>zoo_has</th>\n",
       "      <th>zoo_mean_rating</th>\n",
       "      <th>zoo_n</th>\n",
       "      <th>zoo_types</th>\n",
       "    </tr>\n",
       "  </thead>\n",
       "  <tbody>\n",
       "    <tr>\n",
       "      <th>0</th>\n",
       "      <td>1</td>\n",
       "      <td>NaN</td>\n",
       "      <td>3</td>\n",
       "      <td>[establishment, accounting, finance, point_of_...</td>\n",
       "      <td>0</td>\n",
       "      <td>NaN</td>\n",
       "      <td>0</td>\n",
       "      <td>NaN</td>\n",
       "      <td>0</td>\n",
       "      <td>NaN</td>\n",
       "      <td>...</td>\n",
       "      <td>0</td>\n",
       "      <td>NaN</td>\n",
       "      <td>1</td>\n",
       "      <td>5</td>\n",
       "      <td>1</td>\n",
       "      <td>[establishment, point_of_interest, veterinary_...</td>\n",
       "      <td>0</td>\n",
       "      <td>NaN</td>\n",
       "      <td>0</td>\n",
       "      <td>NaN</td>\n",
       "    </tr>\n",
       "    <tr>\n",
       "      <th>0</th>\n",
       "      <td>0</td>\n",
       "      <td>NaN</td>\n",
       "      <td>0</td>\n",
       "      <td>NaN</td>\n",
       "      <td>0</td>\n",
       "      <td>NaN</td>\n",
       "      <td>0</td>\n",
       "      <td>NaN</td>\n",
       "      <td>0</td>\n",
       "      <td>NaN</td>\n",
       "      <td>...</td>\n",
       "      <td>0</td>\n",
       "      <td>NaN</td>\n",
       "      <td>0</td>\n",
       "      <td>NaN</td>\n",
       "      <td>0</td>\n",
       "      <td>NaN</td>\n",
       "      <td>0</td>\n",
       "      <td>NaN</td>\n",
       "      <td>0</td>\n",
       "      <td>NaN</td>\n",
       "    </tr>\n",
       "    <tr>\n",
       "      <th>0</th>\n",
       "      <td>1</td>\n",
       "      <td>NaN</td>\n",
       "      <td>1</td>\n",
       "      <td>[local_government_office, finance, establishme...</td>\n",
       "      <td>0</td>\n",
       "      <td>NaN</td>\n",
       "      <td>0</td>\n",
       "      <td>NaN</td>\n",
       "      <td>0</td>\n",
       "      <td>NaN</td>\n",
       "      <td>...</td>\n",
       "      <td>0</td>\n",
       "      <td>NaN</td>\n",
       "      <td>0</td>\n",
       "      <td>NaN</td>\n",
       "      <td>0</td>\n",
       "      <td>NaN</td>\n",
       "      <td>0</td>\n",
       "      <td>NaN</td>\n",
       "      <td>0</td>\n",
       "      <td>NaN</td>\n",
       "    </tr>\n",
       "    <tr>\n",
       "      <th>0</th>\n",
       "      <td>0</td>\n",
       "      <td>NaN</td>\n",
       "      <td>0</td>\n",
       "      <td>NaN</td>\n",
       "      <td>0</td>\n",
       "      <td>NaN</td>\n",
       "      <td>0</td>\n",
       "      <td>NaN</td>\n",
       "      <td>0</td>\n",
       "      <td>NaN</td>\n",
       "      <td>...</td>\n",
       "      <td>0</td>\n",
       "      <td>NaN</td>\n",
       "      <td>0</td>\n",
       "      <td>NaN</td>\n",
       "      <td>0</td>\n",
       "      <td>NaN</td>\n",
       "      <td>0</td>\n",
       "      <td>NaN</td>\n",
       "      <td>0</td>\n",
       "      <td>NaN</td>\n",
       "    </tr>\n",
       "    <tr>\n",
       "      <th>0</th>\n",
       "      <td>0</td>\n",
       "      <td>NaN</td>\n",
       "      <td>0</td>\n",
       "      <td>NaN</td>\n",
       "      <td>0</td>\n",
       "      <td>NaN</td>\n",
       "      <td>0</td>\n",
       "      <td>NaN</td>\n",
       "      <td>0</td>\n",
       "      <td>NaN</td>\n",
       "      <td>...</td>\n",
       "      <td>0</td>\n",
       "      <td>NaN</td>\n",
       "      <td>0</td>\n",
       "      <td>NaN</td>\n",
       "      <td>0</td>\n",
       "      <td>NaN</td>\n",
       "      <td>0</td>\n",
       "      <td>NaN</td>\n",
       "      <td>0</td>\n",
       "      <td>NaN</td>\n",
       "    </tr>\n",
       "  </tbody>\n",
       "</table>\n",
       "<p>5 rows × 373 columns</p>\n",
       "</div>"
      ],
      "text/plain": [
       "  accounting_has accounting_mean_rating accounting_n  \\\n",
       "0              1                    NaN            3   \n",
       "0              0                    NaN            0   \n",
       "0              1                    NaN            1   \n",
       "0              0                    NaN            0   \n",
       "0              0                    NaN            0   \n",
       "\n",
       "                                    accounting_types airport_has  \\\n",
       "0  [establishment, accounting, finance, point_of_...           0   \n",
       "0                                                NaN           0   \n",
       "0  [local_government_office, finance, establishme...           0   \n",
       "0                                                NaN           0   \n",
       "0                                                NaN           0   \n",
       "\n",
       "  airport_mean_rating airport_n airport_types amusement_park_has  \\\n",
       "0                 NaN         0           NaN                  0   \n",
       "0                 NaN         0           NaN                  0   \n",
       "0                 NaN         0           NaN                  0   \n",
       "0                 NaN         0           NaN                  0   \n",
       "0                 NaN         0           NaN                  0   \n",
       "\n",
       "  amusement_park_mean_rating    ...    university_n university_types  \\\n",
       "0                        NaN    ...               0              NaN   \n",
       "0                        NaN    ...               0              NaN   \n",
       "0                        NaN    ...               0              NaN   \n",
       "0                        NaN    ...               0              NaN   \n",
       "0                        NaN    ...               0              NaN   \n",
       "\n",
       "  veterinary_care_has veterinary_care_mean_rating veterinary_care_n  \\\n",
       "0                   1                           5                 1   \n",
       "0                   0                         NaN                 0   \n",
       "0                   0                         NaN                 0   \n",
       "0                   0                         NaN                 0   \n",
       "0                   0                         NaN                 0   \n",
       "\n",
       "                               veterinary_care_types zoo_has zoo_mean_rating  \\\n",
       "0  [establishment, point_of_interest, veterinary_...       0             NaN   \n",
       "0                                                NaN       0             NaN   \n",
       "0                                                NaN       0             NaN   \n",
       "0                                                NaN       0             NaN   \n",
       "0                                                NaN       0             NaN   \n",
       "\n",
       "  zoo_n zoo_types  \n",
       "0     0       NaN  \n",
       "0     0       NaN  \n",
       "0     0       NaN  \n",
       "0     0       NaN  \n",
       "0     0       NaN  \n",
       "\n",
       "[5 rows x 373 columns]"
      ]
     },
     "execution_count": 215,
     "metadata": {},
     "output_type": "execute_result"
    }
   ],
   "source": [
    "metadata_no_day.head()"
   ]
  },
  {
   "cell_type": "markdown",
   "metadata": {},
   "source": [
    "#### Aggregate surrouding with open day information for each surroundings"
   ]
  },
  {
   "cell_type": "code",
   "execution_count": 45,
   "metadata": {},
   "outputs": [],
   "source": [
    "def expand_per_days(df):\n",
    "    df = pd.DataFrame(df)\n",
    "    if not df.empty:\n",
    "        lens = [len(item) for item in df['opening_hours']]\n",
    "        res = pd.DataFrame({\"Dayofweek\" : np.concatenate(df['opening_hours'].values)})\n",
    "        for i in keys_of_interest[1:]:\n",
    "            if i in df.columns:\n",
    "                res = pd.concat([res, pd.DataFrame({i:np.repeat(df[i].values,lens)})], axis=1)\n",
    "        return res\n",
    "\n",
    "def summarize_day(x):\n",
    "    d = {}\n",
    "    idx = ['']\n",
    "    if x is not None:\n",
    "        idx = ['n']\n",
    "        d['n'] = x.Dayofweek.count()\n",
    "        if 'rating' in x.columns:\n",
    "            name = 'mean_ratings'\n",
    "            d[name] = x.rating.mean()\n",
    "            idx.append(name)\n",
    "        if 'price_level' in x.columns:\n",
    "            name = 'mean_price_level'\n",
    "            d[name] = x.price_level.mean()\n",
    "            idx.append(name)\n",
    "        if 'user_ratings_total' in x.columns:\n",
    "            name = 'mean_user_ratings_total'\n",
    "            d[name] = x.user_ratings_total.mean()\n",
    "            idx.append(name)\n",
    "        if 'types' in x.columns:\n",
    "            name = 'types'\n",
    "            d[name] = list(np.unique(x.types.sum()))\n",
    "            idx.append(name)\n",
    "    return pd.Series(d, index=idx)\n",
    "\n",
    "## \n",
    "summary_for_element = df_surr_filtered.applymap(expand_per_days)\n",
    "summary_for_element = summary_for_element.applymap(lambda x: x.groupby('Dayofweek').apply(summarize_day).reset_index() if x is not None else None)\n",
    "\n",
    "\n",
    "md_df2 = pd.concat([md_raw.drop(['surroundings'], axis=1), summary_for_element], axis=1)"
   ]
  },
  {
   "cell_type": "code",
   "execution_count": 163,
   "metadata": {},
   "outputs": [],
   "source": [
    "metadata_with_days = aggregate_metadata(md_df2)\n",
    "metadata_with_days.head()"
   ]
  },
  {
   "cell_type": "markdown",
   "metadata": {},
   "source": [
    "## Save image workspace"
   ]
  },
  {
   "cell_type": "code",
   "execution_count": 216,
   "metadata": {},
   "outputs": [],
   "source": [
    "os.makedirs('tmp', exist_ok=True)\n",
    "dill.dump_session('tmp/globalsave.pkl')"
   ]
  }
 ],
 "metadata": {
  "kernelspec": {
   "display_name": "Python 3",
   "language": "python",
   "name": "python3"
  },
  "language_info": {
   "codemirror_mode": {
    "name": "ipython",
    "version": 3
   },
   "file_extension": ".py",
   "mimetype": "text/x-python",
   "name": "python",
   "nbconvert_exporter": "python",
   "pygments_lexer": "ipython3",
   "version": "3.6.5"
  }
 },
 "nbformat": 4,
 "nbformat_minor": 2
}
