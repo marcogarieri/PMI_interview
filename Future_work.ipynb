{
 "cells": [
  {
   "cell_type": "code",
   "execution_count": null,
   "metadata": {},
   "outputs": [],
   "source": [
    "%load_ext autoreload\n",
    "%autoreload 2\n",
    "\n",
    "%matplotlib inline"
   ]
  },
  {
   "cell_type": "markdown",
   "metadata": {},
   "source": [
    "Load libraries"
   ]
  },
  {
   "cell_type": "code",
   "execution_count": null,
   "metadata": {},
   "outputs": [],
   "source": [
    "from fastai.imports import *\n",
    "from fastai.structured import *\n",
    "from sklearn.model_selection import train_test_split\n",
    "from sklearn.ensemble import RandomForestRegressor, RandomForestClassifier\n",
    "from sklearn import metrics\n",
    "from dill import load_session"
   ]
  },
  {
   "cell_type": "markdown",
   "metadata": {},
   "source": [
    "Load environment"
   ]
  },
  {
   "cell_type": "code",
   "execution_count": 1,
   "metadata": {},
   "outputs": [
    {
     "ename": "NameError",
     "evalue": "name 'dill' is not defined",
     "output_type": "error",
     "traceback": [
      "\u001b[0;31m---------------------------------------------------------------------------\u001b[0m",
      "\u001b[0;31mNameError\u001b[0m                                 Traceback (most recent call last)",
      "\u001b[0;32m<ipython-input-1-8e9b0ed651bc>\u001b[0m in \u001b[0;36m<module>\u001b[0;34m()\u001b[0m\n\u001b[0;32m----> 1\u001b[0;31m \u001b[0mdill\u001b[0m\u001b[0;34m.\u001b[0m\u001b[0mload_session\u001b[0m\u001b[0;34m(\u001b[0m\u001b[0;34m'tmp/globalsave.pkl'\u001b[0m\u001b[0;34m)\u001b[0m\u001b[0;34m\u001b[0m\u001b[0m\n\u001b[0m",
      "\u001b[0;31mNameError\u001b[0m: name 'dill' is not defined"
     ]
    }
   ],
   "source": [
    "dill.load_session('tmp/globalsave.pkl')"
   ]
  },
  {
   "cell_type": "markdown",
   "metadata": {},
   "source": [
    "## Future work plan\n",
    " __Goal: Integrate the time information into the analysis.__\n",
    "        - Seasonality analysis: important to select the correct test set (few daya at the beginning and more at the end)        \n",
    "        -Info about geo location of the shop, to calculate distance from surroundings location."
   ]
  },
  {
   "cell_type": "markdown",
   "metadata": {},
   "source": [
    "## Seasonality"
   ]
  },
  {
   "cell_type": "code",
   "execution_count": null,
   "metadata": {},
   "outputs": [],
   "source": [
    "def all_POSs_aggregate(x):\n",
    "    d = {}\n",
    "    d['Dayofweek'] = x['Dayofweek'].iloc[0]\n",
    "    d['n_shops'] = x['store_code'].nunique()\n",
    "    d['n_open_shops'] = np.count_nonzero(x['volume_day'])\n",
    "    d['tot_volume'] = x['volume_day'].sum()\n",
    "    return pd.Series(d, index=['Dayofweek','n_shops','n_open_shops','tot_volume'])\n",
    "\n",
    "seasonality = df_aggregate_per_day_short_with_info_filter.groupby('date').apply(all_POSs_aggregate)\n",
    "seasonality['norm_volume'] = seasonality.tot_volume/seasonality.n_shops\n",
    "seasonality['norm_volume_open'] = seasonality.tot_volume/seasonality.n_open_shops\n",
    "seasonality.head()"
   ]
  },
  {
   "cell_type": "code",
   "execution_count": null,
   "metadata": {},
   "outputs": [],
   "source": [
    "plt.plot(seasonality.norm_volume);\n",
    "plt.axvline(x='2016-11-10');\n",
    "plt.axvline(x='2016-04-01');\n",
    "plt.xlabel('Date');\n",
    "plt.ylabel('TotVolume/#POSs');"
   ]
  },
  {
   "cell_type": "markdown",
   "metadata": {},
   "source": [
    "We see big variability at the beginning of the time series, suggesting a seasonality effect (ups and downs). \n",
    "The down picks are due to the sundays."
   ]
  },
  {
   "cell_type": "code",
   "execution_count": null,
   "metadata": {},
   "outputs": [],
   "source": [
    "plt.plot(seasonality.norm_volume_open);\n",
    "plt.axvline(x='2016-11-10');\n",
    "plt.axvline(x='2016-04-01');\n",
    "plt.xlabel('Date');\n",
    "plt.ylabel('TotVolume/#POSs open');"
   ]
  },
  {
   "cell_type": "markdown",
   "metadata": {},
   "source": [
    "In this plot, we normalized the volume by the shops that sold something, since we don't know if no sell is shop closed or shop not selling."
   ]
  },
  {
   "cell_type": "code",
   "execution_count": null,
   "metadata": {},
   "outputs": [],
   "source": [
    "plt.plot(seasonality.n_shops, marker = 'o')\n",
    "plt.axvline(x='2016-11-10');\n",
    "plt.axvline(x='2016-04-01');\n",
    "plt.xlabel('Date');\n",
    "plt.ylabel('#POSs');"
   ]
  },
  {
   "cell_type": "markdown",
   "metadata": {},
   "source": [
    "When we control for the number of shops for each time point, we clearly see that the big variability observed at the beginning is due to few observation available. It seems that more and more information were available along time. It seems that the information about sell started to be increased by the end of 2016 (vertical line on the 10th November 2016). Already at April 2016 we see an increase in the number of shops. The last drop we see at the end of the time series might be due to just lag in receiving information."
   ]
  }
 ],
 "metadata": {
  "kernelspec": {
   "display_name": "Python 3",
   "language": "python",
   "name": "python3"
  },
  "language_info": {
   "codemirror_mode": {
    "name": "ipython",
    "version": 3
   },
   "file_extension": ".py",
   "mimetype": "text/x-python",
   "name": "python",
   "nbconvert_exporter": "python",
   "pygments_lexer": "ipython3",
   "version": "3.6.5"
  }
 },
 "nbformat": 4,
 "nbformat_minor": 2
}
